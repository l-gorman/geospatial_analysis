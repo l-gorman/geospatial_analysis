{
 "cells": [
  {
   "cell_type": "code",
   "execution_count": 129,
   "metadata": {},
   "outputs": [],
   "source": [
    "from shapely.geometry import Polygon,Point\n",
    "import geopandas as gpd\n",
    "import matplotlib.pyplot as plt\n",
    "%matplotlib inline\n",
    "\n",
    "\n",
    "polys1 = gpd.GeoSeries([Polygon([(0,0), (2,0), (2,2), (0,2)]),\n",
    "                               Polygon([(2,2), (4,2), (4,4), (2,4)])])\n",
    " \n",
    "\n",
    "polys2 = gpd.GeoSeries([Polygon([(1,1), (3,1), (3,3), (1,3)]),\n",
    "                               Polygon([(3,3), (5,3), (5,5), (3,5)])])\n",
    " \n",
    "\n",
    "df1 = gpd.GeoDataFrame({'geometry': polys1, 'df1':[1,2]})\n",
    "\n",
    "df2 = gpd.GeoDataFrame({'geometry': polys2, 'df2':[1,2]})"
   ]
  },
  {
   "cell_type": "code",
   "execution_count": 130,
   "metadata": {},
   "outputs": [
    {
     "data": {
      "text/plain": [
       "<function matplotlib.pyplot.show(*args, **kw)>"
      ]
     },
     "execution_count": 130,
     "metadata": {},
     "output_type": "execute_result"
    },
    {
     "data": {
      "image/png": "[encoded data removed]",
      "text/plain": [
       "<Figure size 432x288 with 1 Axes>"
      ]
     },
     "metadata": {
      "needs_background": "light"
     },
     "output_type": "display_data"
    }
   ],
   "source": [
    "fig, ax=plt.subplots()\n",
    "polys1.plot(ax=ax,color=\"green\",edgecolor=\"black\", alpha=0.5)\n",
    "polys2.plot(ax=ax,color=\"blue\",edgecolor=\"black\", alpha=0.5)\n",
    "\n",
    "plt.show\n",
    "\n",
    "#res_union = gpd.overlay(df1, df2, how='intersection')"
   ]
  },
  {
   "cell_type": "code",
   "execution_count": 131,
   "metadata": {},
   "outputs": [
    {
     "data": {
      "text/plain": [
       "<matplotlib.axes._subplots.AxesSubplot at 0x1ed375cbec8>"
      ]
     },
     "execution_count": 131,
     "metadata": {},
     "output_type": "execute_result"
    },
    {
     "data": {
      "image/png": "[encoded data removed]",
      "text/plain": [
       "<Figure size 432x288 with 1 Axes>"
      ]
     },
     "metadata": {
      "needs_background": "light"
     },
     "output_type": "display_data"
    }
   ],
   "source": [
    "res_union = gpd.overlay(df1, df2, how='symmetric_difference')\n",
    "res_union2 = gpd.overlay(df1, df2, how='intersection')\n",
    "\n",
    "\n",
    "fig, ax =plt.subplots()\n",
    "res_union.plot(ax=ax,color=\"green\", edgecolor=\"black\", alpha=0.5)\n",
    "res_union2.plot(ax=ax,color=\"blue\", edgecolor=\"black\", alpha=0.5)"
   ]
  },
  {
   "cell_type": "code",
   "execution_count": 132,
   "metadata": {},
   "outputs": [],
   "source": [
    "res_union_3=gpd.overlay(res_union,res_union2,how='union')\n"
   ]
  },
  {
   "cell_type": "code",
   "execution_count": 133,
   "metadata": {},
   "outputs": [
    {
     "data": {
      "text/plain": [
       "0    POLYGON ((0.00000 0.00000, 0.00000 2.00000, 1....\n",
       "1    MULTIPOLYGON (((2.00000 3.00000, 2.00000 4.000...\n",
       "2    MULTIPOLYGON (((1.00000 2.00000, 1.00000 3.000...\n",
       "3    POLYGON ((3.00000 4.00000, 3.00000 5.00000, 5....\n",
       "4    POLYGON ((1.00000 2.00000, 2.00000 2.00000, 2....\n",
       "5    POLYGON ((2.00000 2.00000, 2.00000 3.00000, 3....\n",
       "6    POLYGON ((3.00000 4.00000, 4.00000 4.00000, 4....\n",
       "Name: geometry, dtype: geometry"
      ]
     },
     "execution_count": 133,
     "metadata": {},
     "output_type": "execute_result"
    }
   ],
   "source": [
    "res_union_3[\"geometry\"]"
   ]
  },
  {
   "cell_type": "code",
   "execution_count": 134,
   "metadata": {},
   "outputs": [
    {
     "data": {
      "text/plain": [
       "<matplotlib.axes._subplots.AxesSubplot at 0x1ed376b8788>"
      ]
     },
     "execution_count": 134,
     "metadata": {},
     "output_type": "execute_result"
    },
    {
     "data": {
      "image/png": "[encoded data removed]",
      "text/plain": [
       "<Figure size 432x288 with 1 Axes>"
      ]
     },
     "metadata": {
      "needs_background": "light"
     },
     "output_type": "display_data"
    }
   ],
   "source": [
    "res_union_5 = gpd.overlay(df1, df2, how='union')\n",
    "res_union_5.plot(edgecolor=\"black\")"
   ]
  },
  {
   "cell_type": "code",
   "execution_count": 135,
   "metadata": {},
   "outputs": [
    {
     "data": {
      "text/html": [
       "<div>\n",
       "<style scoped>\n",
       "    .dataframe tbody tr th:only-of-type {\n",
       "        vertical-align: middle;\n",
       "    }\n",
       "\n",
       "    .dataframe tbody tr th {\n",
       "        vertical-align: top;\n",
       "    }\n",
       "\n",
       "    .dataframe thead th {\n",
       "        text-align: right;\n",
       "    }\n",
       "</style>\n",
       "<table border=\"1\" class=\"dataframe\">\n",
       "  <thead>\n",
       "    <tr style=\"text-align: right;\">\n",
       "      <th></th>\n",
       "      <th>df1</th>\n",
       "      <th>df2</th>\n",
       "      <th>geometry</th>\n",
       "    </tr>\n",
       "  </thead>\n",
       "  <tbody>\n",
       "    <tr>\n",
       "      <td>0</td>\n",
       "      <td>1.0</td>\n",
       "      <td>1.0</td>\n",
       "      <td>POLYGON ((1.00000 2.00000, 2.00000 2.00000, 2....</td>\n",
       "    </tr>\n",
       "    <tr>\n",
       "      <td>1</td>\n",
       "      <td>2.0</td>\n",
       "      <td>1.0</td>\n",
       "      <td>POLYGON ((2.00000 2.00000, 2.00000 3.00000, 3....</td>\n",
       "    </tr>\n",
       "    <tr>\n",
       "      <td>2</td>\n",
       "      <td>2.0</td>\n",
       "      <td>2.0</td>\n",
       "      <td>POLYGON ((3.00000 4.00000, 4.00000 4.00000, 4....</td>\n",
       "    </tr>\n",
       "    <tr>\n",
       "      <td>3</td>\n",
       "      <td>1.0</td>\n",
       "      <td>NaN</td>\n",
       "      <td>POLYGON ((0.00000 0.00000, 0.00000 2.00000, 1....</td>\n",
       "    </tr>\n",
       "    <tr>\n",
       "      <td>4</td>\n",
       "      <td>2.0</td>\n",
       "      <td>NaN</td>\n",
       "      <td>MULTIPOLYGON (((2.00000 3.00000, 2.00000 4.000...</td>\n",
       "    </tr>\n",
       "    <tr>\n",
       "      <td>5</td>\n",
       "      <td>NaN</td>\n",
       "      <td>1.0</td>\n",
       "      <td>MULTIPOLYGON (((1.00000 2.00000, 1.00000 3.000...</td>\n",
       "    </tr>\n",
       "    <tr>\n",
       "      <td>6</td>\n",
       "      <td>NaN</td>\n",
       "      <td>2.0</td>\n",
       "      <td>POLYGON ((3.00000 4.00000, 3.00000 5.00000, 5....</td>\n",
       "    </tr>\n",
       "  </tbody>\n",
       "</table>\n",
       "</div>"
      ],
      "text/plain": [
       "   df1  df2                                           geometry\n",
       "0  1.0  1.0  POLYGON ((1.00000 2.00000, 2.00000 2.00000, 2....\n",
       "1  2.0  1.0  POLYGON ((2.00000 2.00000, 2.00000 3.00000, 3....\n",
       "2  2.0  2.0  POLYGON ((3.00000 4.00000, 4.00000 4.00000, 4....\n",
       "3  1.0  NaN  POLYGON ((0.00000 0.00000, 0.00000 2.00000, 1....\n",
       "4  2.0  NaN  MULTIPOLYGON (((2.00000 3.00000, 2.00000 4.000...\n",
       "5  NaN  1.0  MULTIPOLYGON (((1.00000 2.00000, 1.00000 3.000...\n",
       "6  NaN  2.0  POLYGON ((3.00000 4.00000, 3.00000 5.00000, 5...."
      ]
     },
     "execution_count": 135,
     "metadata": {},
     "output_type": "execute_result"
    }
   ],
   "source": [
    "res_union_5"
   ]
  },
  {
   "cell_type": "code",
   "execution_count": 136,
   "metadata": {},
   "outputs": [
    {
     "data": {
      "text/html": [
       "<div>\n",
       "<style scoped>\n",
       "    .dataframe tbody tr th:only-of-type {\n",
       "        vertical-align: middle;\n",
       "    }\n",
       "\n",
       "    .dataframe tbody tr th {\n",
       "        vertical-align: top;\n",
       "    }\n",
       "\n",
       "    .dataframe thead th {\n",
       "        text-align: right;\n",
       "    }\n",
       "</style>\n",
       "<table border=\"1\" class=\"dataframe\">\n",
       "  <thead>\n",
       "    <tr style=\"text-align: right;\">\n",
       "      <th></th>\n",
       "      <th>geometry</th>\n",
       "      <th>df1</th>\n",
       "      <th>index_right</th>\n",
       "      <th>df2</th>\n",
       "    </tr>\n",
       "  </thead>\n",
       "  <tbody>\n",
       "    <tr>\n",
       "      <td>0</td>\n",
       "      <td>POLYGON ((0.00000 0.00000, 2.00000 0.00000, 2....</td>\n",
       "      <td>1</td>\n",
       "      <td>0</td>\n",
       "      <td>1</td>\n",
       "    </tr>\n",
       "    <tr>\n",
       "      <td>1</td>\n",
       "      <td>POLYGON ((2.00000 2.00000, 4.00000 2.00000, 4....</td>\n",
       "      <td>2</td>\n",
       "      <td>0</td>\n",
       "      <td>1</td>\n",
       "    </tr>\n",
       "    <tr>\n",
       "      <td>1</td>\n",
       "      <td>POLYGON ((2.00000 2.00000, 4.00000 2.00000, 4....</td>\n",
       "      <td>2</td>\n",
       "      <td>1</td>\n",
       "      <td>2</td>\n",
       "    </tr>\n",
       "  </tbody>\n",
       "</table>\n",
       "</div>"
      ],
      "text/plain": [
       "                                            geometry  df1  index_right  df2\n",
       "0  POLYGON ((0.00000 0.00000, 2.00000 0.00000, 2....    1            0    1\n",
       "1  POLYGON ((2.00000 2.00000, 4.00000 2.00000, 4....    2            0    1\n",
       "1  POLYGON ((2.00000 2.00000, 4.00000 2.00000, 4....    2            1    2"
      ]
     },
     "execution_count": 136,
     "metadata": {},
     "output_type": "execute_result"
    }
   ],
   "source": [
    "gpd.sjoin(df1,df2,how=\"left\", op=\"intersects\")\n"
   ]
  },
  {
   "cell_type": "code",
   "execution_count": 160,
   "metadata": {},
   "outputs": [
    {
     "data": {
      "text/plain": [
       "<function matplotlib.pyplot.show(*args, **kw)>"
      ]
     },
     "execution_count": 160,
     "metadata": {},
     "output_type": "execute_result"
    },
    {
     "data": {
      "image/png": "[encoded data removed]",
      "text/plain": [
       "<Figure size 432x288 with 1 Axes>"
      ]
     },
     "metadata": {
      "needs_background": "light"
     },
     "output_type": "display_data"
    }
   ],
   "source": [
    "polys1 = gpd.GeoSeries([Polygon([(0,0), (2,0), (2,2), (0,2)]), #top country\n",
    "                        Polygon([(0,0), (0,-2), (2,-2), (2,0)])]) #bottom country\n",
    "#polys1.plot(edgecolor=\"black\", alpha=0.5) \n",
    "\n",
    "\n",
    "\n",
    "polys2 = gpd.GeoSeries([Polygon([(0,0), (0,1), (1,1), (1,0)]), # Grid A (top country only)\n",
    "                       Polygon([(0,0), (0,-1), (1,-1), (1,0)]), # Grid B (bottom country only)\n",
    "                       Polygon([(1,-0.5), (1,0.5), (2,0.5), (2,-0.5)]), # Grid C (half in top country half in bottom)\n",
    "                       Polygon([(0,-1), (-1,-1), (-1,-2), (0,-2)]), # Grid D (Fully outside both countrys)\n",
    "                       Polygon([(0,1), (0,3), (1,3), (1,1)])]) # Grid E (half in top country half outside)\n",
    "\n",
    "\n",
    "points= gpd.GeoSeries([Point([(0.5,0.5)]), # In Grid A \n",
    "                      Point([(0.5,-0.5)]), # In Grid B\n",
    "                      Point([(0.6,-0.6)]), # In Grid B\n",
    "                      Point([(1.5,0.25)]), # In Grid C top country\n",
    "                      Point([(1.6,0.26)]), # In Grid C top country\n",
    "                      Point([(1.5,-0.25)]), # In Grid C bottom country\n",
    "                      Point([(1.5,1)]), # No grid but in top country\n",
    "                      Point([(0.5,1.75)]), # Grid E top country\n",
    "                      Point([(0.5,2.25)]), # Grid E outside of both countries\n",
    "                      Point([(1,-1.5)]), # No grid but in bottom country\n",
    "                      Point([(-0.5,-1.5)]), # Grid D\n",
    "                      Point([(3,0)])]) # Comletely outside\n",
    "                \n",
    "\n",
    "\n",
    "countries_df = gpd.GeoDataFrame({'geometry': polys1, 'country':[\"TOP_CONTAINER\", \"BOTTOM_CONTAINER\"]})\n",
    "grid_df = gpd.GeoDataFrame({'geometry': polys2, 'grid':[\"Grid_A: ALL_IN_TOP\",\"Grid_B: ALL_IN_BOTTOM\",\"Grid C: HALF_TOP_HALF_BOTTOM\",\"Grid D: FULLY_OUTSIDE\",\"Grid E: HALF_IN_TOP_HALF_OUTSIDE\"]})\n",
    "points_df = gpd.GeoDataFrame({'geometry': points, 'point':[\"Grid_A\", \"Grid_B\",\"Grid_B_second_point\", \"Grid C: Top\",\"Grid C: Top second\", \"Grid C Bottom\",\"No grid top\", \"Grid E top\", \"Grid E no country\", \"No grid bottom country\", \"Grid D no country\", \"No country no grid\"]})\n",
    "\n",
    "#polys2.plot(edgecolor=\"black\", alpha=0.5) \n",
    "\n",
    "fig, ax= plt.subplots()\n",
    "\n",
    "countries_df.plot(edgecolor=\"black\", color=\"blue\", ax=ax, alpha=0.5)\n",
    "grid_df.plot(edgecolor=\"black\", color=\"green\", ax=ax, alpha=0.5)\n",
    "points_df.plot(color=\"black\", ax=ax)\n",
    "\n",
    "plt.show"
   ]
  },
  {
   "cell_type": "code",
   "execution_count": 161,
   "metadata": {},
   "outputs": [
    {
     "data": {
      "text/plain": [
       "<matplotlib.axes._subplots.AxesSubplot at 0x1ed3625d208>"
      ]
     },
     "execution_count": 161,
     "metadata": {},
     "output_type": "execute_result"
    },
    {
     "data": {
      "image/png": "[encoded data removed]",
      "text/plain": [
       "<Figure size 432x288 with 1 Axes>"
      ]
     },
     "metadata": {
      "needs_background": "light"
     },
     "output_type": "display_data"
    },
    {
     "data": {
      "image/png": "[encoded data removed]",
      "text/plain": [
       "<Figure size 432x288 with 1 Axes>"
      ]
     },
     "metadata": {
      "needs_background": "light"
     },
     "output_type": "display_data"
    }
   ],
   "source": [
    "import pandas as pd\n",
    "grid_overlay=gpd.overlay(countries_df,grid_df, \"identity\")\n",
    "grid_overlay=pd.merge(grid_overlay, countries_df, how=\"left\",on=\"country\", suffixes=[\"_grid\",\"_country\"])\n",
    "\n",
    "grid_overlay.set_geometry(\"geometry_country\").plot(edgecolor=\"black\")\n",
    "grid_overlay.set_geometry(\"geometry_grid\").plot(edgecolor=\"black\")\n",
    "\n",
    "#grid_overlay"
   ]
  },
  {
   "cell_type": "code",
   "execution_count": 163,
   "metadata": {},
   "outputs": [],
   "source": [
    "#grid_overlay.set_geometry(\"geometry_grid\")\n",
    "\n",
    "#grid_overlay.columns=[\"geometry\" if column_names==\"geometry_grid\" else column_names for column_names in grid_overlay.columns]\n",
    "points_overlay=gpd.sjoin(grid_overlay.set_geometry(\"geometry_grid\"),points_df,op=\"contains\")\n",
    "points_df=pd.merge(points_overlay, points_df, how=\"left\",on=\"point\", suffixes=[\"_grid\",\"_point\"])\n",
    "\n",
    "                    \n",
    "#grid_overlay.set_geometry(\"geometry_grid\")\n",
    "\n",
    "#grid_overlay=pd.merge(grid_overlay, points_df, how=\"left\",on=\"point\", suffixes=[\"_grid\",\"_point\"])\n"
   ]
  },
  {
   "cell_type": "code",
   "execution_count": 164,
   "metadata": {},
   "outputs": [
    {
     "data": {
      "text/html": [
       "<div>\n",
       "<style scoped>\n",
       "    .dataframe tbody tr th:only-of-type {\n",
       "        vertical-align: middle;\n",
       "    }\n",
       "\n",
       "    .dataframe tbody tr th {\n",
       "        vertical-align: top;\n",
       "    }\n",
       "\n",
       "    .dataframe thead th {\n",
       "        text-align: right;\n",
       "    }\n",
       "</style>\n",
       "<table border=\"1\" class=\"dataframe\">\n",
       "  <thead>\n",
       "    <tr style=\"text-align: right;\">\n",
       "      <th></th>\n",
       "      <th>country</th>\n",
       "      <th>grid</th>\n",
       "      <th>geometry_grid</th>\n",
       "      <th>geometry_country</th>\n",
       "      <th>index_right</th>\n",
       "      <th>point</th>\n",
       "      <th>geometry</th>\n",
       "    </tr>\n",
       "  </thead>\n",
       "  <tbody>\n",
       "    <tr>\n",
       "      <td>0</td>\n",
       "      <td>TOP_CONTAINER</td>\n",
       "      <td>Grid_A: ALL_IN_TOP</td>\n",
       "      <td>POLYGON ((0.00000 0.00000, 0.00000 1.00000, 1....</td>\n",
       "      <td>POLYGON ((0.00000 0.00000, 2.00000 0.00000, 2....</td>\n",
       "      <td>0</td>\n",
       "      <td>Grid_A</td>\n",
       "      <td>POINT (0.50000 0.50000)</td>\n",
       "    </tr>\n",
       "    <tr>\n",
       "      <td>1</td>\n",
       "      <td>TOP_CONTAINER</td>\n",
       "      <td>Grid E: HALF_IN_TOP_HALF_OUTSIDE</td>\n",
       "      <td>POLYGON ((0.00000 1.00000, 0.00000 2.00000, 1....</td>\n",
       "      <td>POLYGON ((0.00000 0.00000, 2.00000 0.00000, 2....</td>\n",
       "      <td>7</td>\n",
       "      <td>Grid E top</td>\n",
       "      <td>POINT (0.50000 1.75000)</td>\n",
       "    </tr>\n",
       "    <tr>\n",
       "      <td>2</td>\n",
       "      <td>TOP_CONTAINER</td>\n",
       "      <td>Grid C: HALF_TOP_HALF_BOTTOM</td>\n",
       "      <td>POLYGON ((2.00000 0.50000, 2.00000 0.00000, 1....</td>\n",
       "      <td>POLYGON ((0.00000 0.00000, 2.00000 0.00000, 2....</td>\n",
       "      <td>3</td>\n",
       "      <td>Grid C: Top</td>\n",
       "      <td>POINT (1.50000 0.25000)</td>\n",
       "    </tr>\n",
       "    <tr>\n",
       "      <td>3</td>\n",
       "      <td>TOP_CONTAINER</td>\n",
       "      <td>Grid C: HALF_TOP_HALF_BOTTOM</td>\n",
       "      <td>POLYGON ((2.00000 0.50000, 2.00000 0.00000, 1....</td>\n",
       "      <td>POLYGON ((0.00000 0.00000, 2.00000 0.00000, 2....</td>\n",
       "      <td>4</td>\n",
       "      <td>Grid C: Top second</td>\n",
       "      <td>POINT (1.60000 0.26000)</td>\n",
       "    </tr>\n",
       "    <tr>\n",
       "      <td>4</td>\n",
       "      <td>BOTTOM_CONTAINER</td>\n",
       "      <td>Grid C: HALF_TOP_HALF_BOTTOM</td>\n",
       "      <td>POLYGON ((1.00000 0.00000, 2.00000 0.00000, 2....</td>\n",
       "      <td>POLYGON ((0.00000 0.00000, 0.00000 -2.00000, 2...</td>\n",
       "      <td>5</td>\n",
       "      <td>Grid C Bottom</td>\n",
       "      <td>POINT (1.50000 -0.25000)</td>\n",
       "    </tr>\n",
       "    <tr>\n",
       "      <td>5</td>\n",
       "      <td>BOTTOM_CONTAINER</td>\n",
       "      <td>Grid_B: ALL_IN_BOTTOM</td>\n",
       "      <td>POLYGON ((0.00000 0.00000, 1.00000 0.00000, 1....</td>\n",
       "      <td>POLYGON ((0.00000 0.00000, 0.00000 -2.00000, 2...</td>\n",
       "      <td>1</td>\n",
       "      <td>Grid_B</td>\n",
       "      <td>POINT (0.50000 -0.50000)</td>\n",
       "    </tr>\n",
       "    <tr>\n",
       "      <td>6</td>\n",
       "      <td>BOTTOM_CONTAINER</td>\n",
       "      <td>Grid_B: ALL_IN_BOTTOM</td>\n",
       "      <td>POLYGON ((0.00000 0.00000, 1.00000 0.00000, 1....</td>\n",
       "      <td>POLYGON ((0.00000 0.00000, 0.00000 -2.00000, 2...</td>\n",
       "      <td>2</td>\n",
       "      <td>Grid_B_second_point</td>\n",
       "      <td>POINT (0.60000 -0.60000)</td>\n",
       "    </tr>\n",
       "    <tr>\n",
       "      <td>7</td>\n",
       "      <td>TOP_CONTAINER</td>\n",
       "      <td>NaN</td>\n",
       "      <td>POLYGON ((1.00000 2.00000, 2.00000 2.00000, 2....</td>\n",
       "      <td>POLYGON ((0.00000 0.00000, 2.00000 0.00000, 2....</td>\n",
       "      <td>6</td>\n",
       "      <td>No grid top</td>\n",
       "      <td>POINT (1.50000 1.00000)</td>\n",
       "    </tr>\n",
       "    <tr>\n",
       "      <td>8</td>\n",
       "      <td>BOTTOM_CONTAINER</td>\n",
       "      <td>NaN</td>\n",
       "      <td>POLYGON ((2.00000 -0.50000, 2.00000 -2.00000, ...</td>\n",
       "      <td>POLYGON ((0.00000 0.00000, 0.00000 -2.00000, 2...</td>\n",
       "      <td>9</td>\n",
       "      <td>No grid bottom country</td>\n",
       "      <td>POINT (1.00000 -1.50000)</td>\n",
       "    </tr>\n",
       "  </tbody>\n",
       "</table>\n",
       "</div>"
      ],
      "text/plain": [
       "            country                              grid  \\\n",
       "0     TOP_CONTAINER                Grid_A: ALL_IN_TOP   \n",
       "1     TOP_CONTAINER  Grid E: HALF_IN_TOP_HALF_OUTSIDE   \n",
       "2     TOP_CONTAINER      Grid C: HALF_TOP_HALF_BOTTOM   \n",
       "3     TOP_CONTAINER      Grid C: HALF_TOP_HALF_BOTTOM   \n",
       "4  BOTTOM_CONTAINER      Grid C: HALF_TOP_HALF_BOTTOM   \n",
       "5  BOTTOM_CONTAINER             Grid_B: ALL_IN_BOTTOM   \n",
       "6  BOTTOM_CONTAINER             Grid_B: ALL_IN_BOTTOM   \n",
       "7     TOP_CONTAINER                               NaN   \n",
       "8  BOTTOM_CONTAINER                               NaN   \n",
       "\n",
       "                                       geometry_grid  \\\n",
       "0  POLYGON ((0.00000 0.00000, 0.00000 1.00000, 1....   \n",
       "1  POLYGON ((0.00000 1.00000, 0.00000 2.00000, 1....   \n",
       "2  POLYGON ((2.00000 0.50000, 2.00000 0.00000, 1....   \n",
       "3  POLYGON ((2.00000 0.50000, 2.00000 0.00000, 1....   \n",
       "4  POLYGON ((1.00000 0.00000, 2.00000 0.00000, 2....   \n",
       "5  POLYGON ((0.00000 0.00000, 1.00000 0.00000, 1....   \n",
       "6  POLYGON ((0.00000 0.00000, 1.00000 0.00000, 1....   \n",
       "7  POLYGON ((1.00000 2.00000, 2.00000 2.00000, 2....   \n",
       "8  POLYGON ((2.00000 -0.50000, 2.00000 -2.00000, ...   \n",
       "\n",
       "                                    geometry_country  index_right  \\\n",
       "0  POLYGON ((0.00000 0.00000, 2.00000 0.00000, 2....            0   \n",
       "1  POLYGON ((0.00000 0.00000, 2.00000 0.00000, 2....            7   \n",
       "2  POLYGON ((0.00000 0.00000, 2.00000 0.00000, 2....            3   \n",
       "3  POLYGON ((0.00000 0.00000, 2.00000 0.00000, 2....            4   \n",
       "4  POLYGON ((0.00000 0.00000, 0.00000 -2.00000, 2...            5   \n",
       "5  POLYGON ((0.00000 0.00000, 0.00000 -2.00000, 2...            1   \n",
       "6  POLYGON ((0.00000 0.00000, 0.00000 -2.00000, 2...            2   \n",
       "7  POLYGON ((0.00000 0.00000, 2.00000 0.00000, 2....            6   \n",
       "8  POLYGON ((0.00000 0.00000, 0.00000 -2.00000, 2...            9   \n",
       "\n",
       "                    point                  geometry  \n",
       "0                  Grid_A   POINT (0.50000 0.50000)  \n",
       "1              Grid E top   POINT (0.50000 1.75000)  \n",
       "2             Grid C: Top   POINT (1.50000 0.25000)  \n",
       "3      Grid C: Top second   POINT (1.60000 0.26000)  \n",
       "4           Grid C Bottom  POINT (1.50000 -0.25000)  \n",
       "5                  Grid_B  POINT (0.50000 -0.50000)  \n",
       "6     Grid_B_second_point  POINT (0.60000 -0.60000)  \n",
       "7             No grid top   POINT (1.50000 1.00000)  \n",
       "8  No grid bottom country  POINT (1.00000 -1.50000)  "
      ]
     },
     "execution_count": 164,
     "metadata": {},
     "output_type": "execute_result"
    }
   ],
   "source": [
    "points_df"
   ]
  },
  {
   "cell_type": "code",
   "execution_count": 176,
   "metadata": {},
   "outputs": [],
   "source": [
    "polys1 = gpd.GeoSeries([Polygon([(0,0), (2,0), (2,2), (0,2)]), #top country\n",
    "                        Polygon([(0,0), (0,-2), (2,-2), (2,0)])]) #bottom country\n",
    "#polys1.plot(edgecolor=\"black\", alpha=0.5) \n",
    "\n",
    "\n",
    "\n",
    "polys2 = gpd.GeoSeries([Polygon([(0,0), (0,1), (1,1), (1,0)]), # Grid A (top country only)\n",
    "                       Polygon([(0,0), (0,-1), (1,-1), (1,0)]), # Grid B (bottom country only)\n",
    "                       Polygon([(1,-0.5), (1,0.5), (2,0.5), (2,-0.5)]), # Grid C (half in top country half in bottom)\n",
    "                       Polygon([(0,-1), (-1,-1), (-1,-2), (0,-2)]), # Grid D (Fully outside both countrys)\n",
    "                       Polygon([(0,1), (0,3), (1,3), (1,1)])]) # Grid E (half in top country half outside)\n",
    "\n",
    "\n",
    "points= gpd.GeoSeries([Point([(0.5,0.5)]), # In Grid A \n",
    "                      Point([(0.5,-0.5)]), # In Grid B\n",
    "                      Point([(0.6,-0.6)]), # In Grid B\n",
    "                      Point([(1.5,0.25)]), # In Grid C top country\n",
    "                      Point([(1.6,0.26)]), # In Grid C top country\n",
    "                      Point([(1.5,-0.25)]), # In Grid C bottom country\n",
    "                      Point([(1.5,1)]), # No grid but in top country\n",
    "                      Point([(0.5,1.75)]), # Grid E top country\n",
    "                      Point([(0.5,2.25)]), # Grid E outside of both countries\n",
    "                      Point([(1,-1.5)]), # No grid but in bottom country\n",
    "                      Point([(-0.5,-1.5)]), # Grid D\n",
    "                      Point([(3,0)])]) # Comletely outside\n",
    "                \n",
    "\n",
    "\n",
    "countries_df = gpd.GeoDataFrame({'geometry': polys1, 'country':[\"TOP_CONTAINER\", \"BOTTOM_CONTAINER\"]})\n",
    "grid_df = gpd.GeoDataFrame({'geometry': polys2, 'grid':[\"Grid_A: ALL_IN_TOP\",\"Grid_B: ALL_IN_BOTTOM\",\"Grid C: HALF_TOP_HALF_BOTTOM\",\"Grid D: FULLY_OUTSIDE\",\"Grid E: HALF_IN_TOP_HALF_OUTSIDE\"]})\n",
    "points_df = gpd.GeoDataFrame({'geometry': points, 'point':[\"Grid_A\", \"Grid_B\",\"Grid_B_second_point\", \"Grid C: Top\",\"Grid C: Top second\", \"Grid C Bottom\",\"No grid top\", \"Grid E top\", \"Grid E no country\", \"No grid bottom country\", \"Grid D no country\", \"No country no grid\"]})\n",
    "\n",
    "#polys2.plot(edgecolor=\"black\", alpha=0.5) \n",
    "\n",
    "\n",
    "\n",
    "\n",
    "\n",
    "def nesting_points_within_grids_within_countries(point_dataframe,point_ID,grid_dataframe,grid_ID,world_dataframe,country_ID):\n",
    "    \n",
    "    grid_overlay=gpd.overlay(countries_df,grid_df, \"identity\")\n",
    "    grid_overlay=pd.merge(grid_overlay, countries_df, how=\"left\",on=country_ID, suffixes=[\"_grid\",\"_country\"])\n",
    "\n",
    "    \n",
    "    #grid_overlay.set_geometry(\"geometry_country\").plot(edgecolor=\"black\")\n",
    "    #grid_overlay.set_geometry(\"geometry_grid\").plot(edgecolor=\"black\")\n",
    "        \n",
    "    points_overlay=gpd.sjoin(grid_overlay.set_geometry(\"geometry_grid\"),points_df,op=\"contains\")\n",
    "    points_within_grid_within_country=pd.merge(points_overlay, points_df, how=\"left\",on=point_ID, suffixes=[\"_grid\",\"_point\"])\n",
    "    points_within_grid_within_country.columns=[\"geometry_point\" if column_names==\"geometry\" else column_names for column_names in points_within_grid_within_country.columns]\n",
    "    return points_within_grid_within_country;\n",
    "\n",
    "\n",
    "\n",
    "points_within_grids_within_countries=nesting_points_within_grids_within_countries(point_dataframe=points_df,\n",
    "                                             point_ID=\"point\",\n",
    "                                             grid_dataframe=grid_df,\n",
    "                                             grid_ID=\"grid\",\n",
    "                                             world_dataframe=countries_df,\n",
    "                                             country_ID=\"country\")\n"
   ]
  },
  {
   "cell_type": "code",
   "execution_count": 182,
   "metadata": {},
   "outputs": [
    {
     "data": {
      "text/plain": [
       "<function matplotlib.pyplot.show(*args, **kw)>"
      ]
     },
     "execution_count": 182,
     "metadata": {},
     "output_type": "execute_result"
    },
    {
     "data": {
      "image/png": "[encoded data removed]",
      "text/plain": [
       "<Figure size 432x288 with 1 Axes>"
      ]
     },
     "metadata": {
      "needs_background": "light"
     },
     "output_type": "display_data"
    }
   ],
   "source": [
    "fig, ax= plt.subplots()\n",
    "\n",
    "#points_within_grids_within_countries.set_geometry(\"geometry_country\").plot(edgecolor=\"black\", color=\"blue\", ax=ax, alpha=0.5)\n",
    "points_within_grids_within_countries.set_geometry(\"geometry_grid\").plot(edgecolor=\"black\", color=\"green\", ax=ax, alpha=0.5)\n",
    "#points_within_grids_within_countries.set_geometry(\"geometry_point\").plot(color=\"black\", ax=ax)\n",
    "plt.show"
   ]
  },
  {
   "cell_type": "code",
   "execution_count": null,
   "metadata": {},
   "outputs": [],
   "source": []
  }
 ],
 "metadata": {
  "kernelspec": {
   "display_name": "Python 3",
   "language": "python",
   "name": "python3"
  },
  "language_info": {
   "codemirror_mode": {
    "name": "ipython",
    "version": 3
   },
   "file_extension": ".py",
   "mimetype": "text/x-python",
   "name": "python",
   "nbconvert_exporter": "python",
   "pygments_lexer": "ipython3",
   "version": "3.7.4"
  }
 },
 "nbformat": 4,
 "nbformat_minor": 4
}
