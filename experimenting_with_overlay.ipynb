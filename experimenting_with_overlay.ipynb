{
 "cells": [
  {
   "cell_type": "code",
   "execution_count": null,
   "metadata": {},
   "outputs": [],
   "source": [
    "from shapely.geometry import Polygon,Point\n",
    "import geopandas as gpd\n",
    "import matplotlib.pyplot as plt\n",
    "%matplotlib inline\n",
    "\n",
    "\n",
    "polys1 = gpd.GeoSeries([Polygon([(0,0), (2,0), (2,2), (0,2)]),\n",
    "                               Polygon([(2,2), (4,2), (4,4), (2,4)])])\n",
    " \n",
    "\n",
    "polys2 = gpd.GeoSeries([Polygon([(1,1), (3,1), (3,3), (1,3)]),\n",
    "                               Polygon([(3,3), (5,3), (5,5), (3,5)])])\n",
    " \n",
    "\n",
    "df1 = gpd.GeoDataFrame({'geometry': polys1, 'df1':[1,2]})\n",
    "\n",
    "df2 = gpd.GeoDataFrame({'geometry': polys2, 'df2':[1,2]})"
   ]
  },
  {
   "cell_type": "code",
   "execution_count": null,
   "metadata": {},
   "outputs": [],
   "source": [
    "fig, ax=plt.subplots()\n",
    "polys1.plot(ax=ax,color=\"green\",edgecolor=\"black\", alpha=0.5)\n",
    "polys2.plot(ax=ax,color=\"blue\",edgecolor=\"black\", alpha=0.5)\n",
    "\n",
    "plt.show\n",
    "\n",
    "#res_union = gpd.overlay(df1, df2, how='intersection')"
   ]
  },
  {
   "cell_type": "code",
   "execution_count": null,
   "metadata": {},
   "outputs": [],
   "source": [
    "res_union = gpd.overlay(df1, df2, how='symmetric_difference')\n",
    "res_union2 = gpd.overlay(df1, df2, how='intersection')\n",
    "\n",
    "\n",
    "fig, ax =plt.subplots()\n",
    "res_union.plot(ax=ax,color=\"green\", edgecolor=\"black\", alpha=0.5)\n",
    "res_union2.plot(ax=ax,color=\"blue\", edgecolor=\"black\", alpha=0.5)"
   ]
  },
  {
   "cell_type": "code",
   "execution_count": null,
   "metadata": {},
   "outputs": [],
   "source": [
    "res_union_3=gpd.overlay(res_union,res_union2,how='union')\n"
   ]
  },
  {
   "cell_type": "code",
   "execution_count": null,
   "metadata": {},
   "outputs": [],
   "source": [
    "res_union_3[\"geometry\"]"
   ]
  },
  {
   "cell_type": "code",
   "execution_count": null,
   "metadata": {},
   "outputs": [],
   "source": [
    "res_union_5 = gpd.overlay(df1, df2, how='union')\n",
    "res_union_5.plot(edgecolor=\"black\")"
   ]
  },
  {
   "cell_type": "code",
   "execution_count": null,
   "metadata": {},
   "outputs": [],
   "source": [
    "res_union_5"
   ]
  },
  {
   "cell_type": "code",
   "execution_count": null,
   "metadata": {},
   "outputs": [],
   "source": [
    "gpd.sjoin(df1,df2,how=\"left\", op=\"intersects\")\n"
   ]
  },
  {
   "cell_type": "code",
   "execution_count": null,
   "metadata": {},
   "outputs": [],
   "source": [
    "polys1 = gpd.GeoSeries([Polygon([(0,0), (2,0), (2,2), (0,2)]), #top country\n",
    "                        Polygon([(0,0), (0,-2), (2,-2), (2,0)])]) #bottom country\n",
    "#polys1.plot(edgecolor=\"black\", alpha=0.5) \n",
    "\n",
    "\n",
    "\n",
    "polys2 = gpd.GeoSeries([Polygon([(0,0), (0,1), (1,1), (1,0)]), # Grid A (top country only)\n",
    "                       Polygon([(0,0), (0,-1), (1,-1), (1,0)]), # Grid B (bottom country only)\n",
    "                       Polygon([(1,-0.5), (1,0.5), (2,0.5), (2,-0.5)]), # Grid C (half in top country half in bottom)\n",
    "                       Polygon([(0,-1), (-1,-1), (-1,-2), (0,-2)]), # Grid D (Fully outside both countrys)\n",
    "                       Polygon([(0,1), (0,3), (1,3), (1,1)])]) # Grid E (half in top country half outside)\n",
    "\n",
    "\n",
    "points= gpd.GeoSeries([Point([(0.5,0.5)]), # In Grid A \n",
    "                      Point([(0.5,-0.5)]), # In Grid B\n",
    "                      Point([(0.6,-0.6)]), # In Grid B\n",
    "                      Point([(1.5,0.25)]), # In Grid C top country\n",
    "                      Point([(1.6,0.26)]), # In Grid C top country\n",
    "                      Point([(1.5,-0.25)]), # In Grid C bottom country\n",
    "                      Point([(1.5,1)]), # No grid but in top country\n",
    "                      Point([(0.5,1.75)]), # Grid E top country\n",
    "                      Point([(0.5,2.25)]), # Grid E outside of both countries\n",
    "                      Point([(1,-1.5)]), # No grid but in bottom country\n",
    "                      Point([(-0.5,-1.5)]), # Grid D\n",
    "                      Point([(3,0)])]) # Comletely outside\n",
    "                \n",
    "\n",
    "\n",
    "countries_df = gpd.GeoDataFrame({'geometry': polys1, 'country':[\"TOP_CONTAINER\", \"BOTTOM_CONTAINER\"]})\n",
    "grid_df = gpd.GeoDataFrame({'geometry': polys2, 'grid':[\"Grid_A: ALL_IN_TOP\",\"Grid_B: ALL_IN_BOTTOM\",\"Grid C: HALF_TOP_HALF_BOTTOM\",\"Grid D: FULLY_OUTSIDE\",\"Grid E: HALF_IN_TOP_HALF_OUTSIDE\"]})\n",
    "points_df = gpd.GeoDataFrame({'geometry': points, 'point':[\"Grid_A\", \"Grid_B\",\"Grid_B_second_point\", \"Grid C: Top\",\"Grid C: Top second\", \"Grid C Bottom\",\"No grid top\", \"Grid E top\", \"Grid E no country\", \"No grid bottom country\", \"Grid D no country\", \"No country no grid\"]})\n",
    "\n",
    "#polys2.plot(edgecolor=\"black\", alpha=0.5) \n",
    "\n",
    "fig, ax= plt.subplots()\n",
    "\n",
    "countries_df.plot(edgecolor=\"black\", color=\"blue\", ax=ax, alpha=0.5)\n",
    "grid_df.plot(edgecolor=\"black\", color=\"green\", ax=ax, alpha=0.5)\n",
    "points_df.plot(color=\"black\", ax=ax)\n",
    "\n",
    "plt.show"
   ]
  },
  {
   "cell_type": "code",
   "execution_count": null,
   "metadata": {},
   "outputs": [],
   "source": [
    "import pandas as pd\n",
    "grid_overlay=gpd.overlay(countries_df,grid_df, \"identity\")\n",
    "grid_overlay=pd.merge(grid_overlay, countries_df, how=\"left\",on=\"country\", suffixes=[\"_grid\",\"_country\"])\n",
    "\n",
    "grid_overlay.set_geometry(\"geometry_country\").plot(edgecolor=\"black\")\n",
    "grid_overlay.set_geometry(\"geometry_grid\").plot(edgecolor=\"black\")\n",
    "\n",
    "#grid_overlay"
   ]
  },
  {
   "cell_type": "code",
   "execution_count": null,
   "metadata": {},
   "outputs": [],
   "source": [
    "#grid_overlay.set_geometry(\"geometry_grid\")\n",
    "\n",
    "#grid_overlay.columns=[\"geometry\" if column_names==\"geometry_grid\" else column_names for column_names in grid_overlay.columns]\n",
    "points_overlay=gpd.sjoin(grid_overlay.set_geometry(\"geometry_grid\"),points_df,op=\"contains\")\n",
    "points_df=pd.merge(points_overlay, points_df, how=\"left\",on=\"point\", suffixes=[\"_grid\",\"_point\"])\n",
    "\n",
    "                    \n",
    "#grid_overlay.set_geometry(\"geometry_grid\")\n",
    "\n",
    "#grid_overlay=pd.merge(grid_overlay, points_df, how=\"left\",on=\"point\", suffixes=[\"_grid\",\"_point\"])\n"
   ]
  },
  {
   "cell_type": "code",
   "execution_count": null,
   "metadata": {},
   "outputs": [],
   "source": [
    "points_df"
   ]
  },
  {
   "cell_type": "code",
   "execution_count": null,
   "metadata": {},
   "outputs": [],
   "source": [
    "polys1 = gpd.GeoSeries([Polygon([(0,0), (2,0), (2,2), (0,2)]), #top country\n",
    "                        Polygon([(0,0), (0,-2), (2,-2), (2,0)])]) #bottom country\n",
    "#polys1.plot(edgecolor=\"black\", alpha=0.5) \n",
    "\n",
    "\n",
    "\n",
    "polys2 = gpd.GeoSeries([Polygon([(0,0), (0,1), (1,1), (1,0)]), # Grid A (top country only)\n",
    "                       Polygon([(0,0), (0,-1), (1,-1), (1,0)]), # Grid B (bottom country only)\n",
    "                       Polygon([(1,-0.5), (1,0.5), (2,0.5), (2,-0.5)]), # Grid C (half in top country half in bottom)\n",
    "                       Polygon([(0,-1), (-1,-1), (-1,-2), (0,-2)]), # Grid D (Fully outside both countrys)\n",
    "                       Polygon([(0,1), (0,3), (1,3), (1,1)])]) # Grid E (half in top country half outside)\n",
    "\n",
    "\n",
    "points= gpd.GeoSeries([Point([(0.5,0.5)]), # In Grid A \n",
    "                      Point([(0.5,-0.5)]), # In Grid B\n",
    "                      Point([(0.6,-0.6)]), # In Grid B\n",
    "                      Point([(1.5,0.25)]), # In Grid C top country\n",
    "                      Point([(1.6,0.26)]), # In Grid C top country\n",
    "                      Point([(1.5,-0.25)]), # In Grid C bottom country\n",
    "                      Point([(1.5,1)]), # No grid but in top country\n",
    "                      Point([(0.5,1.75)]), # Grid E top country\n",
    "                      Point([(0.5,2.25)]), # Grid E outside of both countries\n",
    "                      Point([(1,-1.5)]), # No grid but in bottom country\n",
    "                      Point([(-0.5,-1.5)]), # Grid D\n",
    "                      Point([(3,0)])]) # Comletely outside\n",
    "                \n",
    "\n",
    "\n",
    "countries_df = gpd.GeoDataFrame({'geometry': polys1, 'country':[\"TOP_CONTAINER\", \"BOTTOM_CONTAINER\"]})\n",
    "grid_df = gpd.GeoDataFrame({'geometry': polys2, \n",
    "                            'grid':[\"Grid_A: ALL_IN_TOP\",\"Grid_B: ALL_IN_BOTTOM\",\"Grid C: HALF_TOP_HALF_BOTTOM\",\"Grid D: FULLY_OUTSIDE\",\"Grid E: HALF_IN_TOP_HALF_OUTSIDE\"]})\n",
    "points_df = gpd.GeoDataFrame({'geometry': points, 'point':[\"Grid_A\", \"Grid_B\",\"Grid_B_second_point\", \"Grid C: Top\",\"Grid C: Top second\", \"Grid C Bottom\",\"No grid top\", \"Grid E top\", \"Grid E no country\", \"No grid bottom country\", \"Grid D no country\", \"No country no grid\"],\n",
    "                             'variable':[1,2,3,4,5,6,7,8,9,10,11,12]})\n",
    "\n",
    "#polys2.plot(edgecolor=\"black\", alpha=0.5) \n",
    "\n",
    "\n",
    "\n",
    "\n",
    "\n",
    "def nesting_points_within_grids_within_countries(point_dataframe,point_ID,grid_dataframe,grid_ID,world_dataframe,country_ID):\n",
    "    \n",
    "    grid_overlay=gpd.overlay(countries_df,grid_df, \"identity\")\n",
    "    grid_overlay=pd.merge(grid_overlay, countries_df, how=\"left\",on=country_ID, suffixes=[\"_grid\",\"_country\"])\n",
    "\n",
    "    \n",
    "    #grid_overlay.set_geometry(\"geometry_country\").plot(edgecolor=\"black\")\n",
    "    #grid_overlay.set_geometry(\"geometry_grid\").plot(edgecolor=\"black\")\n",
    "        \n",
    "    points_overlay=gpd.sjoin(grid_overlay.set_geometry(\"geometry_grid\"),points_df,op=\"contains\")\n",
    "    cols_to_merge = points_df.columns.difference(points_overlay.columns).tolist()\n",
    "    cols_to_merge.append(point_ID)    points_within_grid_within_country=pd.merge(points_overlay, points_df[cols_to_merge], how=\"inner\",on=point_ID, suffixes=[\"_grid\",\"_point\"])\n",
    "    points_within_grid_within_country.columns=[\"geometry_point\" if column_names==\"geometry\" else column_names for column_names in points_within_grid_within_country.columns]\n",
    "    return points_within_grid_within_country;\n",
    "\n",
    "\n",
    "\n",
    "points_within_grids_within_countries=nesting_points_within_grids_within_countries(point_dataframe=points_df,\n",
    "                                             point_ID=\"point\",\n",
    "                                             grid_dataframe=grid_df,\n",
    "                                             grid_ID=\"grid\",\n",
    "                                             world_dataframe=countries_df,\n",
    "                                             country_ID=\"country\")\n"
   ]
  },
  {
   "cell_type": "code",
   "execution_count": null,
   "metadata": {},
   "outputs": [],
   "source": [
    "\n",
    "point_dataframe=points_df\n",
    "point_ID=\"point\"\n",
    "grid_dataframe=grid_df\n",
    "grid_ID=\"grid\"\n",
    "world_dataframe=countries_df\n",
    "country_ID=\"country\"\n",
    "\n",
    "grid_overlay=gpd.overlay(countries_df,grid_df, \"identity\")\n",
    "grid_overlay=pd.merge(grid_overlay, countries_df, how=\"left\",on=country_ID, suffixes=[\"_grid\",\"_country\"])\n",
    "\n",
    "\n",
    "#grid_overlay.set_geometry(\"geometry_country\").plot(edgecolor=\"black\")\n",
    "#grid_overlay.set_geometry(\"geometry_grid\").plot(edgecolor=\"black\")\n",
    "\n",
    "points_overlay=gpd.sjoin(grid_overlay.set_geometry(\"geometry_grid\"),points_df,op=\"contains\")\n",
    "cols_to_merge = points_df.columns.difference(points_overlay.columns).tolist()\n",
    "cols_to_merge.append(point_ID)\n",
    "points_within_grid_within_country=pd.merge(points_overlay, points_df[cols_to_merge], how=\"inner\",on=point_ID, suffixes=[\"_grid\",\"_point\"])\n",
    "points_within_grid_within_country.columns=[\"geometry_point\" if column_names==\"geometry\" else column_names for column_names in points_within_grid_within_country.columns]\n",
    "\n",
    "\n",
    "\n",
    "\n"
   ]
  },
  {
   "cell_type": "code",
   "execution_count": null,
   "metadata": {},
   "outputs": [],
   "source": [
    "#points_overlay.columns\n",
    "#points_within_grid_within_country=pd.merge(points_overlay, points_df[cols_to_merge], how=\"outer\",on=point_ID, suffixes=[\"_grid\",\"_point\"])\n",
    "points_within_grid_within_country\n",
    "#points_df[cols_to_merge]\n",
    "#type(points_df[cols_to_merge])\n",
    "#points_df.columns"
   ]
  },
  {
   "cell_type": "code",
   "execution_count": null,
   "metadata": {},
   "outputs": [],
   "source": [
    "fig, ax= plt.subplots()\n",
    "\n",
    "#points_within_grids_within_countries.set_geometry(\"geometry_country\").plot(edgecolor=\"black\", color=\"blue\", ax=ax, alpha=0.5)\n",
    "points_within_grids_within_countries.set_geometry(\"geometry_grid\").plot(edgecolor=\"black\", color=\"green\", ax=ax, alpha=0.5)\n",
    "#points_within_grids_within_countries.set_geometry(\"geometry_point\").plot(color=\"black\", ax=ax)\n",
    "plt.show"
   ]
  },
  {
   "cell_type": "code",
   "execution_count": null,
   "metadata": {},
   "outputs": [],
   "source": [
    "points_within_grids_within_countries.columns"
   ]
  },
  {
   "cell_type": "code",
   "execution_count": null,
   "metadata": {},
   "outputs": [],
   "source": []
  },
  {
   "cell_type": "code",
   "execution_count": null,
   "metadata": {},
   "outputs": [],
   "source": []
  }
 ],
 "metadata": {
  "kernelspec": {
   "display_name": "Python 3",
   "language": "python",
   "name": "python3"
  },
  "language_info": {
   "codemirror_mode": {
    "name": "ipython",
    "version": 3
   },
   "file_extension": ".py",
   "mimetype": "text/x-python",
   "name": "python",
   "nbconvert_exporter": "python",
   "pygments_lexer": "ipython3",
   "version": "3.7.4"
  }
 },
 "nbformat": 4,
 "nbformat_minor": 4
}
