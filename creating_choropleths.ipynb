{
 "cells": [
  {
   "cell_type": "code",
   "execution_count": 4,
   "metadata": {},
   "outputs": [
    {
     "data": {
      "text/plain": [
       "'C:\\\\Users\\\\lgorman\\\\OneDrive\\\\Desktop\\\\PhD\\\\Analysis'"
      ]
     },
     "execution_count": 4,
     "metadata": {},
     "output_type": "execute_result"
    }
   ],
   "source": [
    "import os\n",
    "import pandas as pd\n",
    "import math\n",
    "import numpy as np\n",
    "%matplotlib inline\n",
    "import matplotlib.pyplot as plt\n",
    "import geopandas as gpd\n",
    "import gdal\n",
    "import geopandas as gpd\n",
    "import descartes \n",
    "from shapely.geometry import Point, Polygon\n",
    "from shapely import wkt\n",
    "\n",
    "\n",
    "import seaborn as sns\n",
    "from scipy.stats import norm\n",
    "from sklearn.preprocessing import StandardScaler\n",
    "from scipy import stats\n",
    "import warnings\n",
    "warnings.filterwarnings('ignore')\n",
    "import fiona\n",
    "\n",
    "#os.chdir('../../')\n",
    "os.chdir('../')\n",
    "os.getcwd()"
   ]
  },
  {
   "cell_type": "code",
   "execution_count": null,
   "metadata": {},
   "outputs": [],
   "source": [
    "#Reading in all files and ensuring they are in a GeoDataFrame format\n",
    "def create_geo_data_frame_from_point_dataset (dataframe, crs, name_of_lat_column, name_of_lon_column):\n",
    "    latitude_not_null=dataframe.loc[:,name_of_lat_column].notnull()\n",
    "    longitude_not_null=dataframe.loc[:,name_of_lon_column].notnull()\n",
    "    dataframe=dataframe.loc[latitude_not_null&longitude_not_null,:]\n",
    "    \n",
    "    geometry=[Point(xy) for xy in zip(dataframe[name_of_lon_column], dataframe[name_of_lat_column])]\n",
    "    dataframe = gpd.GeoDataFrame(dataframe, geometry=geometry,crs=crs)\n",
    "    return dataframe;\n",
    "\n",
    "# defining a coordinate reference system \n",
    "crs={'init' :'epsg:4326'}\n",
    "\n",
    "\n",
    "points_rhomis_geodataframe=pd.read_csv(os.path.join(\"data\",\"rhomis_data\",\"RHoMIS_Indicators.csv\"), encoding=\"latin1\")\n",
    "name_of_lat_column=\"GPS_LAT\"\n",
    "name_of_lon_column=\"GPS_LON\"\n",
    "points_rhomis_geodataframe=create_geo_data_frame_from_point_dataset(dataframe=points_rhomis_geodataframe,\n",
    "                                                                   crs=crs,\n",
    "                                                                   name_of_lat_column=name_of_lat_column,\n",
    "                                                                   name_of_lon_column=name_of_lon_column)\n",
    "\n",
    "grids_geodataframe=pd.read_csv(os.path.join(\"data\",\"processed\",\"hundred_km_grid_with_raster_info.csv\"))\n",
    "grids_geodataframe['geometry'] = grids_geodataframe['geometry'].apply(wkt.loads)\n",
    "grids_geodataframe = gpd.GeoDataFrame(grids_geodataframe, geometry='geometry')\n",
    "grids_geodataframe=gpd.GeoDataFrame(grids_geodataframe, geometry=grids_geodataframe[\"geometry\"], crs=crs)\n",
    "\n",
    "world_shapefile=gpd.read_file(os.path.join('data', 'shapefiles', 'World'))"
   ]
  },
  {
   "cell_type": "code",
   "execution_count": null,
   "metadata": {},
   "outputs": [],
   "source": [
    "grids_geodataframe=grids_geodataframe.drop_duplicates(subset=[\"geometry\"])\n",
    "world_shapefile=world_shapefile.drop_duplicates(subset=[\"geometry\"])"
   ]
  },
  {
   "cell_type": "code",
   "execution_count": null,
   "metadata": {},
   "outputs": [],
   "source": [
    "def nesting_points_within_grids_within_countries(point_dataframe,point_ID,grid_dataframe,grid_ID,world_dataframe,country_ID):\n",
    "    \n",
    "    grid_overlay=gpd.overlay(world_dataframe,grid_dataframe, \"identity\")\n",
    "    grid_overlay=pd.merge(grid_overlay, world_dataframe, how=\"left\",on=country_ID, suffixes=[\"_grid\",\"_country\"])\n",
    "        \n",
    "    points_overlay=gpd.sjoin(grid_overlay.set_geometry(\"geometry_grid\"),point_dataframe,op=\"contains\")\n",
    "    cols_to_merge = point_dataframe.columns.difference(points_overlay.columns).tolist()\n",
    "    cols_to_merge.append(point_ID)    \n",
    "    points_within_grid_within_country=pd.merge(points_overlay, point_dataframe[cols_to_merge], how=\"inner\",on=point_ID, suffixes=[\"_grid\",\"_point\"])\n",
    "    points_within_grid_within_country.columns=[\"geometry_point\" if column_names==\"geometry\" else column_names for column_names in points_within_grid_within_country.columns]\n",
    "    return points_within_grid_within_country;\n",
    "\n"
   ]
  },
  {
   "cell_type": "code",
   "execution_count": null,
   "metadata": {},
   "outputs": [],
   "source": [
    "points_within_grids_within_countries=nesting_points_within_grids_within_countries(point_dataframe=points_rhomis_geodataframe,\n",
    "                                            point_ID=\"ID_HH\",\n",
    "                                            grid_dataframe=grids_geodataframe,\n",
    "                                            grid_ID=\"FID\",\n",
    "                                            world_dataframe=world_shapefile,\n",
    "                                            country_ID=\"CNTRY_NAME\")\n",
    "\n",
    "\n",
    "points_within_grids_within_countries_single_geometry=points_within_grids_within_countries.drop(columns=[\"geometry_country\",\"geometry_point\"])\n",
    "points_within_grids_within_countries_single_geometry.to_file(os.path.join('data',\"processed\",\"points_within_grids_within_countries_100km.geojson\"), driver='GeoJSON') # at this point we only preserve the grid geometry. Will need to add point geometry when reading the file back in again (same with country boundaries)  "
   ]
  },
  {
   "cell_type": "code",
   "execution_count": null,
   "metadata": {},
   "outputs": [],
   "source": []
  },
  {
   "cell_type": "code",
   "execution_count": null,
   "metadata": {},
   "outputs": [],
   "source": [
    "world_shapefile=gpd.read_file(os.path.join('data', 'shapefiles', 'World'))\n",
    "\n",
    "points_within_grids_within_countries=gpd.read_file(os.path.join('data',\"processed\",\"points_within_grids_within_countries_100km.geojson\"), driver='GeoJSON')\n",
    "points_within_grids_within_countries.columns=[\"geometry_grid\" if column_names==\"geometry\" else column_names for column_names in points_within_grids_within_countries.columns]\n",
    "point_geometry=[Point(xy) for xy in zip(points_within_grids_within_countries[\"GPS_LON\"], points_within_grids_within_countries[\"GPS_LAT\"])]\n",
    "points_within_grids_within_countries[\"geometry_point\"]=point_geometry\n",
    "\n",
    "\n"
   ]
  },
  {
   "cell_type": "code",
   "execution_count": null,
   "metadata": {},
   "outputs": [],
   "source": [
    "#merging country geometries with nested geo_file\n",
    "cols_to_merge = [\"CNTRY_NAME\",\"geometry\"]\n",
    "points_within_grids_within_countries=pd.merge(points_within_grids_within_countries, world_shapefile[cols_to_merge], how=\"inner\",on=\"CNTRY_NAME\", suffixes=[\"\",\"\"])\n",
    "points_within_grids_within_countries.columns=[\"geometry_country\" if column_names==\"geometry\" else column_names for column_names in points_within_grids_within_countries.columns]\n",
    "\n"
   ]
  },
  {
   "cell_type": "code",
   "execution_count": null,
   "metadata": {},
   "outputs": [],
   "source": []
  },
  {
   "cell_type": "code",
   "execution_count": null,
   "metadata": {},
   "outputs": [],
   "source": [
    "fig, ax= plt.subplots()\n",
    "\n",
    "world_shapefile.plot(ax=ax,edgecolor=\"black\")\n",
    "points_within_grids_within_countries.set_geometry(\"geometry_country\").plot(ax=ax, color=\"blue\",alpha=0.5)\n",
    "points_within_grids_within_countries.set_geometry(\"geometry_grid\").plot(ax=ax, color=\"green\",alpha=0.5)\n",
    "points_within_grids_within_countries.set_geometry(\"geometry_point\").plot(ax=ax, color=\"black\")\n",
    "plt.show()"
   ]
  },
  {
   "cell_type": "code",
   "execution_count": null,
   "metadata": {},
   "outputs": [],
   "source": [
    "# finding countries in the continent\n",
    "continent=\"Africa\"\n",
    "world_shapefile=gpd.read_file(os.path.join('data', 'shapefiles', 'World'))\n",
    "world_geopanda = gpd.read_file(gpd.datasets.get_path('naturalearth_lowres')) #continents dataframe\n",
    "continent_shapefile=world_geopanda.loc[world_geopanda[\"continent\"]==continent,[\"continent\",\"geometry\"]]\n",
    "continent_shapefile[\"geometry\"]=continent_shapefile.envelope\n",
    "continent_shapefile.columns=[\"geometry_continent\" if col_name==\"geometry\" else col_name for col_name in continent_shapefile.columns]\n",
    "#subset_world_shapefile=gpd.overlay(world_shapefile.set_geometry(\"geometry\"), continent_shapefile.set_geometry(\"geometry_continent\"), how='intersection')\n",
    "subset_world_shapefile=gpd.sjoin(world_shapefile.set_geometry(\"geometry\"), continent_shapefile.set_geometry(\"geometry_continent\"), how='inner')\n",
    "\n",
    "countries=subset_world_shapefile[\"CNTRY_NAME\"].unique()\n",
    "\n",
    "\n",
    "# Getting rid of some european countries\n",
    "countries_to_exclude=[\"Portugal\", \"Spain\", \"Gibraltar\", \"Gaza Strip\", \"Israel\", \"Jordan\", \"West Bank\", \"Saudi Arabia\", \"Yemen\"]\n",
    "final_countries=pd.Series(countries).isin(countries_to_exclude)==False\n",
    "final_countries=countries[final_countries]\n",
    "\n",
    "\n",
    "#subsetting final dataframe\n",
    "subset_world_shapefile=subset_world_shapefile.loc[subset_world_shapefile[\"CNTRY_NAME\"].isin(final_countries),:]\n",
    "subset_df=points_within_grids_within_countries[\"CNTRY_NAME\"].isin(final_countries)\n",
    "points_within_grids_within_countries=points_within_grids_within_countries.loc[subset_df,:]"
   ]
  },
  {
   "cell_type": "code",
   "execution_count": null,
   "metadata": {},
   "outputs": [],
   "source": []
  },
  {
   "cell_type": "code",
   "execution_count": null,
   "metadata": {},
   "outputs": [],
   "source": []
  },
  {
   "cell_type": "code",
   "execution_count": null,
   "metadata": {},
   "outputs": [],
   "source": [
    "fig, ax= plt.subplots()\n",
    "\n",
    "subset_world_shapefile.plot(ax=ax,edgecolor=\"black\")\n",
    "points_within_grids_within_countries.set_geometry(\"geometry_country\").plot(ax=ax, edgecolor=\"black\",color=\"blue\",alpha=0.2)\n",
    "points_within_grids_within_countries.set_geometry(\"geometry_grid\").plot(ax=ax, color=\"green\",alpha=0.5)\n",
    "points_within_grids_within_countries.set_geometry(\"geometry_point\").plot(ax=ax, color=\"black\")\n",
    "plt.show()"
   ]
  },
  {
   "cell_type": "code",
   "execution_count": null,
   "metadata": {},
   "outputs": [],
   "source": [
    "\n",
    "x=pd.DataFrame(points_within_grids_within_countries.FID.value_counts())\n",
    "sns.distplot(x[\"FID\"])\n",
    "\n",
    "\n",
    "#xmedian=pd.DataFrame(points_within_grids_within_countries.median_AEZ.value_counts())\n",
    "#xmean=pd.DataFrame(points_within_grids_within_countries.mean_AEZ.value_counts())\n",
    "\n",
    "#sns.distplot(xmedian[\"median_AEZ\"], bins=40)\n",
    "#points_within_grids_within_countries_single_geometry=points_within_grids_within_countries.drop(columns=[\"geometry_country\",\"geometry_point\"])\n",
    "#points_within_grids_within_countries_single_geometry.set_geometry(\"geometry_grid\").to_file(os.path.join('data',\"processed\",\"points_within_grids_within_countries_100km.geojson\"), driver='GeoJSON') # at this point we only preserve the grid geometry. Will need to add point geometry when reading the file back in again (same with country boundaries)  \n"
   ]
  },
  {
   "cell_type": "code",
   "execution_count": null,
   "metadata": {},
   "outputs": [],
   "source": [
    "def remove_outliers_with_interquartile_range(column):\n",
    "    quartile_1=column.quantile(0.25)\n",
    "    quartile_3=column.quantile(0.75)\n",
    "    interquartile_range=quartile_3-quartile_1\n",
    "    \n",
    "    lower_limit=quartile_1-1.5*interquartile_range\n",
    "    upper_limit=quartile_3+1.5*interquartile_range\n",
    "    \n",
    "    column=column[(column>lower_limit) & (column<upper_limit)]\n",
    "    return column;\n",
    "\n",
    "\n",
    "len(points_within_grids_within_countries[\"total_income_USD_PPP_pHH_Yr\"])"
   ]
  },
  {
   "cell_type": "code",
   "execution_count": null,
   "metadata": {},
   "outputs": [],
   "source": [
    "points_within_grids_within_countries.describe()"
   ]
  },
  {
   "cell_type": "code",
   "execution_count": null,
   "metadata": {},
   "outputs": [],
   "source": []
  },
  {
   "cell_type": "code",
   "execution_count": null,
   "metadata": {},
   "outputs": [],
   "source": []
  },
  {
   "cell_type": "code",
   "execution_count": null,
   "metadata": {},
   "outputs": [],
   "source": [
    "points_within_grids_within_countries[\"mean_education\"].dtype"
   ]
  },
  {
   "cell_type": "code",
   "execution_count": null,
   "metadata": {},
   "outputs": [],
   "source": [
    "sns.distplot(remove_outliers_with_interquartile_range(points_within_grids_within_countries[\"median_population_density\"].dropna()))"
   ]
  },
  {
   "cell_type": "code",
   "execution_count": null,
   "metadata": {},
   "outputs": [],
   "source": []
  },
  {
   "cell_type": "code",
   "execution_count": null,
   "metadata": {},
   "outputs": [],
   "source": []
  },
  {
   "cell_type": "code",
   "execution_count": null,
   "metadata": {},
   "outputs": [],
   "source": [
    "ymax"
   ]
  },
  {
   "cell_type": "code",
   "execution_count": null,
   "metadata": {},
   "outputs": [],
   "source": [
    "countries_in_africa=[\"Algeria\",\n",
    "                     \"Angola\",\n",
    "                     \"Benin\",\n",
    "                     \"Botswana\",\n",
    "                    \"Burundi\",\n",
    "                    \"Burkina Faso\",\n",
    "                    \"Zaire\",\n",
    "                     \"Chad\",\n",
    "                    \"Comoros\",\n",
    "                    \"Cameroon\",\n",
    "                    \"Central African Republic\",\n",
    "                    \"Congo\",\n",
    "                    \"Djibouti\",\n",
    "                    \"Egypt\",\n",
    "                    \"Equitorial Guinea\",\n",
    "                    \"Eritrea\",\n",
    "                    \"Ethiopia\",\n",
    "                    \"Gambia, The\",\n",
    "                    \"Gabon\",\n",
    "                    \"Guinea\",\n",
    "                    \"Kenya\"\n",
    "                    ]"
   ]
  }
 ],
 "metadata": {
  "kernelspec": {
   "display_name": "Python 3",
   "language": "python",
   "name": "python3"
  },
  "language_info": {
   "codemirror_mode": {
    "name": "ipython",
    "version": 3
   },
   "file_extension": ".py",
   "mimetype": "text/x-python",
   "name": "python",
   "nbconvert_exporter": "python",
   "pygments_lexer": "ipython3",
   "version": "3.7.4"
  }
 },
 "nbformat": 4,
 "nbformat_minor": 4
}
