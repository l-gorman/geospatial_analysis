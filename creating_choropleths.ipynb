{
 "cells": [
  {
   "cell_type": "code",
   "execution_count": 7,
   "metadata": {},
   "outputs": [
    {
     "data": {
      "text/plain": [
       "'C:\\\\Users\\\\leogo\\\\OneDrive\\\\Desktop\\\\PhD\\\\Analysis'"
      ]
     },
     "execution_count": 7,
     "metadata": {},
     "output_type": "execute_result"
    }
   ],
   "source": [
    "import os\n",
    "import pandas as pd\n",
    "import math\n",
    "import numpy as np\n",
    "%matplotlib inline\n",
    "import matplotlib.pyplot as plt\n",
    "import geopandas as gpd\n",
    "import gdal\n",
    "import geopandas as gpd\n",
    "import descartes \n",
    "from shapely.geometry import Point, Polygon\n",
    "from shapely import wkt\n",
    "\n",
    "\n",
    "import seaborn as sns\n",
    "from scipy.stats import norm\n",
    "from sklearn.preprocessing import StandardScaler\n",
    "from scipy import stats\n",
    "import warnings\n",
    "warnings.filterwarnings('ignore')\n",
    "import fiona\n",
    "\n",
    "#os.chdir('../../')\n",
    "#os.chdir('../')\n",
    "os.getcwd()"
   ]
  },
  {
   "cell_type": "code",
   "execution_count": 8,
   "metadata": {},
   "outputs": [],
   "source": [
    "#Reading in all files and ensuring they are in a GeoDataFrame format\n",
    "def create_geo_data_frame_from_point_dataset (dataframe, crs, name_of_lat_column, name_of_lon_column):\n",
    "    latitude_not_null=dataframe.loc[:,name_of_lat_column].notnull()\n",
    "    longitude_not_null=dataframe.loc[:,name_of_lon_column].notnull()\n",
    "    dataframe=dataframe.loc[latitude_not_null&longitude_not_null,:]\n",
    "    \n",
    "    geometry=[Point(xy) for xy in zip(dataframe[name_of_lon_column], dataframe[name_of_lat_column])]\n",
    "    dataframe = gpd.GeoDataFrame(dataframe, geometry=geometry,crs=crs)\n",
    "    return dataframe;\n",
    "\n",
    "# defining a coordinate reference system \n",
    "crs={'init' :'epsg:4326'}\n",
    "\n",
    "\n",
    "points_rhomis_geodataframe=pd.read_csv(os.path.join(\"data\",\"rhomis_data\",\"RHoMIS_Indicators.csv\"), encoding=\"latin1\")\n",
    "name_of_lat_column=\"GPS_LAT\"\n",
    "name_of_lon_column=\"GPS_LON\"\n",
    "points_rhomis_geodataframe=create_geo_data_frame_from_point_dataset(dataframe=points_rhomis_geodataframe,\n",
    "                                                                   crs=crs,\n",
    "                                                                   name_of_lat_column=name_of_lat_column,\n",
    "                                                                   name_of_lon_column=name_of_lon_column)\n",
    "\n",
    "grids_geodataframe=pd.read_csv(os.path.join(\"data\",\"processed\",\"hundred_km_grid_with_raster_info.csv\"))\n",
    "grids_geodataframe['geometry'] = grids_geodataframe['geometry'].apply(wkt.loads)\n",
    "grids_geodataframe = gpd.GeoDataFrame(grids_geodataframe, geometry='geometry')\n",
    "grids_geodataframe=gpd.GeoDataFrame(grids_geodataframe, geometry=grids_geodataframe[\"geometry\"], crs=crs)\n",
    "\n",
    "world_shapefile=gpd.read_file(os.path.join('data', 'shapefiles', 'World'))"
   ]
  },
  {
   "cell_type": "code",
   "execution_count": 9,
   "metadata": {},
   "outputs": [],
   "source": [
    "grids_geodataframe=grids_geodataframe.drop_duplicates(subset=[\"geometry\"])\n",
    "world_shapefile=world_shapefile.drop_duplicates(subset=[\"geometry\"])"
   ]
  },
  {
   "cell_type": "code",
   "execution_count": 10,
   "metadata": {},
   "outputs": [],
   "source": [
    "def nesting_points_within_grids_within_countries(point_dataframe,point_ID,grid_dataframe,grid_ID,world_dataframe,country_ID):\n",
    "    \n",
    "    grid_overlay=gpd.overlay(world_dataframe,grid_dataframe, \"identity\")\n",
    "    grid_overlay=pd.merge(grid_overlay, world_dataframe, how=\"left\",on=country_ID, suffixes=[\"_grid\",\"_country\"])\n",
    "        \n",
    "    points_overlay=gpd.sjoin(grid_overlay.set_geometry(\"geometry_grid\"),point_dataframe,op=\"contains\")\n",
    "    cols_to_merge = point_dataframe.columns.difference(points_overlay.columns).tolist()\n",
    "    cols_to_merge.append(point_ID)    \n",
    "    points_within_grid_within_country=pd.merge(points_overlay, point_dataframe[cols_to_merge], how=\"inner\",on=point_ID, suffixes=[\"_grid\",\"_point\"])\n",
    "    points_within_grid_within_country.columns=[\"geometry_point\" if column_names==\"geometry\" else column_names for column_names in points_within_grid_within_country.columns]\n",
    "    return points_within_grid_within_country;\n",
    "\n"
   ]
  },
  {
   "cell_type": "code",
   "execution_count": 11,
   "metadata": {},
   "outputs": [],
   "source": [
    "points_within_grids_within_countries=nesting_points_within_grids_within_countries(point_dataframe=points_rhomis_geodataframe,\n",
    "                                            point_ID=\"ID_HH\",\n",
    "                                            grid_dataframe=grids_geodataframe,\n",
    "                                            grid_ID=\"FID\",\n",
    "                                            world_dataframe=world_shapefile,\n",
    "                                            country_ID=\"CNTRY_NAME\")\n",
    "\n",
    "\n"
   ]
  },
  {
   "cell_type": "code",
   "execution_count": 72,
   "metadata": {},
   "outputs": [],
   "source": [
    "#points_within_grids_within_countries_dataframe.to_csv(os.path.join('data',\"processed\",\"points_within_grids_within_countries_100km.csv\"))\n",
    "points_within_grids_within_countries_single_geometry=points_within_grids_within_countries.drop(columns=[\"geometry_country\",\"geometry_point\"])\n",
    "points_within_grids_within_countries_single_geometry.to_file(os.path.join('data',\"processed\",\"points_within_grids_within_countries_100km.geojson\"), driver='GeoJSON') # at this point we only preserve the grid geometry. Will need to add point geometry when reading the file back in again (same with country boundaries)  "
   ]
  },
  {
   "cell_type": "code",
   "execution_count": 122,
   "metadata": {},
   "outputs": [],
   "source": [
    "world_shapefile=gpd.read_file(os.path.join('data', 'shapefiles', 'World'))\n",
    "\n",
    "points_within_grids_within_countries=gpd.read_file(os.path.join('data',\"processed\",\"points_within_grids_within_countries_100km.geojson\"), driver='GeoJSON')\n",
    "points_within_grids_within_countries.columns=[\"geometry_grid\" if column_names==\"geometry\" else column_names for column_names in points_within_grids_within_countries.columns]\n",
    "point_geometry=[Point(xy) for xy in zip(points_within_grids_within_countries[\"GPS_LON\"], points_within_grids_within_countries[\"GPS_LAT\"])]\n",
    "points_within_grids_within_countries[\"geometry_point\"]=point_geometry\n",
    "\n",
    "\n"
   ]
  },
  {
   "cell_type": "code",
   "execution_count": 123,
   "metadata": {},
   "outputs": [],
   "source": [
    "#merging country geometries with nested geo_file\n",
    "cols_to_merge = [\"CNTRY_NAME\",\"geometry\"]\n",
    "points_within_grids_within_countries=pd.merge(points_within_grids_within_countries, world_shapefile[cols_to_merge], how=\"inner\",on=\"CNTRY_NAME\", suffixes=[\"\",\"\"])\n",
    "points_within_grids_within_countries.columns=[\"geometry_country\" if column_names==\"geometry\" else column_names for column_names in points_within_grids_within_countries.columns]\n",
    "\n"
   ]
  },
  {
   "cell_type": "code",
   "execution_count": 124,
   "metadata": {},
   "outputs": [
    {
     "data": {
      "text/plain": [
       "0        POLYGON ((0.91797 10.99640, 0.81194 10.99694, ...\n",
       "1        POLYGON ((0.91797 10.99640, 0.81194 10.99694, ...\n",
       "2        POLYGON ((0.91797 10.99640, 0.81194 10.99694, ...\n",
       "3        POLYGON ((0.91797 10.99640, 0.81194 10.99694, ...\n",
       "4        POLYGON ((0.91797 10.99640, 0.81194 10.99694, ...\n",
       "                               ...                        \n",
       "14746    POLYGON ((-69.56750 -10.95056, -69.56844 -10.9...\n",
       "14747    POLYGON ((-69.56750 -10.95056, -69.56844 -10.9...\n",
       "14748    POLYGON ((-69.56750 -10.95056, -69.56844 -10.9...\n",
       "14749    POLYGON ((-69.56750 -10.95056, -69.56844 -10.9...\n",
       "14750    POLYGON ((-69.56750 -10.95056, -69.56844 -10.9...\n",
       "Name: geometry_country, Length: 14751, dtype: geometry"
      ]
     },
     "execution_count": 124,
     "metadata": {},
     "output_type": "execute_result"
    }
   ],
   "source": []
  },
  {
   "cell_type": "code",
   "execution_count": 125,
   "metadata": {},
   "outputs": [
    {
     "data": {
      "image/png": "[encoded data removed]",
      "text/plain": [
       "<Figure size 432x288 with 1 Axes>"
      ]
     },
     "metadata": {
      "needs_background": "light"
     },
     "output_type": "display_data"
    }
   ],
   "source": [
    "fig, ax= plt.subplots()\n",
    "\n",
    "world_shapefile.plot(ax=ax,edgecolor=\"black\")\n",
    "points_within_grids_within_countries.set_geometry(\"geometry_country\").plot(ax=ax, color=\"blue\",alpha=0.5)\n",
    "points_within_grids_within_countries.set_geometry(\"geometry_grid\").plot(ax=ax, color=\"green\",alpha=0.5)\n",
    "points_within_grids_within_countries.set_geometry(\"geometry_point\").plot(ax=ax, color=\"black\")\n",
    "plt.show()"
   ]
  },
  {
   "cell_type": "code",
   "execution_count": 219,
   "metadata": {},
   "outputs": [],
   "source": [
    "# finding countries in the continent\n",
    "continent=\"Africa\"\n",
    "world_shapefile=gpd.read_file(os.path.join('data', 'shapefiles', 'World'))\n",
    "world_geopanda = gpd.read_file(gpd.datasets.get_path('naturalearth_lowres')) #continents dataframe\n",
    "continent_shapefile=world_geopanda.loc[world_geopanda[\"continent\"]==continent,[\"continent\",\"geometry\"]]\n",
    "continent_shapefile[\"geometry\"]=continent_shapefile.envelope\n",
    "continent_shapefile.columns=[\"geometry_continent\" if col_name==\"geometry\" else col_name for col_name in continent_shapefile.columns]\n",
    "#subset_world_shapefile=gpd.overlay(world_shapefile.set_geometry(\"geometry\"), continent_shapefile.set_geometry(\"geometry_continent\"), how='intersection')\n",
    "subset_world_shapefile=gpd.sjoin(world_shapefile.set_geometry(\"geometry\"), continent_shapefile.set_geometry(\"geometry_continent\"), how='inner')\n",
    "\n",
    "countries=subset_world_shapefile[\"CNTRY_NAME\"].unique()\n",
    "\n",
    "\n",
    "# Getting rid of some european countries\n",
    "countries_to_exclude=[\"Portugal\", \"Spain\", \"Gibraltar\", \"Gaza Strip\", \"Israel\", \"Jordan\", \"West Bank\"]\n",
    "final_countries=pd.Series(countries).isin(countries_to_exclude)==False\n",
    "final_countries=countries[final_countries]\n",
    "\n",
    "\n",
    "#subsetting final dataframe\n",
    "subset_world_shapefile=subset_world_shapefile.loc[subset_world_shapefile[\"CNTRY_NAME\"].isin(final_countries),:]\n",
    "subset_df=points_within_grids_within_countries[\"CNTRY_NAME\"].isin(final_countries)\n",
    "points_within_grids_within_countries=points_within_grids_within_countries.loc[subset_df,:]"
   ]
  },
  {
   "cell_type": "code",
   "execution_count": 220,
   "metadata": {},
   "outputs": [
    {
     "data": {
      "text/plain": [
       "Index(['OBJECTID', 'CNTRY_NAME', 'geometry', 'index_right', 'continent'], dtype='object')"
      ]
     },
     "execution_count": 220,
     "metadata": {},
     "output_type": "execute_result"
    }
   ],
   "source": [
    "subset_world_shapefile.columns"
   ]
  },
  {
   "cell_type": "code",
   "execution_count": 221,
   "metadata": {},
   "outputs": [
    {
     "data": {
      "text/plain": [
       "Index(['OBJECTID', 'CNTRY_NAME', 'geometry', 'index_right', 'continent'], dtype='object')"
      ]
     },
     "execution_count": 221,
     "metadata": {},
     "output_type": "execute_result"
    }
   ],
   "source": [
    "subset_world_shapefile.columns"
   ]
  },
  {
   "cell_type": "code",
   "execution_count": 226,
   "metadata": {},
   "outputs": [
    {
     "data": {
      "image/png": "[encoded data removed]",
      "text/plain": [
       "<Figure size 432x288 with 1 Axes>"
      ]
     },
     "metadata": {
      "needs_background": "light"
     },
     "output_type": "display_data"
    }
   ],
   "source": [
    "\n",
    "\n",
    "fig, ax= plt.subplots()\n",
    "\n",
    "subset_world_shapefile.plot(ax=ax,edgecolor=\"black\")\n",
    "points_within_grids_within_countries.set_geometry(\"geometry_country\").plot(ax=ax, edgecolor=\"black\",color=\"blue\",alpha=0.2)\n",
    "points_within_grids_within_countries.set_geometry(\"geometry_grid\").plot(ax=ax, color=\"green\",alpha=0.5)\n",
    "points_within_grids_within_countries.set_geometry(\"geometry_point\").plot(ax=ax, color=\"black\")\n",
    "plt.show()"
   ]
  },
  {
   "cell_type": "code",
   "execution_count": 166,
   "metadata": {},
   "outputs": [
    {
     "data": {
      "text/plain": [
       "<matplotlib.axes._subplots.AxesSubplot at 0x23358ec9108>"
      ]
     },
     "execution_count": 166,
     "metadata": {},
     "output_type": "execute_result"
    },
    {
     "data": {
      "image/png": "[encoded data removed]",
      "text/plain": [
       "<Figure size 432x288 with 1 Axes>"
      ]
     },
     "metadata": {
      "needs_background": "light"
     },
     "output_type": "display_data"
    }
   ],
   "source": [
    "\n"
   ]
  },
  {
   "cell_type": "code",
   "execution_count": 169,
   "metadata": {},
   "outputs": [
    {
     "data": {
      "text/plain": [
       "25952"
      ]
     },
     "execution_count": 169,
     "metadata": {},
     "output_type": "execute_result"
    }
   ],
   "source": [
    "def remove_outliers_with_interquartile_range(column):\n",
    "    quartile_1=column.quantile(0.25)\n",
    "    quartile_3=column.quantile(0.75)\n",
    "    interquartile_range=quartile_3-quartile_1\n",
    "    \n",
    "    lower_limit=quartile_1-1.5*interquartile_range\n",
    "    upper_limit=quartile_3+1.5*interquartile_range\n",
    "    \n",
    "    column=column[(column>lower_limit) & (column<upper_limit)]\n",
    "    return column;\n",
    "\n",
    "\n",
    "len(geographicall_nested_dataset[\"total_income_USD_PPP_pHH_Yr\"])\n",
    "#sns.distplot(geographicall_nested_dataset[\"Food_Availability_kCal_MAE_day\"].dropna())"
   ]
  },
  {
   "cell_type": "code",
   "execution_count": 170,
   "metadata": {},
   "outputs": [
    {
     "data": {
      "text/html": [
       "<div>\n",
       "<style scoped>\n",
       "    .dataframe tbody tr th:only-of-type {\n",
       "        vertical-align: middle;\n",
       "    }\n",
       "\n",
       "    .dataframe tbody tr th {\n",
       "        vertical-align: top;\n",
       "    }\n",
       "\n",
       "    .dataframe thead th {\n",
       "        text-align: right;\n",
       "    }\n",
       "</style>\n",
       "<table border=\"1\" class=\"dataframe\">\n",
       "  <thead>\n",
       "    <tr style=\"text-align: right;\">\n",
       "      <th></th>\n",
       "      <th>OBJECTID_grid</th>\n",
       "      <th>Unnamed: 0</th>\n",
       "      <th>FID</th>\n",
       "      <th>mean_education</th>\n",
       "      <th>median_education</th>\n",
       "      <th>std_education</th>\n",
       "      <th>majority</th>\n",
       "      <th>mean_technological_capital</th>\n",
       "      <th>median_technological_capital</th>\n",
       "      <th>std_technological_capital</th>\n",
       "      <th>...</th>\n",
       "      <th>value_livestock_prod_consumed_USD_PPP_pHH_Yr_point</th>\n",
       "      <th>Market_Orientation_point</th>\n",
       "      <th>Livestock_Orientation_point</th>\n",
       "      <th>Food_Availability_kCal_MAE_day_point</th>\n",
       "      <th>Food_Self_Sufficiency_kCal_MAE_day_point</th>\n",
       "      <th>NrofMonthsWildFoodCons_point</th>\n",
       "      <th>GHGEmissions_point</th>\n",
       "      <th>Gender_MaleControl_point</th>\n",
       "      <th>Gender_FemaleControl_point</th>\n",
       "      <th>NFertInput_point</th>\n",
       "    </tr>\n",
       "  </thead>\n",
       "  <tbody>\n",
       "    <tr>\n",
       "      <td>count</td>\n",
       "      <td>14751.000000</td>\n",
       "      <td>14751.000000</td>\n",
       "      <td>14751.000000</td>\n",
       "      <td>13802.000000</td>\n",
       "      <td>13802.000000</td>\n",
       "      <td>13802.000000</td>\n",
       "      <td>13802.000000</td>\n",
       "      <td>13802.000000</td>\n",
       "      <td>13802.000000</td>\n",
       "      <td>13802.000000</td>\n",
       "      <td>...</td>\n",
       "      <td>1.475100e+04</td>\n",
       "      <td>14400.000000</td>\n",
       "      <td>14400.000000</td>\n",
       "      <td>1.450200e+04</td>\n",
       "      <td>1.469200e+04</td>\n",
       "      <td>14751.000000</td>\n",
       "      <td>6.116000e+03</td>\n",
       "      <td>12192.000000</td>\n",
       "      <td>12192.000000</td>\n",
       "      <td>6116.000000</td>\n",
       "    </tr>\n",
       "    <tr>\n",
       "      <td>mean</td>\n",
       "      <td>158.530473</td>\n",
       "      <td>5803.152193</td>\n",
       "      <td>5803.152193</td>\n",
       "      <td>0.058912</td>\n",
       "      <td>0.049116</td>\n",
       "      <td>0.112902</td>\n",
       "      <td>0.030094</td>\n",
       "      <td>-0.075534</td>\n",
       "      <td>-0.057011</td>\n",
       "      <td>0.213585</td>\n",
       "      <td>...</td>\n",
       "      <td>7.348941e+02</td>\n",
       "      <td>0.361860</td>\n",
       "      <td>0.202664</td>\n",
       "      <td>1.860771e+05</td>\n",
       "      <td>9.037182e+03</td>\n",
       "      <td>1.281811</td>\n",
       "      <td>2.699861e+04</td>\n",
       "      <td>0.745323</td>\n",
       "      <td>0.254677</td>\n",
       "      <td>371.455235</td>\n",
       "    </tr>\n",
       "    <tr>\n",
       "      <td>std</td>\n",
       "      <td>72.390706</td>\n",
       "      <td>4614.806347</td>\n",
       "      <td>4614.806347</td>\n",
       "      <td>0.338985</td>\n",
       "      <td>0.366448</td>\n",
       "      <td>0.097171</td>\n",
       "      <td>0.367734</td>\n",
       "      <td>0.282015</td>\n",
       "      <td>0.280232</td>\n",
       "      <td>0.121799</td>\n",
       "      <td>...</td>\n",
       "      <td>6.545478e+04</td>\n",
       "      <td>0.349848</td>\n",
       "      <td>0.292020</td>\n",
       "      <td>1.189282e+07</td>\n",
       "      <td>3.087136e+05</td>\n",
       "      <td>2.363816</td>\n",
       "      <td>7.639528e+04</td>\n",
       "      <td>0.332749</td>\n",
       "      <td>0.332749</td>\n",
       "      <td>1239.331313</td>\n",
       "    </tr>\n",
       "    <tr>\n",
       "      <td>min</td>\n",
       "      <td>35.000000</td>\n",
       "      <td>109.000000</td>\n",
       "      <td>109.000000</td>\n",
       "      <td>-0.746928</td>\n",
       "      <td>-0.867469</td>\n",
       "      <td>0.000000</td>\n",
       "      <td>-0.867469</td>\n",
       "      <td>-0.862406</td>\n",
       "      <td>-0.698689</td>\n",
       "      <td>0.056981</td>\n",
       "      <td>...</td>\n",
       "      <td>0.000000e+00</td>\n",
       "      <td>0.000000</td>\n",
       "      <td>0.000000</td>\n",
       "      <td>0.000000e+00</td>\n",
       "      <td>0.000000e+00</td>\n",
       "      <td>0.000000</td>\n",
       "      <td>4.172000e-02</td>\n",
       "      <td>0.000000</td>\n",
       "      <td>0.000000</td>\n",
       "      <td>0.000000</td>\n",
       "    </tr>\n",
       "    <tr>\n",
       "      <td>25%</td>\n",
       "      <td>83.000000</td>\n",
       "      <td>1739.000000</td>\n",
       "      <td>1739.000000</td>\n",
       "      <td>-0.278877</td>\n",
       "      <td>-0.239923</td>\n",
       "      <td>0.043593</td>\n",
       "      <td>-0.239923</td>\n",
       "      <td>-0.290447</td>\n",
       "      <td>-0.295168</td>\n",
       "      <td>0.111609</td>\n",
       "      <td>...</td>\n",
       "      <td>0.000000e+00</td>\n",
       "      <td>0.000143</td>\n",
       "      <td>0.000000</td>\n",
       "      <td>6.718832e+02</td>\n",
       "      <td>2.586189e+02</td>\n",
       "      <td>0.000000</td>\n",
       "      <td>2.572567e+03</td>\n",
       "      <td>0.538879</td>\n",
       "      <td>0.000000</td>\n",
       "      <td>50.000000</td>\n",
       "    </tr>\n",
       "    <tr>\n",
       "      <td>50%</td>\n",
       "      <td>193.000000</td>\n",
       "      <td>5783.000000</td>\n",
       "      <td>5783.000000</td>\n",
       "      <td>0.109809</td>\n",
       "      <td>0.109809</td>\n",
       "      <td>0.106372</td>\n",
       "      <td>0.109809</td>\n",
       "      <td>-0.020465</td>\n",
       "      <td>-0.015511</td>\n",
       "      <td>0.168827</td>\n",
       "      <td>...</td>\n",
       "      <td>0.000000e+00</td>\n",
       "      <td>0.284930</td>\n",
       "      <td>0.021782</td>\n",
       "      <td>2.089467e+03</td>\n",
       "      <td>8.017545e+02</td>\n",
       "      <td>0.000000</td>\n",
       "      <td>1.332227e+04</td>\n",
       "      <td>0.967280</td>\n",
       "      <td>0.032720</td>\n",
       "      <td>100.000000</td>\n",
       "    </tr>\n",
       "    <tr>\n",
       "      <td>75%</td>\n",
       "      <td>229.000000</td>\n",
       "      <td>9596.000000</td>\n",
       "      <td>9596.000000</td>\n",
       "      <td>0.409082</td>\n",
       "      <td>0.422883</td>\n",
       "      <td>0.173097</td>\n",
       "      <td>0.362108</td>\n",
       "      <td>0.123378</td>\n",
       "      <td>0.133400</td>\n",
       "      <td>0.307529</td>\n",
       "      <td>...</td>\n",
       "      <td>3.048339e+01</td>\n",
       "      <td>0.675357</td>\n",
       "      <td>0.341577</td>\n",
       "      <td>6.107103e+03</td>\n",
       "      <td>2.075928e+03</td>\n",
       "      <td>2.000000</td>\n",
       "      <td>2.951422e+04</td>\n",
       "      <td>1.000000</td>\n",
       "      <td>0.461121</td>\n",
       "      <td>250.000000</td>\n",
       "    </tr>\n",
       "    <tr>\n",
       "      <td>max</td>\n",
       "      <td>250.000000</td>\n",
       "      <td>22141.000000</td>\n",
       "      <td>22141.000000</td>\n",
       "      <td>0.577669</td>\n",
       "      <td>0.711208</td>\n",
       "      <td>0.549530</td>\n",
       "      <td>0.990111</td>\n",
       "      <td>0.588510</td>\n",
       "      <td>0.604076</td>\n",
       "      <td>0.586302</td>\n",
       "      <td>...</td>\n",
       "      <td>7.943184e+06</td>\n",
       "      <td>1.000000</td>\n",
       "      <td>1.000000</td>\n",
       "      <td>1.166834e+09</td>\n",
       "      <td>2.705071e+07</td>\n",
       "      <td>12.000000</td>\n",
       "      <td>2.717704e+06</td>\n",
       "      <td>1.000000</td>\n",
       "      <td>1.000000</td>\n",
       "      <td>32500.000000</td>\n",
       "    </tr>\n",
       "  </tbody>\n",
       "</table>\n",
       "<p>8 rows × 148 columns</p>\n",
       "</div>"
      ],
      "text/plain": [
       "       OBJECTID_grid    Unnamed: 0           FID  mean_education  \\\n",
       "count   14751.000000  14751.000000  14751.000000    13802.000000   \n",
       "mean      158.530473   5803.152193   5803.152193        0.058912   \n",
       "std        72.390706   4614.806347   4614.806347        0.338985   \n",
       "min        35.000000    109.000000    109.000000       -0.746928   \n",
       "25%        83.000000   1739.000000   1739.000000       -0.278877   \n",
       "50%       193.000000   5783.000000   5783.000000        0.109809   \n",
       "75%       229.000000   9596.000000   9596.000000        0.409082   \n",
       "max       250.000000  22141.000000  22141.000000        0.577669   \n",
       "\n",
       "       median_education  std_education      majority  \\\n",
       "count      13802.000000   13802.000000  13802.000000   \n",
       "mean           0.049116       0.112902      0.030094   \n",
       "std            0.366448       0.097171      0.367734   \n",
       "min           -0.867469       0.000000     -0.867469   \n",
       "25%           -0.239923       0.043593     -0.239923   \n",
       "50%            0.109809       0.106372      0.109809   \n",
       "75%            0.422883       0.173097      0.362108   \n",
       "max            0.711208       0.549530      0.990111   \n",
       "\n",
       "       mean_technological_capital  median_technological_capital  \\\n",
       "count                13802.000000                  13802.000000   \n",
       "mean                    -0.075534                     -0.057011   \n",
       "std                      0.282015                      0.280232   \n",
       "min                     -0.862406                     -0.698689   \n",
       "25%                     -0.290447                     -0.295168   \n",
       "50%                     -0.020465                     -0.015511   \n",
       "75%                      0.123378                      0.133400   \n",
       "max                      0.588510                      0.604076   \n",
       "\n",
       "       std_technological_capital  ...  \\\n",
       "count               13802.000000  ...   \n",
       "mean                    0.213585  ...   \n",
       "std                     0.121799  ...   \n",
       "min                     0.056981  ...   \n",
       "25%                     0.111609  ...   \n",
       "50%                     0.168827  ...   \n",
       "75%                     0.307529  ...   \n",
       "max                     0.586302  ...   \n",
       "\n",
       "       value_livestock_prod_consumed_USD_PPP_pHH_Yr_point  \\\n",
       "count                                       1.475100e+04    \n",
       "mean                                        7.348941e+02    \n",
       "std                                         6.545478e+04    \n",
       "min                                         0.000000e+00    \n",
       "25%                                         0.000000e+00    \n",
       "50%                                         0.000000e+00    \n",
       "75%                                         3.048339e+01    \n",
       "max                                         7.943184e+06    \n",
       "\n",
       "       Market_Orientation_point  Livestock_Orientation_point  \\\n",
       "count              14400.000000                 14400.000000   \n",
       "mean                   0.361860                     0.202664   \n",
       "std                    0.349848                     0.292020   \n",
       "min                    0.000000                     0.000000   \n",
       "25%                    0.000143                     0.000000   \n",
       "50%                    0.284930                     0.021782   \n",
       "75%                    0.675357                     0.341577   \n",
       "max                    1.000000                     1.000000   \n",
       "\n",
       "       Food_Availability_kCal_MAE_day_point  \\\n",
       "count                          1.450200e+04   \n",
       "mean                           1.860771e+05   \n",
       "std                            1.189282e+07   \n",
       "min                            0.000000e+00   \n",
       "25%                            6.718832e+02   \n",
       "50%                            2.089467e+03   \n",
       "75%                            6.107103e+03   \n",
       "max                            1.166834e+09   \n",
       "\n",
       "       Food_Self_Sufficiency_kCal_MAE_day_point  NrofMonthsWildFoodCons_point  \\\n",
       "count                              1.469200e+04                  14751.000000   \n",
       "mean                               9.037182e+03                      1.281811   \n",
       "std                                3.087136e+05                      2.363816   \n",
       "min                                0.000000e+00                      0.000000   \n",
       "25%                                2.586189e+02                      0.000000   \n",
       "50%                                8.017545e+02                      0.000000   \n",
       "75%                                2.075928e+03                      2.000000   \n",
       "max                                2.705071e+07                     12.000000   \n",
       "\n",
       "       GHGEmissions_point  Gender_MaleControl_point  \\\n",
       "count        6.116000e+03              12192.000000   \n",
       "mean         2.699861e+04                  0.745323   \n",
       "std          7.639528e+04                  0.332749   \n",
       "min          4.172000e-02                  0.000000   \n",
       "25%          2.572567e+03                  0.538879   \n",
       "50%          1.332227e+04                  0.967280   \n",
       "75%          2.951422e+04                  1.000000   \n",
       "max          2.717704e+06                  1.000000   \n",
       "\n",
       "       Gender_FemaleControl_point  NFertInput_point  \n",
       "count                12192.000000       6116.000000  \n",
       "mean                     0.254677        371.455235  \n",
       "std                      0.332749       1239.331313  \n",
       "min                      0.000000          0.000000  \n",
       "25%                      0.000000         50.000000  \n",
       "50%                      0.032720        100.000000  \n",
       "75%                      0.461121        250.000000  \n",
       "max                      1.000000      32500.000000  \n",
       "\n",
       "[8 rows x 148 columns]"
      ]
     },
     "execution_count": 170,
     "metadata": {},
     "output_type": "execute_result"
    }
   ],
   "source": [
    "points_within_grids_within_countries.describe()"
   ]
  },
  {
   "cell_type": "code",
   "execution_count": 171,
   "metadata": {},
   "outputs": [
    {
     "data": {
      "text/plain": [
       "dtype('float64')"
      ]
     },
     "execution_count": 171,
     "metadata": {},
     "output_type": "execute_result"
    }
   ],
   "source": [
    "points_within_grids_within_countries[\"mean_education\"].dtype"
   ]
  },
  {
   "cell_type": "code",
   "execution_count": 182,
   "metadata": {},
   "outputs": [
    {
     "data": {
      "text/plain": [
       "<matplotlib.axes._subplots.AxesSubplot at 0x1b414bef948>"
      ]
     },
     "execution_count": 182,
     "metadata": {},
     "output_type": "execute_result"
    },
    {
     "data": {
      "image/png": "[encoded data removed]",
      "text/plain": [
       "<Figure size 432x288 with 1 Axes>"
      ]
     },
     "metadata": {
      "needs_background": "light"
     },
     "output_type": "display_data"
    }
   ],
   "source": [
    "sns.distplot(remove_outliers_with_interquartile_range(points_within_grids_within_countries[\"median_population_density\"].dropna()))"
   ]
  },
  {
   "cell_type": "code",
   "execution_count": 215,
   "metadata": {},
   "outputs": [],
   "source": []
  },
  {
   "cell_type": "code",
   "execution_count": 212,
   "metadata": {},
   "outputs": [],
   "source": []
  },
  {
   "cell_type": "code",
   "execution_count": 219,
   "metadata": {},
   "outputs": [
    {
     "data": {
      "text/plain": [
       "37.349994411766545"
      ]
     },
     "execution_count": 219,
     "metadata": {},
     "output_type": "execute_result"
    }
   ],
   "source": [
    "ymax"
   ]
  },
  {
   "cell_type": "code",
   "execution_count": null,
   "metadata": {},
   "outputs": [],
   "source": [
    "countries_in_africa=[\"Algeria\",\n",
    "                     \"Angola\",\n",
    "                     \"Benin\",\n",
    "                     \"Botswana\",\n",
    "                    \"Burundi\",\n",
    "                    \"Burkina Faso\",\n",
    "                    \"Zaire\",\n",
    "                     \"Chad\",\n",
    "                    \"Comoros\",\n",
    "                    \"Cameroon\",\n",
    "                    \"Central African Republic\",\n",
    "                    \"Congo\",\n",
    "                    \"Djibouti\",\n",
    "                    \"Egypt\",\n",
    "                    \"Equitorial Guinea\",\n",
    "                    \"Eritrea\",\n",
    "                    \"Ethiopia\",\n",
    "                    \"Gambia, The\",\n",
    "                    \"Gabon\",\n",
    "                    \"Guinea\",\n",
    "                    \"Kenya\"\n",
    "                    ]"
   ]
  }
 ],
 "metadata": {
  "kernelspec": {
   "display_name": "Python 3",
   "language": "python",
   "name": "python3"
  },
  "language_info": {
   "codemirror_mode": {
    "name": "ipython",
    "version": 3
   },
   "file_extension": ".py",
   "mimetype": "text/x-python",
   "name": "python",
   "nbconvert_exporter": "python",
   "pygments_lexer": "ipython3",
   "version": "3.7.4"
  }
 },
 "nbformat": 4,
 "nbformat_minor": 4
}
