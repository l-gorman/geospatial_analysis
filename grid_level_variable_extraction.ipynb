{
 "cells": [
  {
   "cell_type": "code",
   "execution_count": 1,
   "metadata": {},
   "outputs": [
    {
     "data": {
      "text/plain": [
       "'C:\\\\Users\\\\leogo\\\\OneDrive\\\\Desktop\\\\PhD\\\\Analysis\\\\scripts'"
      ]
     },
     "execution_count": 1,
     "metadata": {},
     "output_type": "execute_result"
    }
   ],
   "source": [
    "import os\n",
    "import pandas as pd\n",
    "import math\n",
    "import numpy as np\n",
    "import matplotlib.pyplot as plt\n",
    "import geopandas as gpd\n",
    "#import gdal\n",
    "import geopandas as gpd\n",
    "from shapely.geometry import Point, Polygon, mapping\n",
    "import rasterio\n",
    "import rasterio.plot\n",
    "import rasterio.mask # an important package which allows you to only extract points within your shapefile\n",
    "import rasterstats # gives us raster summaries within a shapefile\n",
    "from rasterstats import zonal_stats # gives us raster summaries within a shapefile\n",
    "os.getcwd()"
   ]
  },
  {
   "cell_type": "code",
   "execution_count": 2,
   "metadata": {},
   "outputs": [
    {
     "data": {
      "text/plain": [
       "'C:\\\\Users\\\\leogo\\\\OneDrive\\\\Desktop\\\\PhD\\\\Analysis'"
      ]
     },
     "execution_count": 2,
     "metadata": {},
     "output_type": "execute_result"
    }
   ],
   "source": [
    "#os.chdir('../../')\n",
    "os.chdir('../')\n",
    "#os.chdir(\"Analysis\")\n",
    "os.getcwd()"
   ]
  },
  {
   "cell_type": "code",
   "execution_count": 20,
   "metadata": {},
   "outputs": [],
   "source": [
    "#world_grid=gpd.read_file(os.path.join('data', 'shapefiles', 'world_grid_100.0km'))\n",
    "#geometry=world_grid.values\n"
   ]
  },
  {
   "cell_type": "code",
   "execution_count": 7,
   "metadata": {},
   "outputs": [
    {
     "ename": "KeyboardInterrupt",
     "evalue": "",
     "output_type": "error",
     "traceback": [
      "\u001b[1;31m---------------------------------------------------------------------------\u001b[0m",
      "\u001b[1;31mKeyboardInterrupt\u001b[0m                         Traceback (most recent call last)",
      "\u001b[1;32m<ipython-input-7-852ca531abe4>\u001b[0m in \u001b[0;36m<module>\u001b[1;34m\u001b[0m\n\u001b[0;32m     27\u001b[0m \u001b[1;31m#subsetting final dataframe\u001b[0m\u001b[1;33m\u001b[0m\u001b[1;33m\u001b[0m\u001b[1;33m\u001b[0m\u001b[0m\n\u001b[0;32m     28\u001b[0m \u001b[0msubset_world_shapefile\u001b[0m\u001b[1;33m=\u001b[0m\u001b[0msubset_world_shapefile\u001b[0m\u001b[1;33m.\u001b[0m\u001b[0mloc\u001b[0m\u001b[1;33m[\u001b[0m\u001b[0msubset_world_shapefile\u001b[0m\u001b[1;33m[\u001b[0m\u001b[1;34m\"CNTRY_NAME\"\u001b[0m\u001b[1;33m]\u001b[0m\u001b[1;33m.\u001b[0m\u001b[0misin\u001b[0m\u001b[1;33m(\u001b[0m\u001b[0mfinal_countries\u001b[0m\u001b[1;33m)\u001b[0m\u001b[1;33m,\u001b[0m\u001b[1;33m:\u001b[0m\u001b[1;33m]\u001b[0m\u001b[1;33m\u001b[0m\u001b[1;33m\u001b[0m\u001b[0m\n\u001b[1;32m---> 29\u001b[1;33m \u001b[0mgrid_overlay\u001b[0m\u001b[1;33m=\u001b[0m\u001b[0mgpd\u001b[0m\u001b[1;33m.\u001b[0m\u001b[0moverlay\u001b[0m\u001b[1;33m(\u001b[0m\u001b[0msubset_world_shapefile\u001b[0m\u001b[1;33m,\u001b[0m\u001b[0mworld_grid\u001b[0m\u001b[1;33m,\u001b[0m \u001b[0mhow\u001b[0m\u001b[1;33m=\u001b[0m\u001b[1;34m\"identity\"\u001b[0m\u001b[1;33m)\u001b[0m\u001b[1;33m\u001b[0m\u001b[1;33m\u001b[0m\u001b[0m\n\u001b[0m\u001b[0;32m     30\u001b[0m \u001b[0msubset_world_shapefile\u001b[0m\u001b[1;33m=\u001b[0m\u001b[1;32mNone\u001b[0m\u001b[1;33m\u001b[0m\u001b[1;33m\u001b[0m\u001b[0m\n\u001b[0;32m     31\u001b[0m \u001b[0mworld_grid\u001b[0m\u001b[1;33m=\u001b[0m\u001b[0mgrid_overlay\u001b[0m\u001b[1;33m\u001b[0m\u001b[1;33m\u001b[0m\u001b[0m\n",
      "\u001b[1;32m~\\Anaconda3\\lib\\site-packages\\geopandas\\tools\\overlay.py\u001b[0m in \u001b[0;36moverlay\u001b[1;34m(df1, df2, how, make_valid, use_sindex)\u001b[0m\n\u001b[0;32m    395\u001b[0m         \u001b[0mresult\u001b[0m \u001b[1;33m=\u001b[0m \u001b[0m_overlay_union\u001b[0m\u001b[1;33m(\u001b[0m\u001b[0mdf1\u001b[0m\u001b[1;33m,\u001b[0m \u001b[0mdf2\u001b[0m\u001b[1;33m)\u001b[0m\u001b[1;33m\u001b[0m\u001b[1;33m\u001b[0m\u001b[0m\n\u001b[0;32m    396\u001b[0m     \u001b[1;32melif\u001b[0m \u001b[0mhow\u001b[0m \u001b[1;33m==\u001b[0m \u001b[1;34m\"identity\"\u001b[0m\u001b[1;33m:\u001b[0m\u001b[1;33m\u001b[0m\u001b[1;33m\u001b[0m\u001b[0m\n\u001b[1;32m--> 397\u001b[1;33m         \u001b[0mdfunion\u001b[0m \u001b[1;33m=\u001b[0m \u001b[0m_overlay_union\u001b[0m\u001b[1;33m(\u001b[0m\u001b[0mdf1\u001b[0m\u001b[1;33m,\u001b[0m \u001b[0mdf2\u001b[0m\u001b[1;33m)\u001b[0m\u001b[1;33m\u001b[0m\u001b[1;33m\u001b[0m\u001b[0m\n\u001b[0m\u001b[0;32m    398\u001b[0m         \u001b[0mresult\u001b[0m \u001b[1;33m=\u001b[0m \u001b[0mdfunion\u001b[0m\u001b[1;33m[\u001b[0m\u001b[0mdfunion\u001b[0m\u001b[1;33m[\u001b[0m\u001b[1;34m\"__idx1\"\u001b[0m\u001b[1;33m]\u001b[0m\u001b[1;33m.\u001b[0m\u001b[0mnotnull\u001b[0m\u001b[1;33m(\u001b[0m\u001b[1;33m)\u001b[0m\u001b[1;33m]\u001b[0m\u001b[1;33m.\u001b[0m\u001b[0mcopy\u001b[0m\u001b[1;33m(\u001b[0m\u001b[1;33m)\u001b[0m\u001b[1;33m\u001b[0m\u001b[1;33m\u001b[0m\u001b[0m\n\u001b[0;32m    399\u001b[0m     \u001b[0mresult\u001b[0m\u001b[1;33m.\u001b[0m\u001b[0mreset_index\u001b[0m\u001b[1;33m(\u001b[0m\u001b[0mdrop\u001b[0m\u001b[1;33m=\u001b[0m\u001b[1;32mTrue\u001b[0m\u001b[1;33m,\u001b[0m \u001b[0minplace\u001b[0m\u001b[1;33m=\u001b[0m\u001b[1;32mTrue\u001b[0m\u001b[1;33m)\u001b[0m\u001b[1;33m\u001b[0m\u001b[1;33m\u001b[0m\u001b[0m\n",
      "\u001b[1;32m~\\Anaconda3\\lib\\site-packages\\geopandas\\tools\\overlay.py\u001b[0m in \u001b[0;36m_overlay_union\u001b[1;34m(df1, df2)\u001b[0m\n\u001b[0;32m    312\u001b[0m     \u001b[0mOverlay\u001b[0m \u001b[0mUnion\u001b[0m \u001b[0moperation\u001b[0m \u001b[0mused\u001b[0m \u001b[1;32min\u001b[0m \u001b[0moverlay\u001b[0m \u001b[0mfunction\u001b[0m\u001b[1;33m\u001b[0m\u001b[1;33m\u001b[0m\u001b[0m\n\u001b[0;32m    313\u001b[0m     \"\"\"\n\u001b[1;32m--> 314\u001b[1;33m     \u001b[0mdfinter\u001b[0m \u001b[1;33m=\u001b[0m \u001b[0m_overlay_intersection\u001b[0m\u001b[1;33m(\u001b[0m\u001b[0mdf1\u001b[0m\u001b[1;33m,\u001b[0m \u001b[0mdf2\u001b[0m\u001b[1;33m)\u001b[0m\u001b[1;33m\u001b[0m\u001b[1;33m\u001b[0m\u001b[0m\n\u001b[0m\u001b[0;32m    315\u001b[0m     \u001b[0mdfsym\u001b[0m \u001b[1;33m=\u001b[0m \u001b[0m_overlay_symmetric_diff\u001b[0m\u001b[1;33m(\u001b[0m\u001b[0mdf1\u001b[0m\u001b[1;33m,\u001b[0m \u001b[0mdf2\u001b[0m\u001b[1;33m)\u001b[0m\u001b[1;33m\u001b[0m\u001b[1;33m\u001b[0m\u001b[0m\n\u001b[0;32m    316\u001b[0m     \u001b[0mdfunion\u001b[0m \u001b[1;33m=\u001b[0m \u001b[0mpd\u001b[0m\u001b[1;33m.\u001b[0m\u001b[0mconcat\u001b[0m\u001b[1;33m(\u001b[0m\u001b[1;33m[\u001b[0m\u001b[0mdfinter\u001b[0m\u001b[1;33m,\u001b[0m \u001b[0mdfsym\u001b[0m\u001b[1;33m]\u001b[0m\u001b[1;33m,\u001b[0m \u001b[0mignore_index\u001b[0m\u001b[1;33m=\u001b[0m\u001b[1;32mTrue\u001b[0m\u001b[1;33m,\u001b[0m \u001b[0msort\u001b[0m\u001b[1;33m=\u001b[0m\u001b[1;32mFalse\u001b[0m\u001b[1;33m)\u001b[0m\u001b[1;33m\u001b[0m\u001b[1;33m\u001b[0m\u001b[0m\n",
      "\u001b[1;32m~\\Anaconda3\\lib\\site-packages\\geopandas\\tools\\overlay.py\u001b[0m in \u001b[0;36m_overlay_intersection\u001b[1;34m(df1, df2)\u001b[0m\n\u001b[0;32m    226\u001b[0m         \u001b[0mright\u001b[0m \u001b[1;33m=\u001b[0m \u001b[0mdf2\u001b[0m\u001b[1;33m.\u001b[0m\u001b[0mgeometry\u001b[0m\u001b[1;33m.\u001b[0m\u001b[0mtake\u001b[0m\u001b[1;33m(\u001b[0m\u001b[0mpairs\u001b[0m\u001b[1;33m[\u001b[0m\u001b[1;34m\"__idx2\"\u001b[0m\u001b[1;33m]\u001b[0m\u001b[1;33m.\u001b[0m\u001b[0mvalues\u001b[0m\u001b[1;33m)\u001b[0m\u001b[1;33m\u001b[0m\u001b[1;33m\u001b[0m\u001b[0m\n\u001b[0;32m    227\u001b[0m         \u001b[0mright\u001b[0m\u001b[1;33m.\u001b[0m\u001b[0mreset_index\u001b[0m\u001b[1;33m(\u001b[0m\u001b[0mdrop\u001b[0m\u001b[1;33m=\u001b[0m\u001b[1;32mTrue\u001b[0m\u001b[1;33m,\u001b[0m \u001b[0minplace\u001b[0m\u001b[1;33m=\u001b[0m\u001b[1;32mTrue\u001b[0m\u001b[1;33m)\u001b[0m\u001b[1;33m\u001b[0m\u001b[1;33m\u001b[0m\u001b[0m\n\u001b[1;32m--> 228\u001b[1;33m         \u001b[0mintersections\u001b[0m \u001b[1;33m=\u001b[0m \u001b[0mleft\u001b[0m\u001b[1;33m.\u001b[0m\u001b[0mintersection\u001b[0m\u001b[1;33m(\u001b[0m\u001b[0mright\u001b[0m\u001b[1;33m)\u001b[0m\u001b[1;33m.\u001b[0m\u001b[0mbuffer\u001b[0m\u001b[1;33m(\u001b[0m\u001b[1;36m0\u001b[0m\u001b[1;33m)\u001b[0m\u001b[1;33m\u001b[0m\u001b[1;33m\u001b[0m\u001b[0m\n\u001b[0m\u001b[0;32m    229\u001b[0m \u001b[1;33m\u001b[0m\u001b[0m\n\u001b[0;32m    230\u001b[0m         \u001b[1;31m# only keep actual intersecting geometries\u001b[0m\u001b[1;33m\u001b[0m\u001b[1;33m\u001b[0m\u001b[1;33m\u001b[0m\u001b[0m\n",
      "\u001b[1;32m~\\Anaconda3\\lib\\site-packages\\geopandas\\base.py\u001b[0m in \u001b[0;36mintersection\u001b[1;34m(self, other)\u001b[0m\n\u001b[0;32m    478\u001b[0m             \u001b[0mintersection\u001b[0m \u001b[1;32mwith\u001b[0m\u001b[1;33m.\u001b[0m\u001b[1;33m\u001b[0m\u001b[1;33m\u001b[0m\u001b[0m\n\u001b[0;32m    479\u001b[0m         \"\"\"\n\u001b[1;32m--> 480\u001b[1;33m         \u001b[1;32mreturn\u001b[0m \u001b[0m_binary_geo\u001b[0m\u001b[1;33m(\u001b[0m\u001b[1;34m\"intersection\"\u001b[0m\u001b[1;33m,\u001b[0m \u001b[0mself\u001b[0m\u001b[1;33m,\u001b[0m \u001b[0mother\u001b[0m\u001b[1;33m)\u001b[0m\u001b[1;33m\u001b[0m\u001b[1;33m\u001b[0m\u001b[0m\n\u001b[0m\u001b[0;32m    481\u001b[0m \u001b[1;33m\u001b[0m\u001b[0m\n\u001b[0;32m    482\u001b[0m     \u001b[1;31m#\u001b[0m\u001b[1;33m\u001b[0m\u001b[1;33m\u001b[0m\u001b[1;33m\u001b[0m\u001b[0m\n",
      "\u001b[1;32m~\\Anaconda3\\lib\\site-packages\\geopandas\\base.py\u001b[0m in \u001b[0;36m_binary_geo\u001b[1;34m(op, this, other)\u001b[0m\n\u001b[0;32m     64\u001b[0m     \u001b[1;32mfrom\u001b[0m \u001b[1;33m.\u001b[0m\u001b[0mgeoseries\u001b[0m \u001b[1;32mimport\u001b[0m \u001b[0mGeoSeries\u001b[0m\u001b[1;33m\u001b[0m\u001b[1;33m\u001b[0m\u001b[0m\n\u001b[0;32m     65\u001b[0m \u001b[1;33m\u001b[0m\u001b[0m\n\u001b[1;32m---> 66\u001b[1;33m     \u001b[0mgeoms\u001b[0m\u001b[1;33m,\u001b[0m \u001b[0mindex\u001b[0m \u001b[1;33m=\u001b[0m \u001b[0m_delegate_binary_method\u001b[0m\u001b[1;33m(\u001b[0m\u001b[0mop\u001b[0m\u001b[1;33m,\u001b[0m \u001b[0mthis\u001b[0m\u001b[1;33m,\u001b[0m \u001b[0mother\u001b[0m\u001b[1;33m)\u001b[0m\u001b[1;33m\u001b[0m\u001b[1;33m\u001b[0m\u001b[0m\n\u001b[0m\u001b[0;32m     67\u001b[0m     \u001b[1;32mreturn\u001b[0m \u001b[0mGeoSeries\u001b[0m\u001b[1;33m(\u001b[0m\u001b[0mgeoms\u001b[0m\u001b[1;33m.\u001b[0m\u001b[0mdata\u001b[0m\u001b[1;33m,\u001b[0m \u001b[0mindex\u001b[0m\u001b[1;33m=\u001b[0m\u001b[0mindex\u001b[0m\u001b[1;33m,\u001b[0m \u001b[0mcrs\u001b[0m\u001b[1;33m=\u001b[0m\u001b[0mthis\u001b[0m\u001b[1;33m.\u001b[0m\u001b[0mcrs\u001b[0m\u001b[1;33m)\u001b[0m\u001b[1;33m\u001b[0m\u001b[1;33m\u001b[0m\u001b[0m\n\u001b[0;32m     68\u001b[0m \u001b[1;33m\u001b[0m\u001b[0m\n",
      "\u001b[1;32m~\\Anaconda3\\lib\\site-packages\\geopandas\\base.py\u001b[0m in \u001b[0;36m_delegate_binary_method\u001b[1;34m(op, this, other, *args, **kwargs)\u001b[0m\n\u001b[0;32m     55\u001b[0m         \u001b[1;32mraise\u001b[0m \u001b[0mTypeError\u001b[0m\u001b[1;33m(\u001b[0m\u001b[0mtype\u001b[0m\u001b[1;33m(\u001b[0m\u001b[0mthis\u001b[0m\u001b[1;33m)\u001b[0m\u001b[1;33m,\u001b[0m \u001b[0mtype\u001b[0m\u001b[1;33m(\u001b[0m\u001b[0mother\u001b[0m\u001b[1;33m)\u001b[0m\u001b[1;33m)\u001b[0m\u001b[1;33m\u001b[0m\u001b[1;33m\u001b[0m\u001b[0m\n\u001b[0;32m     56\u001b[0m \u001b[1;33m\u001b[0m\u001b[0m\n\u001b[1;32m---> 57\u001b[1;33m     \u001b[0mdata\u001b[0m \u001b[1;33m=\u001b[0m \u001b[0mgetattr\u001b[0m\u001b[1;33m(\u001b[0m\u001b[0ma_this\u001b[0m\u001b[1;33m,\u001b[0m \u001b[0mop\u001b[0m\u001b[1;33m)\u001b[0m\u001b[1;33m(\u001b[0m\u001b[0mother\u001b[0m\u001b[1;33m,\u001b[0m \u001b[1;33m*\u001b[0m\u001b[0margs\u001b[0m\u001b[1;33m,\u001b[0m \u001b[1;33m**\u001b[0m\u001b[0mkwargs\u001b[0m\u001b[1;33m)\u001b[0m\u001b[1;33m\u001b[0m\u001b[1;33m\u001b[0m\u001b[0m\n\u001b[0m\u001b[0;32m     58\u001b[0m     \u001b[1;32mreturn\u001b[0m \u001b[0mdata\u001b[0m\u001b[1;33m,\u001b[0m \u001b[0mthis\u001b[0m\u001b[1;33m.\u001b[0m\u001b[0mindex\u001b[0m\u001b[1;33m\u001b[0m\u001b[1;33m\u001b[0m\u001b[0m\n\u001b[0;32m     59\u001b[0m \u001b[1;33m\u001b[0m\u001b[0m\n",
      "\u001b[1;32m~\\Anaconda3\\lib\\site-packages\\geopandas\\array.py\u001b[0m in \u001b[0;36mintersection\u001b[1;34m(self, other)\u001b[0m\n\u001b[0;32m    612\u001b[0m \u001b[1;33m\u001b[0m\u001b[0m\n\u001b[0;32m    613\u001b[0m     \u001b[1;32mdef\u001b[0m \u001b[0mintersection\u001b[0m\u001b[1;33m(\u001b[0m\u001b[0mself\u001b[0m\u001b[1;33m,\u001b[0m \u001b[0mother\u001b[0m\u001b[1;33m)\u001b[0m\u001b[1;33m:\u001b[0m\u001b[1;33m\u001b[0m\u001b[1;33m\u001b[0m\u001b[0m\n\u001b[1;32m--> 614\u001b[1;33m         \u001b[1;32mreturn\u001b[0m \u001b[0m_binary_geo\u001b[0m\u001b[1;33m(\u001b[0m\u001b[1;34m\"intersection\"\u001b[0m\u001b[1;33m,\u001b[0m \u001b[0mself\u001b[0m\u001b[1;33m,\u001b[0m \u001b[0mother\u001b[0m\u001b[1;33m)\u001b[0m\u001b[1;33m\u001b[0m\u001b[1;33m\u001b[0m\u001b[0m\n\u001b[0m\u001b[0;32m    615\u001b[0m \u001b[1;33m\u001b[0m\u001b[0m\n\u001b[0;32m    616\u001b[0m     \u001b[1;32mdef\u001b[0m \u001b[0msymmetric_difference\u001b[0m\u001b[1;33m(\u001b[0m\u001b[0mself\u001b[0m\u001b[1;33m,\u001b[0m \u001b[0mother\u001b[0m\u001b[1;33m)\u001b[0m\u001b[1;33m:\u001b[0m\u001b[1;33m\u001b[0m\u001b[1;33m\u001b[0m\u001b[0m\n",
      "\u001b[1;32m~\\Anaconda3\\lib\\site-packages\\geopandas\\array.py\u001b[0m in \u001b[0;36m_binary_geo\u001b[1;34m(op, left, right)\u001b[0m\n\u001b[0;32m    242\u001b[0m         data[:] = [\n\u001b[0;32m    243\u001b[0m             \u001b[0mgetattr\u001b[0m\u001b[1;33m(\u001b[0m\u001b[0mthis_elem\u001b[0m\u001b[1;33m,\u001b[0m \u001b[0mop\u001b[0m\u001b[1;33m)\u001b[0m\u001b[1;33m(\u001b[0m\u001b[0mother_elem\u001b[0m\u001b[1;33m)\u001b[0m \u001b[1;32mif\u001b[0m \u001b[0mthis_elem\u001b[0m \u001b[1;32mand\u001b[0m \u001b[0mother_elem\u001b[0m \u001b[1;32melse\u001b[0m \u001b[1;32mNone\u001b[0m\u001b[1;33m\u001b[0m\u001b[1;33m\u001b[0m\u001b[0m\n\u001b[1;32m--> 244\u001b[1;33m             \u001b[1;32mfor\u001b[0m \u001b[0mthis_elem\u001b[0m\u001b[1;33m,\u001b[0m \u001b[0mother_elem\u001b[0m \u001b[1;32min\u001b[0m \u001b[0mzip\u001b[0m\u001b[1;33m(\u001b[0m\u001b[0mleft\u001b[0m\u001b[1;33m.\u001b[0m\u001b[0mdata\u001b[0m\u001b[1;33m,\u001b[0m \u001b[0mright\u001b[0m\u001b[1;33m.\u001b[0m\u001b[0mdata\u001b[0m\u001b[1;33m)\u001b[0m\u001b[1;33m\u001b[0m\u001b[1;33m\u001b[0m\u001b[0m\n\u001b[0m\u001b[0;32m    245\u001b[0m         ]\n\u001b[0;32m    246\u001b[0m         \u001b[1;32mreturn\u001b[0m \u001b[0mGeometryArray\u001b[0m\u001b[1;33m(\u001b[0m\u001b[0mdata\u001b[0m\u001b[1;33m)\u001b[0m\u001b[1;33m\u001b[0m\u001b[1;33m\u001b[0m\u001b[0m\n",
      "\u001b[1;32m~\\Anaconda3\\lib\\site-packages\\geopandas\\array.py\u001b[0m in \u001b[0;36m<listcomp>\u001b[1;34m(.0)\u001b[0m\n\u001b[0;32m    242\u001b[0m         data[:] = [\n\u001b[0;32m    243\u001b[0m             \u001b[0mgetattr\u001b[0m\u001b[1;33m(\u001b[0m\u001b[0mthis_elem\u001b[0m\u001b[1;33m,\u001b[0m \u001b[0mop\u001b[0m\u001b[1;33m)\u001b[0m\u001b[1;33m(\u001b[0m\u001b[0mother_elem\u001b[0m\u001b[1;33m)\u001b[0m \u001b[1;32mif\u001b[0m \u001b[0mthis_elem\u001b[0m \u001b[1;32mand\u001b[0m \u001b[0mother_elem\u001b[0m \u001b[1;32melse\u001b[0m \u001b[1;32mNone\u001b[0m\u001b[1;33m\u001b[0m\u001b[1;33m\u001b[0m\u001b[0m\n\u001b[1;32m--> 244\u001b[1;33m             \u001b[1;32mfor\u001b[0m \u001b[0mthis_elem\u001b[0m\u001b[1;33m,\u001b[0m \u001b[0mother_elem\u001b[0m \u001b[1;32min\u001b[0m \u001b[0mzip\u001b[0m\u001b[1;33m(\u001b[0m\u001b[0mleft\u001b[0m\u001b[1;33m.\u001b[0m\u001b[0mdata\u001b[0m\u001b[1;33m,\u001b[0m \u001b[0mright\u001b[0m\u001b[1;33m.\u001b[0m\u001b[0mdata\u001b[0m\u001b[1;33m)\u001b[0m\u001b[1;33m\u001b[0m\u001b[1;33m\u001b[0m\u001b[0m\n\u001b[0m\u001b[0;32m    245\u001b[0m         ]\n\u001b[0;32m    246\u001b[0m         \u001b[1;32mreturn\u001b[0m \u001b[0mGeometryArray\u001b[0m\u001b[1;33m(\u001b[0m\u001b[0mdata\u001b[0m\u001b[1;33m)\u001b[0m\u001b[1;33m\u001b[0m\u001b[1;33m\u001b[0m\u001b[0m\n",
      "\u001b[1;32m~\\Anaconda3\\lib\\site-packages\\shapely\\geometry\\base.py\u001b[0m in \u001b[0;36mintersection\u001b[1;34m(self, other)\u001b[0m\n\u001b[0;32m    618\u001b[0m     \u001b[1;32mdef\u001b[0m \u001b[0mintersection\u001b[0m\u001b[1;33m(\u001b[0m\u001b[0mself\u001b[0m\u001b[1;33m,\u001b[0m \u001b[0mother\u001b[0m\u001b[1;33m)\u001b[0m\u001b[1;33m:\u001b[0m\u001b[1;33m\u001b[0m\u001b[1;33m\u001b[0m\u001b[0m\n\u001b[0;32m    619\u001b[0m         \u001b[1;34m\"\"\"Returns the intersection of the geometries\"\"\"\u001b[0m\u001b[1;33m\u001b[0m\u001b[1;33m\u001b[0m\u001b[0m\n\u001b[1;32m--> 620\u001b[1;33m         \u001b[1;32mreturn\u001b[0m \u001b[0mgeom_factory\u001b[0m\u001b[1;33m(\u001b[0m\u001b[0mself\u001b[0m\u001b[1;33m.\u001b[0m\u001b[0mimpl\u001b[0m\u001b[1;33m[\u001b[0m\u001b[1;34m'intersection'\u001b[0m\u001b[1;33m]\u001b[0m\u001b[1;33m(\u001b[0m\u001b[0mself\u001b[0m\u001b[1;33m,\u001b[0m \u001b[0mother\u001b[0m\u001b[1;33m)\u001b[0m\u001b[1;33m)\u001b[0m\u001b[1;33m\u001b[0m\u001b[1;33m\u001b[0m\u001b[0m\n\u001b[0m\u001b[0;32m    621\u001b[0m \u001b[1;33m\u001b[0m\u001b[0m\n\u001b[0;32m    622\u001b[0m     \u001b[1;32mdef\u001b[0m \u001b[0msymmetric_difference\u001b[0m\u001b[1;33m(\u001b[0m\u001b[0mself\u001b[0m\u001b[1;33m,\u001b[0m \u001b[0mother\u001b[0m\u001b[1;33m)\u001b[0m\u001b[1;33m:\u001b[0m\u001b[1;33m\u001b[0m\u001b[1;33m\u001b[0m\u001b[0m\n",
      "\u001b[1;32m~\\Anaconda3\\lib\\site-packages\\shapely\\topology.py\u001b[0m in \u001b[0;36m__call__\u001b[1;34m(self, this, other, *args)\u001b[0m\n\u001b[0;32m     64\u001b[0m         \u001b[0mself\u001b[0m\u001b[1;33m.\u001b[0m\u001b[0m_validate\u001b[0m\u001b[1;33m(\u001b[0m\u001b[0mthis\u001b[0m\u001b[1;33m)\u001b[0m\u001b[1;33m\u001b[0m\u001b[1;33m\u001b[0m\u001b[0m\n\u001b[0;32m     65\u001b[0m         \u001b[0mself\u001b[0m\u001b[1;33m.\u001b[0m\u001b[0m_validate\u001b[0m\u001b[1;33m(\u001b[0m\u001b[0mother\u001b[0m\u001b[1;33m,\u001b[0m \u001b[0mstop_prepared\u001b[0m\u001b[1;33m=\u001b[0m\u001b[1;32mTrue\u001b[0m\u001b[1;33m)\u001b[0m\u001b[1;33m\u001b[0m\u001b[1;33m\u001b[0m\u001b[0m\n\u001b[1;32m---> 66\u001b[1;33m         \u001b[0mproduct\u001b[0m \u001b[1;33m=\u001b[0m \u001b[0mself\u001b[0m\u001b[1;33m.\u001b[0m\u001b[0mfn\u001b[0m\u001b[1;33m(\u001b[0m\u001b[0mthis\u001b[0m\u001b[1;33m.\u001b[0m\u001b[0m_geom\u001b[0m\u001b[1;33m,\u001b[0m \u001b[0mother\u001b[0m\u001b[1;33m.\u001b[0m\u001b[0m_geom\u001b[0m\u001b[1;33m,\u001b[0m \u001b[1;33m*\u001b[0m\u001b[0margs\u001b[0m\u001b[1;33m)\u001b[0m\u001b[1;33m\u001b[0m\u001b[1;33m\u001b[0m\u001b[0m\n\u001b[0m\u001b[0;32m     67\u001b[0m         \u001b[1;32mif\u001b[0m \u001b[0mproduct\u001b[0m \u001b[1;32mis\u001b[0m \u001b[1;32mNone\u001b[0m\u001b[1;33m:\u001b[0m\u001b[1;33m\u001b[0m\u001b[1;33m\u001b[0m\u001b[0m\n\u001b[0;32m     68\u001b[0m             err = TopologicalError(\n",
      "\u001b[1;31mKeyboardInterrupt\u001b[0m: "
     ]
    }
   ],
   "source": [
    "# subsetting shapefile by continent\n",
    "\n",
    "resolution=\"100\"\n",
    "file_name=\"world_grid_\"+resolution+\".0km\"\n",
    "continent=\"Africa\"\n",
    "continent_file=\"africa_grid_\"+resolution+\".0km\"\n",
    "\n",
    "world_grid=gpd.read_file(os.path.join('data', 'shapefiles', file_name))\n",
    "world_shapefile=gpd.read_file(os.path.join('data', 'shapefiles', 'World'))\n",
    "world_geopanda = gpd.read_file(gpd.datasets.get_path('naturalearth_lowres')) #continents dataframe\n",
    "continent_shapefile=world_geopanda.loc[world_geopanda[\"continent\"]==continent,[\"continent\",\"geometry\"]]\n",
    "continent_shapefile[\"geometry\"]=continent_shapefile.envelope\n",
    "continent_shapefile.columns=[\"geometry_continent\" if col_name==\"geometry\" else col_name for col_name in continent_shapefile.columns]\n",
    "#subset_world_shapefile=gpd.overlay(world_shapefile.set_geometry(\"geometry\"), continent_shapefile.set_geometry(\"geometry_continent\"), how='intersection')\n",
    "subset_world_shapefile=gpd.sjoin(world_shapefile.set_geometry(\"geometry\"), continent_shapefile.set_geometry(\"geometry_continent\"), how='inner')\n",
    "world_shapefile=None\n",
    "continent_shapefile=None\n",
    "countries=subset_world_shapefile[\"CNTRY_NAME\"].unique()\n",
    "\n",
    "\n",
    "# Getting rid of some european countries\n",
    "countries_to_exclude=[\"Portugal\", \"Spain\", \"Gibraltar\", \"Gaza Strip\", \"Israel\", \"Jordan\", \"West Bank\", \"Saudi Arabia\", \"Yemen\"]\n",
    "final_countries=pd.Series(countries).isin(countries_to_exclude)==False\n",
    "final_countries=countries[final_countries]\n",
    "\n",
    "\n",
    "#subsetting final dataframe\n",
    "subset_world_shapefile=subset_world_shapefile.loc[subset_world_shapefile[\"CNTRY_NAME\"].isin(final_countries),:]\n",
    "grid_overlay=gpd.overlay(subset_world_shapefile,world_grid, how=\"identity\")\n",
    "subset_world_shapefile=None\n",
    "world_grid=grid_overlay\n",
    "grid_overlay=None\n",
    "world_grid.drop(columns=['OBJECTID', 'CNTRY_NAME', 'index_right', 'continent']).to_file(os.path.join('data', 'shapefiles', continent_file))\n",
    "\n",
    "world_grid=None"
   ]
  },
  {
   "cell_type": "code",
   "execution_count": 30,
   "metadata": {},
   "outputs": [],
   "source": [
    "rasters_to_attach={\"education\":os.path.join(\"data\", \"raster\",\"ClimAfr21_education_index\",\"ClimAfr21_education index.tif\"),\n",
    "                  \"technological_capital\":os.path.join(\"data\", \"raster\",\"ClimAfr08_technological_capital_index\",\"ClimAfr08_technological capital index.tif\"),\n",
    "                  \"infrastructure\":os.path.join(\"data\", \"raster\",\"ClimAfr23_infrastructure_index\",\"ClimAfr23_infrastructure index.tif\"),\n",
    "                  \"conflictuality\":os.path.join(\"data\", \"raster\",\"ClimAfr27_conflictuality_index\",\"ClimAfr27_conflictuality index.tif\"),\n",
    "                  #\"soil\":os.path.join(\"data\", \"raster\",\"HWSD_RASTER\",\"hwsd.bil\"),\n",
    "                  \"cattle_density\":os.path.join(\"data\", \"raster\",\"cattle_density_map\",\"Cattle10km_AD_2010_v2_1.tif\"),\n",
    "                  #\"AEZ\":os.path.join(\"data\", \"raster\",\"ClimAfr_AEZ\",\"ClimAf_1_1981_2050_lpjm_mir5_B1_AEZAI_ann_avgCUR05_10km.tif\"),\n",
    "                  \"financial_capital\":os.path.join(\"data\", \"raster\",\"ClimAfr09_financial_capital_index\",\"ClimAfr09_financial capital index.tif\"),\n",
    "                  \"rurality\":os.path.join(\"data\", \"raster\",\"ClimAfr13_rurality_index\",\"ClimAfr13_rurality index.tif\"),\n",
    "                  \"gender_gap\":os.path.join(\"data\", \"raster\",\"ClimAfr15_gender_gap_index\",\"ClimAfr15_gender gap index.tif\"),\n",
    "                  \"household_technological_capital\":os.path.join(\"data\", \"raster\",\"ClimAfr22_household_technology_index\",\"ClimAfr22_household technology index.tif\"),\n",
    "                  \"financial_development\":os.path.join(\"data\", \"raster\",\"ClimAfr24_financial_development_index\",\"ClimAfr24_financial development index.tif\"),\n",
    "                  \"richness\":os.path.join(\"data\", \"raster\",\"ClimAfr25_richness_index\",\"ClimAfr25_richness index.tif\"),\n",
    "                  \"governance\":os.path.join(\"data\", \"raster\",\"ClimAfr26_governance_index\",\"ClimAfr26_governance index.tif\"),\n",
    "                  #\"slope\":os.path.join(\"data\", \"raster\",\"global_slope_median\",\"plate09.bil\"),\n",
    "                  \"population_density\":os.path.join(\"data\", \"raster\",\"gridded_pop_world_population_density_2015\",\"gpw_v4_population_density_adjusted_to_2015_unwpp_country_totals_rev11_2015_2pt5_min.tif\"),\n",
    "                  \"institutional_capital\":os.path.join(\"data\", \"raster\",\"ClimAfr10_institutional_capital_index\",\"ClimAfr10_institutional capital index.tif\"),\n",
    "                  \"AEZ\":os.path.join(\"data\", \"raster\",\"AEZ_2009\",\"AEZ_FINAL.asc\"),\n",
    "                  \"time_to_market_20_k\":os.path.join(\"data\", \"raster\",\"Harvest_Choice_Market_Travel\",\"TravelTimeToMarket_SSA_GeoTiff\",\"traveltimetomarket_ssa_020k.tif\"),\n",
    "                  \"time_to_market_50_k\":os.path.join(\"data\", \"raster\",\"Harvest_Choice_Market_Travel\",\"TravelTimeToMarket_SSA_GeoTiff\",\"traveltimetomarket_ssa_050k.tif\"),\n",
    "                  \"time_to_market_100_k\":os.path.join(\"data\", \"raster\",\"Harvest_Choice_Market_Travel\",\"TravelTimeToMarket_SSA_GeoTiff\",\"traveltimetomarket_ssa_100k.tif\"),\n",
    "                  \"time_to_market_250_k\":os.path.join(\"data\", \"raster\",\"Harvest_Choice_Market_Travel\",\"TravelTimeToMarket_SSA_GeoTiff\",\"traveltimetomarket_ssa_250k.tif\"),\n",
    "                  \"time_to_market_500_k\":os.path.join(\"data\", \"raster\",\"Harvest_Choice_Market_Travel\",\"TravelTimeToMarket_SSA_GeoTiff\",\"traveltimetomarket_ssa_500k.tif\")}\n",
    "                  #\"pests_and_disease\":os.path.join(\"data\", \"raster\",\"Harvest_Choice_Pests_and_Disease\",\"Pests_and_Disease.tiff\")}\n",
    "\n",
    "raster_keys=[value for value, key in  rasters_to_attach.items()]\n",
    "raster_labels=[key for value, key in  rasters_to_attach.items()]\n"
   ]
  },
  {
   "cell_type": "code",
   "execution_count": 31,
   "metadata": {},
   "outputs": [],
   "source": [
    "\n",
    "AEZ_mapping_categories={101:\"Temperate / arid\",\n",
    "                    102:\"Temperate / Semi-arid\",\n",
    "                    103:\"Temperate / sub-humid\",\n",
    "                    104:\"Temperate / humid\",\n",
    "                    211:\"Subtropic - warm / arid\",\n",
    "                    212:\"Subtropic - warm / semiarid\",\n",
    "                    213:\"Subtropic - warm / subhumid\",\n",
    "                    214:\"Subtropic - warm / humid\",\n",
    "                    221:\"Subtropic - cool / arid\",\n",
    "                    222:\"Subtropic - cool / semiarid\",\n",
    "                    223:\"Subtropic - cool / subhumid\",\n",
    "                    224:\"Subtropic - cool / humid\",\n",
    "                    311:\"Tropic - warm / arid\",\n",
    "                    312:\"Tropic - warm / semiarid\",\n",
    "                    313:\"Tropic - warm / subhumid\",\n",
    "                    314:\"Tropic - warm / humid\",\n",
    "                    321:\"Tropic - cool / arid\",\n",
    "                    322:\"Tropic - cool / semiarid\",\n",
    "                    323:\"Tropic - cool / subhumid\",\n",
    "                    324:\"Tropic - cool / humid\",\n",
    "                    400:\"Boreal\"}\n",
    "\n",
    "\n",
    "#filepath=AEZ_raster\n",
    "#shapefile=world_grid\n",
    "#data_type=\"AEZ\"\n",
    "#with rasterio.open(filepath) as src:\n",
    "    # can check the profile and type of src, but effectively is an open file command\n",
    "#    affine = src.transform # transforms the raster dataset into the coordinate reference system\n",
    "#    print(\"broke before read\")\n",
    "#    #raster_array=rasterio.open(filepath,driver=\"AAIGrid\").read(1)\n",
    "#    raster_array=src.read()\n",
    "#    print(\"broke after open\")\n",
    "#    #raster_array_AEZ=zonal_stats(world_grid, AEZ_raster,categorical=True,category_map=mapping_categories, stats=[\"majority\"])\n",
    "#    raster_array_AEZ = pd.DataFrame(zonal_stats(shapefile,raster_array, categorical=True,category_map=mapping_categories,affine=affine,stats=[\"majority\"]))\n",
    "#    print(\"broke when converting to df\")\n",
    "#raster_statistics_for_grid=pd.concat([shapefile,raster_statistics_for_grid],axis=1)\n",
    "#grid_raster_merge=raster_statistics_for_grid\n"
   ]
  },
  {
   "cell_type": "code",
   "execution_count": 32,
   "metadata": {},
   "outputs": [],
   "source": [
    "#https://gis.stackexchange.com/questions/297076/how-to-calculate-mean-value-of-a-raster-for-each-polygon-in-a-shapefile\n",
    "def merge_shape_file_with_raster(filepath, shapefile,raster_keys):\n",
    "    with rasterio.open(filepath) as src:\n",
    "        # can check the profile and type of src, but effectively is an open file command\n",
    "        affine = src.transform # transforms the raster dataset into the coordinate reference system\n",
    "        print(\"reading \"+raster_keys)\n",
    "        raster_array=rasterio.open(filepath).read(1) # why is this \"1\" here?\n",
    "        print(\"converting to numeric \"+raster_keys)\n",
    "\n",
    "        if raster_keys!=\"AEZ\":\n",
    "            raster_array=raster_array.astype(float)\n",
    "        #raster_array[raster_array<-3.4e+38]=np.nan\n",
    "            raster_array[raster_array<-2e+9]=np.nan\n",
    "        if raster_keys==\"AEZ\":\n",
    "            raster_array=raster_array.astype(int)\n",
    "        \n",
    "        print(\"Zonal Stats \"+raster_keys)\n",
    "        \n",
    "        if raster_keys!=\"AEZ\":\n",
    "            raster_statistics_for_grid = pd.DataFrame(zonal_stats(shapefile,raster_array ,affine=affine,stats=[ 'mean', 'median', 'std'])) # calculates raster statistics within boundary of shapefile\n",
    "       \n",
    "        if raster_keys==\"AEZ\":\n",
    "            raster_statistics_for_grid = pd.DataFrame(zonal_stats(shapefile,raster_array ,affine=affine,stats=[\"majority\"])) # calculates raster statistics within boundary of shapefile\n",
    "\n",
    "    \n",
    "    #raster_array=None\n",
    "    print(\"Concat \"+raster_keys)\n",
    "    raster_statistics_for_grid=pd.concat([shapefile,raster_statistics_for_grid],axis=1)\n",
    "    grid_raster_merge=raster_statistics_for_grid\n",
    "    raster_statistics_for_grid\n",
    "\n",
    "    print(\"Changing col names \"+raster_keys)\n",
    "    if raster_keys!=\"AEZ\":\n",
    "        grid_raster_merge.columns=[column_name.replace(\"mean\",\"mean_\"+raster_keys) if column_name==\"mean\" else column_name  for column_name in grid_raster_merge.columns]\n",
    "        grid_raster_merge.columns=[column_name.replace(\"median\",\"median_\"+raster_keys) if column_name==\"median\" else column_name for column_name in grid_raster_merge.columns]\n",
    "        grid_raster_merge.columns=[column_name.replace(\"std\",\"std_\"+raster_keys) if column_name==\"std\" else column_name for column_name in grid_raster_merge.columns]\n",
    "    if raster_keys==\"AEZ\":\n",
    "        grid_raster_merge.columns=[column_name.replace(\"majority\",\"majority_\"+datatype) if column_name==\"majority\" else column_name for column_name in grid_raster_merge.columns]\n",
    "\n",
    "    return grid_raster_merge;"
   ]
  },
  {
   "cell_type": "code",
   "execution_count": null,
   "metadata": {},
   "outputs": [],
   "source": [
    "resolution=\"100\"\n",
    "file_name=\"world_grid_\"+resolution+\".0km\"\n",
    "continent=\"Africa\"\n",
    "continent_file=\"africa_grid_\"+resolution+\".0km\"\n",
    "\n",
    "world_grid_old=gpd.read_file(os.path.join('data', 'shapefiles', continent_file))\n",
    "#world_grid=None\n",
    "for loop_index in range(len(rasters_to_attach)):\n",
    "    print(\"----------------------\"+raster_keys[loop_index]+\"----------------------------\")\n",
    "    world_grid_new=merge_shape_file_with_raster(filepath=raster_labels[loop_index],  shapefile=world_grid_old, raster_keys=raster_keys[loop_index])\n",
    "    columns_to_add=[\"FID\"]\n",
    "    columns_to_add.extend(list(world_grid_new.columns.difference(world_grid_old.columns)))\n",
    "    print(\"Merging old and new \"+raster_keys[loop_index])\n",
    "    world_grid_old=pd.merge(world_grid_old,world_grid_new[world_grid_new.columns.intersection(columns_to_add)])  \n",
    "    #world_grid_new=None\n",
    "processed_file_name=\"africa_grid_\"+resolution+\"processed.csv\"\n",
    "world_grid_old.to_csv(os.path.join(\"data\",\"processed\",processed_file_name))"
   ]
  },
  {
   "cell_type": "code",
   "execution_count": 3,
   "metadata": {},
   "outputs": [],
   "source": [
    "resolution=\"100\"\n",
    "file_name=\"world_grid_\"+resolution+\".0km\"\n",
    "continent=\"Africa\"\n",
    "continent_file=\"africa_grid_\"+resolution+\".0km\"\n",
    "\n",
    "world_grid_old=gpd.read_file(os.path.join('data', 'shapefiles', continent_file))"
   ]
  },
  {
   "cell_type": "code",
   "execution_count": 4,
   "metadata": {},
   "outputs": [
    {
     "data": {
      "text/plain": [
       "Index(['OBJECTID', 'CNTRY_NAME', 'index_righ', 'continent', 'FID', 'geometry'], dtype='object')"
      ]
     },
     "execution_count": 4,
     "metadata": {},
     "output_type": "execute_result"
    }
   ],
   "source": [
    "world_grid_old.columns"
   ]
  },
  {
   "cell_type": "code",
   "execution_count": null,
   "metadata": {},
   "outputs": [],
   "source": [
    "subsetting_non_na_values=world_grid_old.loc[:,\"majority\"+\"_AEZ\"].notna()\n",
    "grid_raster_merge_non_na=world_grid_old.loc[subsetting_non_na_values,:]"
   ]
  },
  {
   "cell_type": "code",
   "execution_count": null,
   "metadata": {},
   "outputs": [],
   "source": [
    "grid_raster_merge_non_na.plot()"
   ]
  }
 ],
 "metadata": {
  "kernelspec": {
   "display_name": "Python 3",
   "language": "python",
   "name": "python3"
  },
  "language_info": {
   "codemirror_mode": {
    "name": "ipython",
    "version": 3
   },
   "file_extension": ".py",
   "mimetype": "text/x-python",
   "name": "python",
   "nbconvert_exporter": "python",
   "pygments_lexer": "ipython3",
   "version": "3.7.4"
  }
 },
 "nbformat": 4,
 "nbformat_minor": 4
}
