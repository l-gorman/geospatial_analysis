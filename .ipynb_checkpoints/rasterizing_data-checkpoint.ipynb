{
 "cells": [
  {
   "cell_type": "code",
   "execution_count": 2,
   "metadata": {},
   "outputs": [
    {
     "data": {
      "text/plain": [
       "'C:\\\\Users\\\\leogo\\\\OneDrive\\\\Desktop\\\\PhD\\\\Analysis'"
      ]
     },
     "execution_count": 2,
     "metadata": {},
     "output_type": "execute_result"
    }
   ],
   "source": [
    "import os\n",
    "import pandas as pd\n",
    "import math\n",
    "import numpy as np\n",
    "import matplotlib.pyplot as plt\n",
    "import geopandas as gpd\n",
    "import gdal\n",
    "import geopandas as gpd\n",
    "import descartes \n",
    "from shapely.geometry import Point, Polygon\n",
    "#os.chdir('../../')\n",
    "os.getcwd()"
   ]
  },
  {
   "cell_type": "markdown",
   "metadata": {},
   "source": [
    "# Loading RHoMIS and Adding GeoPandas Geometry #"
   ]
  },
  {
   "cell_type": "code",
   "execution_count": 199,
   "metadata": {},
   "outputs": [],
   "source": [
    "rhomis_indicator=pd.read_csv(\n",
    "    os.path.join(\"data\", \"rhomis_data\",\"RHoMIS_Indicators.csv\"), \n",
    "    encoding=\"latin1\", \n",
    "    low_memory=False)\n",
    "\n",
    "latitude_not_null=rhomis_indicator.loc[:,\"GPS_LAT\"].notnull()\n",
    "longitude_not_null=rhomis_indicator.loc[:,\"GPS_LON\"].notnull()\n",
    "spatially_explicit_rhomis=rhomis_indicator.loc[latitude_not_null&longitude_not_null,:]\n",
    "\n",
    "columns_to_subset=[\"GPS_LAT\", \n",
    "                   \"GPS_LON\", \n",
    "                   \"total_income_USD_PPP_pHH_Yr\"]\n",
    "\n",
    "#subsetting RHoMIS\n",
    "#spatially_explicit_rhomis=spatially_explicit_rhomis.loc[spatially_explicit_rhomis.loc[:,\"ID_COUNTRY\"]==\"BF\",:]\n",
    "boolean_column_location=spatially_explicit_rhomis.columns.isin(columns_to_subset)\n",
    "income_and_GPS=pd.DataFrame(spatially_explicit_rhomis.loc[:,boolean_column_location])\n",
    "\n",
    "geometry=[Point(xy) for xy in zip(income_and_GPS[\"GPS_LON\"], income_and_GPS[\"GPS_LAT\"])]\n",
    "crs={'init' :'epsg:4326'}\n",
    "income_and_GPS = gpd.GeoDataFrame(income_and_GPS, geometry=geometry,crs=crs)"
   ]
  },
  {
   "cell_type": "code",
   "execution_count": 200,
   "metadata": {},
   "outputs": [
    {
     "data": {
      "text/plain": [
       "2"
      ]
     },
     "execution_count": 200,
     "metadata": {},
     "output_type": "execute_result"
    }
   ],
   "source": [
    "import re\n",
    "shapefiles_in_folder=os.listdir(os.path.join(\"data\", \"shapefiles\"))\n",
    "regular_expression= re.compile(\".*km\")\n",
    "\n",
    "#regex_shapefiles=[re.match(regular_expression, x) for x in shapefiles_in_folder]\n",
    "#regex_shapefiles=[re.search(regular_expression, x) for x in shapefiles_in_folder]\n",
    "\n",
    "regex_shapefiles=[]\n",
    "for x in shapefiles_in_folder:\n",
    "    temporary_matching=re.match(regular_expression, x)\n",
    "    if temporary_matching is not None:\n",
    "        regex_shapefiles.append(temporary_matching.group(0))\n",
    "len(regex_shapefiles)"
   ]
  },
  {
   "cell_type": "markdown",
   "metadata": {},
   "source": [
    "# Creating Spatial Grid over world shapefile #"
   ]
  },
  {
   "cell_type": "code",
   "execution_count": 201,
   "metadata": {},
   "outputs": [],
   "source": [
    "world_shapefile=gpd.read_file(\n",
    "    os.path.join('data', 'shapefiles', 'World'))\n",
    "\n",
    "\n",
    "grid_size= 100000\n",
    "#grid_size_km=grid_size/1000\n",
    "\n",
    "def create_world_grid(world_shapefile, grid_size):\n",
    "    radius_of_earth=6371000\n",
    "    longitude_minimum, latitude_minimum, longitude_maximum, latitude_maximum=world_shapefile.total_bounds\n",
    "\n",
    "    def append_polygons_list(polygons ,origin ,horizontal_step, vertical_step, horizontal_bound,vertical_bound):\n",
    "        long_left=origin[0]\n",
    "        lat_bottom=origin[1] \n",
    "\n",
    "        long_right=long_left+horizontal_step\n",
    "        if abs(long_right)>abs(horizontal_bound):\n",
    "            long_right=horizontal_bound\n",
    "\n",
    "        lat_top=lat_bottom+vertical_step\n",
    "        if abs(lat_top)>abs(vertical_bound):\n",
    "            lat_top=vertical_bound\n",
    "\n",
    "        polygons.append(Polygon([(long_left,lat_bottom),(long_left,lat_top),(long_right,lat_top),(long_right,lat_bottom)]))\n",
    "        return polygons\n",
    "\n",
    "\n",
    "    def update_origins(origin_south_west, origin_north_west, origin_north_east, origin_south_east, latitude_step, longitude_step):\n",
    "        origin_south_west=[origin_south_west[0]-longitude_step,origin_south_west[1]-latitude_step]\n",
    "        origin_north_west=[origin_north_west[0]-longitude_step,origin_north_west[1]+latitude_step]\n",
    "        origin_north_east=[origin_north_east[0]+longitude_step,origin_north_east[1]+latitude_step]\n",
    "        origin_south_east=[origin_south_east[0]+longitude_step,origin_south_east[1]-latitude_step]\n",
    "        return origin_south_west, origin_north_west, origin_north_east, origin_south_east\n",
    "\n",
    "    #initialising polygons list and setting coordinates to 0 lat 0 long\n",
    "    polygons=[] \n",
    "    origin=[0,0] \n",
    "    origin_south_west=origin\n",
    "    origin_north_west=origin\n",
    "    origin_north_east=origin\n",
    "    origin_south_east=origin\n",
    "\n",
    "\n",
    "    latitude_limit=min([abs(latitude_minimum), abs(latitude_maximum)])\n",
    "    longitude_limit=min([abs(longitude_minimum), abs(longitude_maximum)])\n",
    "\n",
    "    # This is the increase in latitude required to produce grids of a particular size.\n",
    "    latitude_step=(180*grid_size)/(math.pi*(radius_of_earth))\n",
    "    sum_of_latitude_steps=0\n",
    "\n",
    "    while sum_of_latitude_steps<latitude_limit:\n",
    "        sum_of_longitude_steps=0    \n",
    "        while sum_of_longitude_steps<180:\n",
    "            # If we have a latitude of zero then our longitude step tends to infinity, must avoid this.\n",
    "            if math.cos(math.radians(origin_north_west[1]))>0.01:\n",
    "                # The change in longitude required to produce the particular grid size, this is important as it varies according to latitude\n",
    "                longitude_step=(180*grid_size)/(math.pi*(radius_of_earth)*math.cos(math.radians(origin_north_west[1])))            \n",
    "                sum_of_longitude_steps=sum_of_longitude_steps+longitude_step\n",
    "                # north west movement\n",
    "                polygons=append_polygons_list(polygons=polygons,\n",
    "                                          origin=origin_north_west, \n",
    "                                          horizontal_step=-longitude_step,\n",
    "                                          vertical_step=latitude_step,\n",
    "                                          horizontal_bound=longitude_minimum,\n",
    "                                         vertical_bound=latitude_maximum)\n",
    "                # north east movement\n",
    "                polygons=append_polygons_list(polygons=polygons,\n",
    "                                          origin=origin_north_east, \n",
    "                                          horizontal_step=longitude_step,\n",
    "                                          vertical_step=latitude_step,\n",
    "                                          horizontal_bound=longitude_maximum,\n",
    "                                         vertical_bound=latitude_maximum)\n",
    "\n",
    "                # south west movement\n",
    "                polygons=append_polygons_list(polygons=polygons,\n",
    "                                          origin=origin_south_west, \n",
    "                                          horizontal_step=-longitude_step,\n",
    "                                          vertical_step=-latitude_step,\n",
    "                                          horizontal_bound=longitude_minimum,\n",
    "                                         vertical_bound=latitude_minimum)\n",
    "\n",
    "                # south east movement\n",
    "                polygons=append_polygons_list(polygons=polygons,\n",
    "                                          origin=origin_south_east, \n",
    "                                          horizontal_step=longitude_step,\n",
    "                                          vertical_step=-latitude_step,\n",
    "                                          horizontal_bound=longitude_maximum,\n",
    "                                         vertical_bound=latitude_minimum)\n",
    "                origin_south_west, origin_north_west, origin_north_east, origin_south_east=update_origins(origin_south_west, origin_north_west, origin_north_east, origin_south_east, latitude_step=0, longitude_step=longitude_step)\n",
    "\n",
    "        origin_south_west, origin_north_west, origin_north_east, origin_south_east=update_origins(origin_south_west=[0,origin_south_west[1]], origin_north_west=[0,origin_north_west[1]], origin_north_east=[0,origin_north_east[1]], origin_south_east=[0,origin_south_east[1]], latitude_step=latitude_step, longitude_step=0)\n",
    "        sum_of_latitude_steps=sum_of_latitude_steps+latitude_step\n",
    "\n",
    "\n",
    "\n",
    "    grid = gpd.GeoDataFrame({'geometry':polygons})\n",
    "    os.mkdir(os.path.join(\"data\",\"shapefiles\",\"world_grid_\"+str(grid_size/1000)+\"km\"))\n",
    "    grid.to_file(os.path.join(\"data\",\"shapefiles\",\"world_grid_\"+str(grid_size/1000)+\"km\",\"grid.shp\"))\n",
    "    \n",
    "#create_world_grid(world_shapefile, grid_size)"
   ]
  },
  {
   "cell_type": "code",
   "execution_count": 202,
   "metadata": {},
   "outputs": [],
   "source": [
    "world_grid=gpd.read_file(os.path.join(\"data\",\"shapefiles\",\"world_grid_\"+str(grid_size/1000)+\"km\",\"grid.shp\"))\n",
    "world_grid=gpd.GeoDataFrame(world_grid,crs={'init' :'epsg:4326'})"
   ]
  },
  {
   "cell_type": "code",
   "execution_count": null,
   "metadata": {},
   "outputs": [],
   "source": [
    "country=\"Burkina Faso\"\n",
    "if country!=\"All\":\n",
    "    boundary_for_country=world_shapefile.loc[world_shapefile.loc[:,'CNTRY_NAME']==country,:].boundary\n",
    "    total_bounds_for_country=world_shapefile.loc[world_shapefile.loc[:,'CNTRY_NAME']==country,:].total_bounds\n",
    "    country_geo_dataframe=world_shapefile.loc[world_shapefile.loc[:,'CNTRY_NAME']==country,:]\n",
    "    country_grid=gpd.overlay(country_geo_dataframe,world_grid,how=\"intersection\")\n",
    "if country==\"All\":\n",
    "    boundary_for_country=world_shapefile.boundary\n",
    "    total_bounds_for_country=world_shapefile.total_bounds\n",
    "    country_grid=gpd.overlay(world_shapefile,world_grid,how=\"intersection\")"
   ]
  },
  {
   "cell_type": "code",
   "execution_count": 204,
   "metadata": {},
   "outputs": [
    {
     "data": {
      "text/plain": [
       "<matplotlib.axes._subplots.AxesSubplot at 0x239c4175f48>"
      ]
     },
     "execution_count": 204,
     "metadata": {},
     "output_type": "execute_result"
    },
    {
     "data": {
      "image/png": "[encoded data removed]",
      "text/plain": [
       "<Figure size 432x288 with 1 Axes>"
      ]
     },
     "metadata": {
      "needs_background": "light"
     },
     "output_type": "display_data"
    }
   ],
   "source": [
    "#country_rhomis_grid=gpd.sjoin(income_and_GPS,country_grid, op=\"within\")\n",
    "country_grid_boundary=country_grid.boundary\n",
    "figure, ax= plt.subplots()\n",
    "country_grid.plot(ax=ax, color=\"white\", edgecolor=\"black\")\n",
    "income_and_GPS.plot(ax=ax, color=\"blue\")"
   ]
  },
  {
   "cell_type": "code",
   "execution_count": 63,
   "metadata": {},
   "outputs": [
    {
     "data": {
      "text/plain": [
       "<matplotlib.axes._subplots.AxesSubplot at 0x239c78e3648>"
      ]
     },
     "execution_count": 63,
     "metadata": {},
     "output_type": "execute_result"
    },
    {
     "data": {
      "image/png": "[encoded data removed]",
      "text/plain": [
       "<Figure size 432x288 with 1 Axes>"
      ]
     },
     "metadata": {
      "needs_background": "light"
     },
     "output_type": "display_data"
    }
   ],
   "source": [
    "figure, ax= plt.subplots()\n",
    "world_shapefile.plot(ax=ax, color=\"white\", edgecolor=\"black\")\n",
    "world_grid.boundary.plot(ax=ax, color=None, edgecolor=\"black\", linewidth=0.01)\n",
    "income_and_GPS.plot(ax=ax, color=\"black\", linewidth=0.01)"
   ]
  },
  {
   "cell_type": "code",
   "execution_count": 162,
   "metadata": {},
   "outputs": [
    {
     "data": {
      "text/plain": [
       "311"
      ]
     },
     "execution_count": 162,
     "metadata": {},
     "output_type": "execute_result"
    }
   ],
   "source": [
    "intersected_grid_points=gpd.sjoin(income_and_GPS,world_grid,'left') #creating a grid of points within all of the world grid points\n",
    "# The geometry in this case is the geometry of the 'points' of RHoMIS data\n",
    "minimum_number_of_households_in_a_square=intersected_grid_points.loc[:,\"FID\"].value_counts().min()\n",
    "maximum_number_of_households_in_a_square=intersected_grid_points.loc[:,\"FID\"].value_counts().max()\n",
    "intersected_grid_points.head() #index right refers to the index of the grid, which in turn equals FID"
   ]
  },
  {
   "cell_type": "code",
   "execution_count": 192,
   "metadata": {},
   "outputs": [
    {
     "data": {
      "text/html": [
       "<div>\n",
       "<style scoped>\n",
       "    .dataframe tbody tr th:only-of-type {\n",
       "        vertical-align: middle;\n",
       "    }\n",
       "\n",
       "    .dataframe tbody tr th {\n",
       "        vertical-align: top;\n",
       "    }\n",
       "\n",
       "    .dataframe thead th {\n",
       "        text-align: right;\n",
       "    }\n",
       "</style>\n",
       "<table border=\"1\" class=\"dataframe\">\n",
       "  <thead>\n",
       "    <tr style=\"text-align: right;\">\n",
       "      <th></th>\n",
       "      <th>FID</th>\n",
       "      <th>geometry</th>\n",
       "      <th>index_right</th>\n",
       "      <th>OBJECTID</th>\n",
       "      <th>CNTRY_NAME</th>\n",
       "    </tr>\n",
       "  </thead>\n",
       "  <tbody>\n",
       "    <tr>\n",
       "      <td>29</td>\n",
       "      <td>29</td>\n",
       "      <td>POLYGON ((6.29525 0.00000, 6.29525 0.89932, 7....</td>\n",
       "      <td>222.0</td>\n",
       "      <td>223.0</td>\n",
       "      <td>Sao Tome and Principe</td>\n",
       "    </tr>\n",
       "    <tr>\n",
       "      <td>39</td>\n",
       "      <td>39</td>\n",
       "      <td>POLYGON ((8.09389 0.00000, 8.99322 0.00000, 8....</td>\n",
       "      <td>80.0</td>\n",
       "      <td>81.0</td>\n",
       "      <td>Gabon</td>\n",
       "    </tr>\n",
       "    <tr>\n",
       "      <td>41</td>\n",
       "      <td>41</td>\n",
       "      <td>POLYGON ((8.99322 0.00000, 8.99322 0.89932, 9....</td>\n",
       "      <td>80.0</td>\n",
       "      <td>81.0</td>\n",
       "      <td>Gabon</td>\n",
       "    </tr>\n",
       "    <tr>\n",
       "      <td>43</td>\n",
       "      <td>43</td>\n",
       "      <td>POLYGON ((8.99322 0.00000, 9.89254 0.00000, 9....</td>\n",
       "      <td>80.0</td>\n",
       "      <td>81.0</td>\n",
       "      <td>Gabon</td>\n",
       "    </tr>\n",
       "    <tr>\n",
       "      <td>45</td>\n",
       "      <td>45</td>\n",
       "      <td>POLYGON ((9.89254 0.00000, 9.89254 0.89932, 10...</td>\n",
       "      <td>80.0</td>\n",
       "      <td>81.0</td>\n",
       "      <td>Gabon</td>\n",
       "    </tr>\n",
       "  </tbody>\n",
       "</table>\n",
       "</div>"
      ],
      "text/plain": [
       "    FID                                           geometry  index_right  \\\n",
       "29   29  POLYGON ((6.29525 0.00000, 6.29525 0.89932, 7....        222.0   \n",
       "39   39  POLYGON ((8.09389 0.00000, 8.99322 0.00000, 8....         80.0   \n",
       "41   41  POLYGON ((8.99322 0.00000, 8.99322 0.89932, 9....         80.0   \n",
       "43   43  POLYGON ((8.99322 0.00000, 9.89254 0.00000, 9....         80.0   \n",
       "45   45  POLYGON ((9.89254 0.00000, 9.89254 0.89932, 10...         80.0   \n",
       "\n",
       "    OBJECTID             CNTRY_NAME  \n",
       "29     223.0  Sao Tome and Principe  \n",
       "39      81.0                  Gabon  \n",
       "41      81.0                  Gabon  \n",
       "43      81.0                  Gabon  \n",
       "45      81.0                  Gabon  "
      ]
     },
     "execution_count": 192,
     "metadata": {},
     "output_type": "execute_result"
    }
   ],
   "source": [
    "#pd.isna(intersected_grid_country.loc[:,\"CNTRY_NAME\"])==False\n",
    "#pd.unique(intersected_grid_country.loc[:,\"CNTRY_NAME\"])\n",
    "intersected_grid_country=gpd.sjoin(world_grid, world_shapefile, \"left\")\n",
    "intersected_grid_country=intersected_grid_country.loc[pd.isna(intersected_grid_country.loc[:,\"CNTRY_NAME\"])==False,:]\n",
    "intersected_grid_country.head()"
   ]
  },
  {
   "cell_type": "code",
   "execution_count": 193,
   "metadata": {},
   "outputs": [
    {
     "data": {
      "text/html": [
       "<div>\n",
       "<style scoped>\n",
       "    .dataframe tbody tr th:only-of-type {\n",
       "        vertical-align: middle;\n",
       "    }\n",
       "\n",
       "    .dataframe tbody tr th {\n",
       "        vertical-align: top;\n",
       "    }\n",
       "\n",
       "    .dataframe thead th {\n",
       "        text-align: right;\n",
       "    }\n",
       "</style>\n",
       "<table border=\"1\" class=\"dataframe\">\n",
       "  <thead>\n",
       "    <tr style=\"text-align: right;\">\n",
       "      <th></th>\n",
       "      <th>GPS_LAT</th>\n",
       "      <th>GPS_LON</th>\n",
       "      <th>total_income_USD_PPP_pHH_Yr</th>\n",
       "      <th>geometry</th>\n",
       "      <th>index_right_Point_Level</th>\n",
       "      <th>FID</th>\n",
       "      <th>geometry_Grid_Level</th>\n",
       "      <th>index_right</th>\n",
       "      <th>OBJECTID_Grid_Level</th>\n",
       "      <th>CNTRY_NAME</th>\n",
       "      <th>OBJECTID_Country_Level</th>\n",
       "      <th>geometry_Country_Level</th>\n",
       "    </tr>\n",
       "  </thead>\n",
       "  <tbody>\n",
       "    <tr>\n",
       "      <td>0</td>\n",
       "      <td>13.28</td>\n",
       "      <td>-1.55</td>\n",
       "      <td>0.000000</td>\n",
       "      <td>POINT (-1.55000 13.28000)</td>\n",
       "      <td>11160</td>\n",
       "      <td>11160</td>\n",
       "      <td>POLYGON ((-0.92148 12.59050, -1.84296 12.59050...</td>\n",
       "      <td>233.0</td>\n",
       "      <td>234.0</td>\n",
       "      <td>Burkina Faso</td>\n",
       "      <td>234</td>\n",
       "      <td>POLYGON ((0.91797 10.99640, 0.81194 10.99694, ...</td>\n",
       "    </tr>\n",
       "    <tr>\n",
       "      <td>1</td>\n",
       "      <td>13.28</td>\n",
       "      <td>-1.55</td>\n",
       "      <td>165.366522</td>\n",
       "      <td>POINT (-1.55000 13.28000)</td>\n",
       "      <td>11160</td>\n",
       "      <td>11160</td>\n",
       "      <td>POLYGON ((-0.92148 12.59050, -1.84296 12.59050...</td>\n",
       "      <td>233.0</td>\n",
       "      <td>234.0</td>\n",
       "      <td>Burkina Faso</td>\n",
       "      <td>234</td>\n",
       "      <td>POLYGON ((0.91797 10.99640, 0.81194 10.99694, ...</td>\n",
       "    </tr>\n",
       "    <tr>\n",
       "      <td>2</td>\n",
       "      <td>13.28</td>\n",
       "      <td>-1.55</td>\n",
       "      <td>0.000000</td>\n",
       "      <td>POINT (-1.55000 13.28000)</td>\n",
       "      <td>11160</td>\n",
       "      <td>11160</td>\n",
       "      <td>POLYGON ((-0.92148 12.59050, -1.84296 12.59050...</td>\n",
       "      <td>233.0</td>\n",
       "      <td>234.0</td>\n",
       "      <td>Burkina Faso</td>\n",
       "      <td>234</td>\n",
       "      <td>POLYGON ((0.91797 10.99640, 0.81194 10.99694, ...</td>\n",
       "    </tr>\n",
       "    <tr>\n",
       "      <td>3</td>\n",
       "      <td>13.36</td>\n",
       "      <td>-1.50</td>\n",
       "      <td>0.000000</td>\n",
       "      <td>POINT (-1.50000 13.36000)</td>\n",
       "      <td>11160</td>\n",
       "      <td>11160</td>\n",
       "      <td>POLYGON ((-0.92148 12.59050, -1.84296 12.59050...</td>\n",
       "      <td>233.0</td>\n",
       "      <td>234.0</td>\n",
       "      <td>Burkina Faso</td>\n",
       "      <td>234</td>\n",
       "      <td>POLYGON ((0.91797 10.99640, 0.81194 10.99694, ...</td>\n",
       "    </tr>\n",
       "    <tr>\n",
       "      <td>4</td>\n",
       "      <td>13.36</td>\n",
       "      <td>-1.50</td>\n",
       "      <td>68.690709</td>\n",
       "      <td>POINT (-1.50000 13.36000)</td>\n",
       "      <td>11160</td>\n",
       "      <td>11160</td>\n",
       "      <td>POLYGON ((-0.92148 12.59050, -1.84296 12.59050...</td>\n",
       "      <td>233.0</td>\n",
       "      <td>234.0</td>\n",
       "      <td>Burkina Faso</td>\n",
       "      <td>234</td>\n",
       "      <td>POLYGON ((0.91797 10.99640, 0.81194 10.99694, ...</td>\n",
       "    </tr>\n",
       "  </tbody>\n",
       "</table>\n",
       "</div>"
      ],
      "text/plain": [
       "   GPS_LAT  GPS_LON  total_income_USD_PPP_pHH_Yr                   geometry  \\\n",
       "0    13.28    -1.55                     0.000000  POINT (-1.55000 13.28000)   \n",
       "1    13.28    -1.55                   165.366522  POINT (-1.55000 13.28000)   \n",
       "2    13.28    -1.55                     0.000000  POINT (-1.55000 13.28000)   \n",
       "3    13.36    -1.50                     0.000000  POINT (-1.50000 13.36000)   \n",
       "4    13.36    -1.50                    68.690709  POINT (-1.50000 13.36000)   \n",
       "\n",
       "   index_right_Point_Level    FID  \\\n",
       "0                    11160  11160   \n",
       "1                    11160  11160   \n",
       "2                    11160  11160   \n",
       "3                    11160  11160   \n",
       "4                    11160  11160   \n",
       "\n",
       "                                 geometry_Grid_Level  index_right  \\\n",
       "0  POLYGON ((-0.92148 12.59050, -1.84296 12.59050...        233.0   \n",
       "1  POLYGON ((-0.92148 12.59050, -1.84296 12.59050...        233.0   \n",
       "2  POLYGON ((-0.92148 12.59050, -1.84296 12.59050...        233.0   \n",
       "3  POLYGON ((-0.92148 12.59050, -1.84296 12.59050...        233.0   \n",
       "4  POLYGON ((-0.92148 12.59050, -1.84296 12.59050...        233.0   \n",
       "\n",
       "   OBJECTID_Grid_Level    CNTRY_NAME  OBJECTID_Country_Level  \\\n",
       "0                234.0  Burkina Faso                     234   \n",
       "1                234.0  Burkina Faso                     234   \n",
       "2                234.0  Burkina Faso                     234   \n",
       "3                234.0  Burkina Faso                     234   \n",
       "4                234.0  Burkina Faso                     234   \n",
       "\n",
       "                              geometry_Country_Level  \n",
       "0  POLYGON ((0.91797 10.99640, 0.81194 10.99694, ...  \n",
       "1  POLYGON ((0.91797 10.99640, 0.81194 10.99694, ...  \n",
       "2  POLYGON ((0.91797 10.99640, 0.81194 10.99694, ...  \n",
       "3  POLYGON ((0.91797 10.99640, 0.81194 10.99694, ...  \n",
       "4  POLYGON ((0.91797 10.99640, 0.81194 10.99694, ...  "
      ]
     },
     "execution_count": 193,
     "metadata": {},
     "output_type": "execute_result"
    }
   ],
   "source": [
    "intersected_grid_country=pd.merge(intersected_grid_country, world_shapefile, \n",
    "         left_on=\"CNTRY_NAME\", right_on=\"CNTRY_NAME\",\n",
    "        suffixes=[\"_Grid_Level\",\"_Country_Level\"])\n",
    "intersected_grid_country.head()\n",
    "\n",
    "\n",
    "all_intersected=pd.merge(intersected_grid_points,intersected_grid_country,\n",
    "                         left_on=\"FID\", right_on=\"FID\",\n",
    "                        suffixes=[\"_Point_Level\",\"\"])\n",
    "all_intersected.head()\n",
    "\n",
    "\n",
    "columns_to_drop=[.\"index_right\",\"OBJECT_ID_Grid_Level\"]"
   ]
  },
  {
   "cell_type": "code",
   "execution_count": null,
   "metadata": {},
   "outputs": [],
   "source": []
  }
 ],
 "metadata": {
  "kernelspec": {
   "display_name": "Python 3",
   "language": "python",
   "name": "python3"
  },
  "language_info": {
   "codemirror_mode": {
    "name": "ipython",
    "version": 3
   },
   "file_extension": ".py",
   "mimetype": "text/x-python",
   "name": "python",
   "nbconvert_exporter": "python",
   "pygments_lexer": "ipython3",
   "version": "3.7.4"
  }
 },
 "nbformat": 4,
 "nbformat_minor": 4
}
