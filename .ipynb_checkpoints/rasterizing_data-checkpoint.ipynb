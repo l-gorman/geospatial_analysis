{
 "cells": [
  {
   "cell_type": "code",
   "execution_count": 370,
   "metadata": {},
   "outputs": [
    {
     "data": {
      "text/plain": [
       "'C:\\\\Users\\\\leogo\\\\OneDrive\\\\Desktop\\\\PhD\\\\Analysis'"
      ]
     },
     "execution_count": 370,
     "metadata": {},
     "output_type": "execute_result"
    }
   ],
   "source": [
    "import os\n",
    "import pandas as pd\n",
    "import math\n",
    "import numpy as np\n",
    "import matplotlib.pyplot as plt\n",
    "import geopandas as gpd\n",
    "import gdal\n",
    "import geopandas as gpd\n",
    "import descartes \n",
    "from shapely.geometry import Point, Polygon\n",
    "#os.chdir('../')\n",
    "os.getcwd()"
   ]
  },
  {
   "cell_type": "markdown",
   "metadata": {},
   "source": [
    "# Loading RHoMIS and Adding GeoPandas Geometry #"
   ]
  },
  {
   "cell_type": "code",
   "execution_count": 371,
   "metadata": {},
   "outputs": [],
   "source": [
    "rhomis_indicator=pd.read_csv(\n",
    "    os.path.join(\"data\", \"rhomis_data\",\"RHoMIS_Indicators.csv\"), \n",
    "    encoding=\"latin1\", \n",
    "    low_memory=False)\n",
    "\n",
    "latitude_not_null=rhomis_indicator.loc[:,\"GPS_LAT\"].notnull()\n",
    "longitude_not_null=rhomis_indicator.loc[:,\"GPS_LON\"].notnull()\n",
    "spatially_explicit_rhomis=rhomis_indicator.loc[latitude_not_null&longitude_not_null,:]\n",
    "\n",
    "columns_to_subset=[\"GPS_LAT\", \n",
    "                   \"GPS_LON\", \n",
    "                   \"total_income_USD_PPP_pHH_Yr\"]\n",
    "\n",
    "spatially_explicit_rhomis=spatially_explicit_rhomis.loc[spatially_explicit_rhomis.loc[:,\"ID_COUNTRY\"]==\"BF\",:]\n",
    "boolean_column_location=spatially_explicit_rhomis.columns.isin(columns_to_subset)\n",
    "income_and_GPS=pd.DataFrame(spatially_explicit_rhomis.loc[:,boolean_column_location])\n",
    "\n",
    "geometry=[Point(xy) for xy in zip(income_and_GPS[\"GPS_LON\"], income_and_GPS[\"GPS_LAT\"])]\n",
    "crs={'init' :'epsg:4326'}\n",
    "income_and_GPS = gpd.GeoDataFrame(income_and_GPS, geometry=geometry,crs=crs)"
   ]
  },
  {
   "cell_type": "code",
   "execution_count": 373,
   "metadata": {},
   "outputs": [
    {
     "data": {
      "text/plain": [
       "2"
      ]
     },
     "execution_count": 373,
     "metadata": {},
     "output_type": "execute_result"
    }
   ],
   "source": [
    "import re\n",
    "shapefiles_in_folder=os.listdir(os.path.join(\"data\", \"shapefiles\"))\n",
    "regular_expression= re.compile(\".*km\")\n",
    "\n",
    "#regex_shapefiles=[re.match(regular_expression, x) for x in shapefiles_in_folder]\n",
    "#regex_shapefiles=[re.search(regular_expression, x) for x in shapefiles_in_folder]\n",
    "\n",
    "regex_shapefiles=[]\n",
    "for x in shapefiles_in_folder:\n",
    "    temporary_matching=re.match(regular_expression, x)\n",
    "    if temporary_matching is not None:\n",
    "        regex_shapefiles.append(temporary_matching.group(0))\n",
    "len(regex_shapefiles)"
   ]
  },
  {
   "cell_type": "markdown",
   "metadata": {},
   "source": [
    "# Creating Spatial Grid over world shapefile #"
   ]
  },
  {
   "cell_type": "code",
   "execution_count": null,
   "metadata": {},
   "outputs": [],
   "source": [
    "world_shapefile=gpd.read_file(\n",
    "    os.path.join('data', 'shapefiles', 'World'))\n",
    "\n",
    "\n",
    "grid_size= 100000\n",
    "#grid_size_km=grid_size/1000\n",
    "\n",
    "def create_world_grid(world_shapefile, grid_size):\n",
    "    radius_of_earth=6371000\n",
    "    longitude_minimum, latitude_minimum, longitude_maximum, latitude_maximum=world_shapefile.total_bounds\n",
    "\n",
    "    def append_polygons_list(polygons ,origin ,horizontal_step, vertical_step, horizontal_bound,vertical_bound):\n",
    "        long_left=origin[0]\n",
    "        lat_bottom=origin[1] \n",
    "\n",
    "        long_right=long_left+horizontal_step\n",
    "        if abs(long_right)>abs(horizontal_bound):\n",
    "            long_right=horizontal_bound\n",
    "\n",
    "        lat_top=lat_bottom+vertical_step\n",
    "        if abs(lat_top)>abs(vertical_bound):\n",
    "            lat_top=vertical_bound\n",
    "\n",
    "        polygons.append(Polygon([(long_left,lat_bottom),(long_left,lat_top),(long_right,lat_top),(long_right,lat_bottom)]))\n",
    "        return polygons\n",
    "\n",
    "\n",
    "    def update_origins(origin_south_west, origin_north_west, origin_north_east, origin_south_east, latitude_step, longitude_step):\n",
    "        origin_south_west=[origin_south_west[0]-longitude_step,origin_south_west[1]-latitude_step]\n",
    "        origin_north_west=[origin_north_west[0]-longitude_step,origin_north_west[1]+latitude_step]\n",
    "        origin_north_east=[origin_north_east[0]+longitude_step,origin_north_east[1]+latitude_step]\n",
    "        origin_south_east=[origin_south_east[0]+longitude_step,origin_south_east[1]-latitude_step]\n",
    "        return origin_south_west, origin_north_west, origin_north_east, origin_south_east\n",
    "\n",
    "    #initialising polygons list and setting coordinates to 0 lat 0 long\n",
    "    polygons=[] \n",
    "    origin=[0,0] \n",
    "    origin_south_west=origin\n",
    "    origin_north_west=origin\n",
    "    origin_north_east=origin\n",
    "    origin_south_east=origin\n",
    "\n",
    "\n",
    "    latitude_limit=min([abs(latitude_minimum), abs(latitude_maximum)])\n",
    "    longitude_limit=min([abs(longitude_minimum), abs(longitude_maximum)])\n",
    "\n",
    "    # This is the increase in latitude required to produce grids of a particular size.\n",
    "    latitude_step=(180*grid_size)/(math.pi*(radius_of_earth))\n",
    "    sum_of_latitude_steps=0\n",
    "\n",
    "    while sum_of_latitude_steps<latitude_limit:\n",
    "        sum_of_longitude_steps=0    \n",
    "        while sum_of_longitude_steps<180:\n",
    "            # If we have a latitude of zero then our longitude step tends to infinity, must avoid this.\n",
    "            if math.cos(math.radians(origin_north_west[1]))>0.01:\n",
    "                # The change in longitude required to produce the particular grid size, this is important as it varies according to latitude\n",
    "                longitude_step=(180*grid_size)/(math.pi*(radius_of_earth)*math.cos(math.radians(origin_north_west[1])))            \n",
    "                sum_of_longitude_steps=sum_of_longitude_steps+longitude_step\n",
    "                # north west movement\n",
    "                polygons=append_polygons_list(polygons=polygons,\n",
    "                                          origin=origin_north_west, \n",
    "                                          horizontal_step=-longitude_step,\n",
    "                                          vertical_step=latitude_step,\n",
    "                                          horizontal_bound=longitude_minimum,\n",
    "                                         vertical_bound=latitude_maximum)\n",
    "                # north east movement\n",
    "                polygons=append_polygons_list(polygons=polygons,\n",
    "                                          origin=origin_north_east, \n",
    "                                          horizontal_step=longitude_step,\n",
    "                                          vertical_step=latitude_step,\n",
    "                                          horizontal_bound=longitude_maximum,\n",
    "                                         vertical_bound=latitude_maximum)\n",
    "\n",
    "                # south west movement\n",
    "                polygons=append_polygons_list(polygons=polygons,\n",
    "                                          origin=origin_south_west, \n",
    "                                          horizontal_step=-longitude_step,\n",
    "                                          vertical_step=-latitude_step,\n",
    "                                          horizontal_bound=longitude_minimum,\n",
    "                                         vertical_bound=latitude_minimum)\n",
    "\n",
    "                # south east movement\n",
    "                polygons=append_polygons_list(polygons=polygons,\n",
    "                                          origin=origin_south_east, \n",
    "                                          horizontal_step=longitude_step,\n",
    "                                          vertical_step=-latitude_step,\n",
    "                                          horizontal_bound=longitude_maximum,\n",
    "                                         vertical_bound=latitude_minimum)\n",
    "                origin_south_west, origin_north_west, origin_north_east, origin_south_east=update_origins(origin_south_west, origin_north_west, origin_north_east, origin_south_east, latitude_step=0, longitude_step=longitude_step)\n",
    "\n",
    "        origin_south_west, origin_north_west, origin_north_east, origin_south_east=update_origins(origin_south_west=[0,origin_south_west[1]], origin_north_west=[0,origin_north_west[1]], origin_north_east=[0,origin_north_east[1]], origin_south_east=[0,origin_south_east[1]], latitude_step=latitude_step, longitude_step=0)\n",
    "        sum_of_latitude_steps=sum_of_latitude_steps+latitude_step\n",
    "\n",
    "\n",
    "\n",
    "    grid = gpd.GeoDataFrame({'geometry':polygons})\n",
    "    os.mkdir(os.path.join(\"data\",\"shapefiles\",\"world_grid_\"+str(grid_size/1000)+\"km\"))\n",
    "    grid.to_file(os.path.join(\"data\",\"shapefiles\",\"world_grid_\"+str(grid_size/1000)+\"km\",\"grid.shp\"))\n",
    "    \n",
    "#create_world_grid(world_shapefile, grid_size)"
   ]
  },
  {
   "cell_type": "code",
   "execution_count": null,
   "metadata": {},
   "outputs": [],
   "source": [
    "world_grid=gpd.read_file(os.path.join(\"data\",\"shapefiles\",\"world_grid_\"+str(grid_size/1000)+\"km\",\"grid.shp\"))"
   ]
  },
  {
   "cell_type": "code",
   "execution_count": 368,
   "metadata": {},
   "outputs": [],
   "source": [
    "country=\"Burkina Faso\"\n",
    "boundary_for_country=world_shapefile.loc[world_shapefile.loc[:,'CNTRY_NAME']==country,:].boundary\n",
    "total_bounds_for_country=world_shapefile.loc[world_shapefile.loc[:,'CNTRY_NAME']==country,:].total_bounds\n",
    "country_geo_dataframe=world_shapefile.loc[world_shapefile.loc[:,'CNTRY_NAME']==country,:]\n",
    "country_grid=gpd.overlay(country_geo_dataframe,world_grid,how=\"intersection\")"
   ]
  },
  {
   "cell_type": "code",
   "execution_count": 369,
   "metadata": {},
   "outputs": [
    {
     "data": {
      "text/plain": [
       "<matplotlib.axes._subplots.AxesSubplot at 0x20e3f058548>"
      ]
     },
     "execution_count": 369,
     "metadata": {},
     "output_type": "execute_result"
    },
    {
     "data": {
      "image/png": "[encoded data removed]",
      "text/plain": [
       "<Figure size 432x288 with 1 Axes>"
      ]
     },
     "metadata": {
      "needs_background": "light"
     },
     "output_type": "display_data"
    }
   ],
   "source": [
    "#country_rhomis_grid=gpd.sjoin(income_and_GPS,country_grid, op=\"within\")\n",
    "country_grid_boundary=country_grid.boundary\n",
    "figure, ax= plt.subplots()\n",
    "country_grid.plot(ax=ax, color=\"white\", edgecolor=\"blue\")\n",
    "income_and_GPS.plot(ax=ax, color=\"black\")"
   ]
  },
  {
   "cell_type": "code",
   "execution_count": null,
   "metadata": {},
   "outputs": [],
   "source": []
  }
 ],
 "metadata": {
  "kernelspec": {
   "display_name": "Python 3",
   "language": "python",
   "name": "python3"
  },
  "language_info": {
   "codemirror_mode": {
    "name": "ipython",
    "version": 3
   },
   "file_extension": ".py",
   "mimetype": "text/x-python",
   "name": "python",
   "nbconvert_exporter": "python",
   "pygments_lexer": "ipython3",
   "version": "3.7.4"
  }
 },
 "nbformat": 4,
 "nbformat_minor": 4
}
