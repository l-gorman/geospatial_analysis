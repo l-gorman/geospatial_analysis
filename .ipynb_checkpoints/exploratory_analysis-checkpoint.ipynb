{
 "cells": [
  {
   "cell_type": "code",
   "execution_count": null,
   "metadata": {},
   "outputs": [],
   "source": [
    "import os\n",
    "import pandas as pd\n",
    "import math\n",
    "import numpy as np\n",
    "%matplotlib inline\n",
    "import matplotlib.pyplot as plt\n",
    "import geopandas as gpd\n",
    "import gdal\n",
    "import geopandas as gpd\n",
    "import descartes \n",
    "from shapely.geometry import Point, Polygon\n",
    "from shapely import wkt\n",
    "\n",
    "\n",
    "import seaborn as sns\n",
    "from scipy.stats import norm\n",
    "from sklearn.preprocessing import StandardScaler\n",
    "from scipy import stats\n",
    "import warnings\n",
    "warnings.filterwarnings('ignore')\n",
    "import fiona\n",
    "\n",
    "#os.chdir('../../')\n",
    "#os.chdir('../')\n",
    "os.getcwd()\n",
    "\n",
    "\n",
    "\n",
    "\n",
    "points_within_grids_within_countries_single_geometry.set_geometry(\"geometry_grid\").to_file(os.path.join('data',\"processed\",\"points_within_grids_within_countries_100km.geojson\"), driver='GeoJSON') # at this point we only preserve the grid geometry. Will need to add point geometry when reading the file back in again (same with country boundaries)  \n"
   ]
  },
  {
   "cell_type": "code",
   "execution_count": null,
   "metadata": {},
   "outputs": [],
   "source": []
  }
 ],
 "metadata": {
  "kernelspec": {
   "display_name": "Python 3",
   "language": "python",
   "name": "python3"
  },
  "language_info": {
   "codemirror_mode": {
    "name": "ipython",
    "version": 3
   },
   "file_extension": ".py",
   "mimetype": "text/x-python",
   "name": "python",
   "nbconvert_exporter": "python",
   "pygments_lexer": "ipython3",
   "version": "3.7.4"
  }
 },
 "nbformat": 4,
 "nbformat_minor": 4
}
