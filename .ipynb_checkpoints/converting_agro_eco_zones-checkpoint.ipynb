{
 "cells": [
  {
   "cell_type": "code",
   "execution_count": 57,
   "metadata": {},
   "outputs": [
    {
     "data": {
      "text/plain": [
       "'C:\\\\Users\\\\leogo\\\\OneDrive\\\\Desktop\\\\PhD\\\\Analysis'"
      ]
     },
     "execution_count": 57,
     "metadata": {},
     "output_type": "execute_result"
    }
   ],
   "source": [
    "import numpy as np\n",
    "import os\n",
    "import matplotlib.pyplot as plt\n",
    "%matplotlib inline\n",
    "\n",
    "from osgeo import gdal, osr\n",
    "import pandas as pd\n",
    "os.getcwd()"
   ]
  },
  {
   "cell_type": "code",
   "execution_count": 58,
   "metadata": {},
   "outputs": [],
   "source": [
    "#os.chdir(\"../\")"
   ]
  },
  {
   "cell_type": "code",
   "execution_count": 59,
   "metadata": {},
   "outputs": [],
   "source": [
    "#ncols         9720\n",
    "#nrows         9159\n",
    "#xllcorner     -27.174992029555\n",
    "#yllcorner     -37.791665508412\n",
    "#cellsize      0.0083333333333333\n",
    "#NODATA_value  -9999\n",
    "# seperated by a space\n",
    "\n",
    "from osgeo import gdal, osr\n",
    "\n",
    "AEZ_raster_in=os.path.join(\"data\", \"raster\",\"AEZ_2009\",\"afr_aez09.asc\")\n",
    "AEZ_raster_csv=os.path.join(\"data\", \"raster\",\"AEZ_2009\",\"afr_aez09.csv\")\n",
    "\n",
    "AEZ_raster_out=os.path.join(\"data\", \"raster\",\"AEZ_2009\",\"afr_aez09.tif\")\n",
    "\n",
    "with open(AEZ_raster_in, 'r', encoding = 'ANSI') as fp:\n",
    "    data = fp.read()\n",
    "\n",
    "\n"
   ]
  },
  {
   "cell_type": "code",
   "execution_count": 60,
   "metadata": {},
   "outputs": [],
   "source": [
    "asc_header_data=data[:153]\n",
    "AEZ_raster_headers=os.path.join(\"data\", \"raster\",\"AEZ_2009\",\"afr_aez09_headers.asc\")\n",
    "\n",
    "g = open(AEZ_raster_headers,'w',encoding='ANSI')\n",
    "\n",
    "# write the data (but not the first 153 characters, which are metadata)\n",
    "g.write(asc_header_data)\n",
    "\n",
    "# close the new csv file\n",
    "g.close()\n"
   ]
  },
  {
   "cell_type": "code",
   "execution_count": 61,
   "metadata": {},
   "outputs": [],
   "source": [
    "all_asc_data=data[153:]\n",
    "data=None"
   ]
  },
  {
   "cell_type": "code",
   "execution_count": 62,
   "metadata": {},
   "outputs": [],
   "source": [
    "g = open(AEZ_raster_csv,'w',encoding='ANSI')\n",
    "\n",
    "# write the data (but not the first 153 characters, which are metadata)\n",
    "g.write(all_asc_data)\n",
    "\n",
    "# close the new csv file\n",
    "g.close()"
   ]
  },
  {
   "cell_type": "code",
   "execution_count": 63,
   "metadata": {},
   "outputs": [],
   "source": [
    "AEZ_data_frame=pd.read_csv(AEZ_raster_csv,\n",
    "                           low_memory=False, \n",
    "                           encoding='ANSI', \n",
    "                           header=None, \n",
    "                           sep=' ')"
   ]
  },
  {
   "cell_type": "code",
   "execution_count": 64,
   "metadata": {},
   "outputs": [
    {
     "data": {
      "text/plain": [
       "(9324, 9721)"
      ]
     },
     "execution_count": 64,
     "metadata": {},
     "output_type": "execute_result"
    }
   ],
   "source": [
    "AEZ_data_frame.shape # should be 9159 rows and 9720 columns"
   ]
  },
  {
   "cell_type": "code",
   "execution_count": 65,
   "metadata": {},
   "outputs": [
    {
     "data": {
      "text/plain": [
       "array([dtype('O'), dtype('float64')], dtype=object)"
      ]
     },
     "execution_count": 65,
     "metadata": {},
     "output_type": "execute_result"
    }
   ],
   "source": [
    "\n",
    "all_data_types=AEZ_data_frame.dtypes\n",
    "all_data_types.unique()"
   ]
  },
  {
   "cell_type": "code",
   "execution_count": 93,
   "metadata": {},
   "outputs": [],
   "source": [
    "AEZ_df_as_float = pd.DataFrame(np.zeros(AEZ_data_frame.shape), columns=None)\n",
    "\n",
    "partial_failure=[]\n",
    "\n",
    "for row in AEZ_data_frame.index:\n",
    "    try:\n",
    "        AEZ_df_as_float.iloc[row,:]=AEZ_data_frame.iloc[row,:].astype(float)\n",
    "    except ValueError:\n",
    "        for column in AEZ_data_frame.columns:\n",
    "            try:\n",
    "                AEZ_df_as_float.iloc[row,column]=float(AEZ_data_frame.iloc[row,column])\n",
    "                if row in partial_failure:\n",
    "                    continue\n",
    "                else:\n",
    "                    partial_failure.append(row)\n",
    "            except ValueError:\n",
    "                 AEZ_df_as_float.iloc[row,column] = np.nan\n",
    "\n",
    "#print(partial_failure) use this print statement to see the rows which contin only NAs\n",
    "    \n",
    "    \n",
    "\n",
    "# there are some rows with data in them which is not numerical and looks like weird symbols when you open the asc file as plaintext\n",
    "# I plotted the data to see where these are and whether they explain why the data is longer than expected\n",
    "# to do that they need to be recorded as missing values rather than weird values\n",
    "\n"
   ]
  },
  {
   "cell_type": "code",
   "execution_count": 68,
   "metadata": {},
   "outputs": [],
   "source": []
  },
  {
   "cell_type": "code",
   "execution_count": null,
   "metadata": {},
   "outputs": [],
   "source": []
  },
  {
   "cell_type": "code",
   "execution_count": 94,
   "metadata": {},
   "outputs": [],
   "source": [
    "\n",
    "# creating an array of every nth point point\n",
    "number_of_rows=AEZ_df_as_float.shape[0]\n",
    "number_of_columns=AEZ_df_as_float.shape[1]\n",
    "\n",
    "number_of_data_points_to_skip = 10 # take every 10th point\n",
    "\n",
    "total_row_intervals = int(np.divide(number_of_rows,number_of_data_points_to_skip)) #rounds down the division to the nearest integer\n",
    "total_column_intervals = int(np.divide(number_of_columns, number_of_data_points_to_skip)) #rounds down the division to the nearest integer\n",
    "\n",
    "total_number_of_data_points=total_row_intervals*total_column_intervals\n",
    "rows_of_array = np.zeros(total_number_of_data_points)\n",
    "columns_of_array = np.zeros(total_number_of_data_points)\n",
    "aez_value = np.zeros(total_number_of_data_points)\n",
    "\n",
    "for skipped_column in range(total_column_intervals): \n",
    "    for skipped_row in range(total_row_intervals):\n",
    "        data_index = skipped_row + total_row_intervals*skipped_column\n",
    "                \n",
    "        columns_of_array[data_index]= AEZ_df_as_float.columns[skipped_column*number_of_data_points_to_skip]\n",
    "        rows_of_array[data_index] = AEZ_df_as_float.index[skipped_row*number_of_data_points_to_skip]\n",
    "        aez_value[data_index] = AEZ_df_as_float.iloc[skipped_row*number_of_data_points_to_skip,skipped_column*number_of_data_points_to_skip]"
   ]
  },
  {
   "cell_type": "code",
   "execution_count": 95,
   "metadata": {},
   "outputs": [
    {
     "data": {
      "image/png": "[encoded data removed]",
      "text/plain": [
       "<Figure size 432x288 with 1 Axes>"
      ]
     },
     "metadata": {
      "needs_background": "light"
     },
     "output_type": "display_data"
    }
   ],
   "source": [
    "# plotting as array\n",
    "fig, ax= plt.subplots()\n",
    "plt.scatter(x=columns_of_array,y=rows_of_array.max()-rows_of_array,c=aez_value,marker='s', s=.2)\n",
    "plt.show()"
   ]
  },
  {
   "cell_type": "code",
   "execution_count": 96,
   "metadata": {},
   "outputs": [
    {
     "data": {
      "image/png": "[encoded data removed]",
      "text/plain": [
       "<Figure size 1396.8x1339.2 with 1 Axes>"
      ]
     },
     "metadata": {
      "needs_background": "light"
     },
     "output_type": "display_data"
    }
   ],
   "source": [
    "# plotting using imshow\n",
    "\n",
    "#AEZ_array=AEZ_df_as_float.to_numpy()\n",
    "#fig,ax=plt.subplots(figsize=(19.4,18.6))\n",
    "#plt.imshow(AEZ_array, aspect=\"auto\") \n",
    "#plt.show()"
   ]
  },
  {
   "cell_type": "code",
   "execution_count": 106,
   "metadata": {},
   "outputs": [],
   "source": [
    "africa_aez_temp = AEZ_df_as_float.dropna(axis=0, how='all') #dropping rows with 'all' missing values\n",
    "africa_aez_temp = africa_aez_temp.dropna(axis=1, how='all') #dropping columns with 'all' missing values\n",
    "africa_aez_temp = africa_aez_temp.drop(AEZ_df_as_float.index[4324]) #dropping rows with 'all' missing values\n",
    "africa_aez_temp = africa_aez_temp.fillna(-9999) #dropping columns with 'all' missing values\n",
    "africa_aez_no_null=africa_aez_temp.astype(\"int64\")\n",
    "\n",
    "africa_aez_temp = None # overwrite temp to free up memory\n",
    "#AEZ_df_as_float=None\n"
   ]
  },
  {
   "cell_type": "code",
   "execution_count": 107,
   "metadata": {},
   "outputs": [
    {
     "data": {
      "text/plain": [
       "(9159, 9720)"
      ]
     },
     "execution_count": 107,
     "metadata": {},
     "output_type": "execute_result"
    }
   ],
   "source": [
    "africa_aez_no_null.shape"
   ]
  },
  {
   "cell_type": "code",
   "execution_count": 108,
   "metadata": {},
   "outputs": [
    {
     "data": {
      "image/png": "[encoded data removed]",
      "text/plain": [
       "<Figure size 1396.8x1339.2 with 1 Axes>"
      ]
     },
     "metadata": {
      "needs_background": "light"
     },
     "output_type": "display_data"
    }
   ],
   "source": [
    "AEZ_array=africa_aez_no_null.to_numpy()\n",
    "AEZ_array=africa_aez_no_null.astype(int)\n",
    "\n",
    "fig,ax=plt.subplots(figsize=(19.4,18.6))\n",
    "plt.imshow(AEZ_array, aspect=\"auto\") \n",
    "plt.show()"
   ]
  },
  {
   "cell_type": "code",
   "execution_count": 109,
   "metadata": {},
   "outputs": [
    {
     "data": {
      "text/plain": [
       "(9159, 9720)"
      ]
     },
     "execution_count": 109,
     "metadata": {},
     "output_type": "execute_result"
    }
   ],
   "source": [
    "AEZ_array.shape\n"
   ]
  },
  {
   "cell_type": "code",
   "execution_count": 110,
   "metadata": {},
   "outputs": [
    {
     "data": {
      "text/plain": [
       "array([-9999,   211,   212,   213,   214,   221,   222,   223,   311,\n",
       "         312,   313,   314,   321,   322,   323,   324])"
      ]
     },
     "execution_count": 110,
     "metadata": {},
     "output_type": "execute_result"
    }
   ],
   "source": [
    "np.unique(AEZ_array)"
   ]
  },
  {
   "cell_type": "code",
   "execution_count": 130,
   "metadata": {},
   "outputs": [],
   "source": [
    "AEZ_raster_cleaned=os.path.join(\"data\", \"raster\",\"AEZ_2009\",\"afr_aez_cleaned.asc\")\n",
    "np.savetxt(AEZ_raster_cleaned,AEZ_array.astype(int), delimiter=\" \", encoding=\"ANSI\", fmt=\"%i\", newline='\\r\\n')\n",
    "#AEZ_array=None\n"
   ]
  },
  {
   "cell_type": "code",
   "execution_count": 131,
   "metadata": {},
   "outputs": [],
   "source": [
    "# temp_loaded=np.loadtxt(AEZ_raster_cleaned)\n",
    "\n",
    "with open(AEZ_raster_cleaned,'r',encoding='ANSI') as f:\n",
    "\n",
    "# write the data (but not the first 153 characters, which are metadata)\n",
    "    raster_data=f.read()\n",
    "\n"
   ]
  },
  {
   "cell_type": "code",
   "execution_count": 132,
   "metadata": {},
   "outputs": [
    {
     "data": {
      "text/plain": [
       "[' ', '-', '2', '9', '\\n', '3', '4', '1']"
      ]
     },
     "execution_count": 132,
     "metadata": {},
     "output_type": "execute_result"
    }
   ],
   "source": [
    "type(raster_data)\n",
    "list(set(raster_data)) # checking all of the individual characters "
   ]
  },
  {
   "cell_type": "code",
   "execution_count": 133,
   "metadata": {},
   "outputs": [
    {
     "data": {
      "text/plain": [
       "'ncols         9720\\nnrows         9159\\nxllcorner     -27.174992029555\\nyllcorner     -37.791665508412\\ncellsize      0.0083333333333333\\nNODATA_value  -9999\\n'"
      ]
     },
     "execution_count": 133,
     "metadata": {},
     "output_type": "execute_result"
    }
   ],
   "source": [
    "with open(AEZ_raster_headers,'r',encoding='ANSI') as f:\n",
    "\n",
    "# write the data (but not the first 153 characters, which are metadata)\n",
    "    header_data=f.read()\n",
    "\n",
    "header_data"
   ]
  },
  {
   "cell_type": "code",
   "execution_count": 134,
   "metadata": {},
   "outputs": [],
   "source": [
    "merged_file=header_data+raster_data"
   ]
  },
  {
   "cell_type": "code",
   "execution_count": 135,
   "metadata": {},
   "outputs": [
    {
     "data": {
      "text/plain": [
       "'cols         9720\\nnrows         9159\\nxllcorner     -27.174992029555\\nyllcorner     -37.791665508412\\ncellsize      0.0083333333333333\\nNODATA_value  -9999\\n-9999 -9999 -9999 -9999 -9999 -9999 -9999 -9999'"
      ]
     },
     "execution_count": 135,
     "metadata": {},
     "output_type": "execute_result"
    }
   ],
   "source": [
    "merged_file[1:200]\n",
    "\n"
   ]
  },
  {
   "cell_type": "code",
   "execution_count": 137,
   "metadata": {},
   "outputs": [],
   "source": [
    "AEZ_RASTER_FINAL=os.path.join(\"data\", \"raster\",\"AEZ_2009\",\"AEZ_FINAL.asc\")\n",
    "\n",
    "with open(AEZ_RASTER_FINAL,'w',encoding='ANSI') as f:\n",
    "\n",
    "# write the data (but not the first 153 characters, which are metadata)\n",
    "    f.write(merged_file)\n",
    "\n",
    "# close the new csv file\n"
   ]
  },
  {
   "cell_type": "code",
   "execution_count": null,
   "metadata": {},
   "outputs": [],
   "source": []
  },
  {
   "cell_type": "code",
   "execution_count": null,
   "metadata": {},
   "outputs": [],
   "source": []
  },
  {
   "cell_type": "code",
   "execution_count": null,
   "metadata": {},
   "outputs": [],
   "source": []
  },
  {
   "cell_type": "markdown",
   "metadata": {},
   "source": [
    "# Code below used to identify the NULL row which remained #"
   ]
  },
  {
   "cell_type": "code",
   "execution_count": 84,
   "metadata": {},
   "outputs": [],
   "source": [
    "# finding rows that all have the same value. This only includes rows with -9999\n",
    "unique_array_values=[]\n",
    "rows_with_value=[]\n",
    "for rows in africa_aez_no_null.index:\n",
    "    if len(list(pd.unique(africa_aez_no_null.loc[rows,:])))==1:\n",
    "        if list(pd.unique(africa_aez_no_null.loc[rows,:])) in unique_array_values:\n",
    "            rows_with_value.append(rows)\n",
    "            continue\n",
    "        else:\n",
    "            unique_array_values.append(list(pd.unique(africa_aez_no_null.loc[rows,:])))\n",
    "            rows_with_value.append(rows)\n",
    "#unique_array_values\n",
    "#rows_with_value"
   ]
  },
  {
   "cell_type": "code",
   "execution_count": 92,
   "metadata": {},
   "outputs": [],
   "source": [
    "def isNaN(num):\n",
    "    return num != num\n",
    "\n",
    "unique_array_values=[]\n",
    "rows_with_nan=[]\n",
    "for rows in africa_aez_no_null.index:\n",
    "    unique_values_for_row=list(pd.unique(africa_aez_no_null.loc[rows,:]))\n",
    "    for unique_value in unique_values_for_row:\n",
    "        if isNaN(unique_value):\n",
    "            rows_with_nan.append(rows)\n",
    "        if unique_value in unique_array_values:\n",
    "            continue\n",
    "        else:\n",
    "            unique_array_values.append(unique_value)"
   ]
  },
  {
   "cell_type": "code",
   "execution_count": 93,
   "metadata": {},
   "outputs": [
    {
     "data": {
      "text/plain": [
       "[4166, 4324, 4361, 4369]"
      ]
     },
     "execution_count": 93,
     "metadata": {},
     "output_type": "execute_result"
    }
   ],
   "source": [
    "#unique_array_values\n",
    "rows_with_nan"
   ]
  },
  {
   "cell_type": "code",
   "execution_count": 125,
   "metadata": {},
   "outputs": [],
   "source": [
    "#africa_aez_no_null.loc[9720,:]\n",
    "#see what is on either side of the nan values\n",
    "either_side_4166=[]\n",
    "either_side_4324=[]\n",
    "either_side_4361=[]\n",
    "either_side_4369=[]\n",
    "\n",
    "\n",
    "row_number=4166\n",
    "dataframe=africa_aez_no_null\n",
    "def find_first_nan_value(row_number,dataframe):\n",
    "    subset=dataframe.loc[row_number,:]\n",
    "    na_location=[]\n",
    "    for i in subset.index:\n",
    "        if i >0 and i<9719:\n",
    "            value=subset[i]\n",
    "            left_subset=i-1\n",
    "            right_subset=i+1\n",
    "            value_left=subset[left_subset]\n",
    "            value_right=subset[right_subset]\n",
    "            if isNaN(value):\n",
    "                if (isNaN(value_left)==False) or (isNaN(value_right)==False):\n",
    "                    list_to_print=[value_left,value,value_right]\n",
    "                    na_location.append(i)\n",
    "    first_na_location=min(na_location)\n",
    "    return first_na_location;\n",
    "\n",
    "\n",
    "first_na_4166=find_first_nan_value(4166,dataframe)\n",
    "first_na_4324=find_first_nan_value(4324,dataframe)\n",
    "first_na_4361=find_first_nan_value(4361,dataframe)\n",
    "first_na_4369=find_first_nan_value(4369,dataframe)\n",
    "\n"
   ]
  },
  {
   "cell_type": "code",
   "execution_count": 144,
   "metadata": {},
   "outputs": [
    {
     "data": {
      "text/plain": [
       "<matplotlib.axes._subplots.AxesSubplot at 0x274b85ff4c8>"
      ]
     },
     "execution_count": 144,
     "metadata": {},
     "output_type": "execute_result"
    },
    {
     "data": {
      "image/png": "[encoded data removed]",
      "text/plain": [
       "<Figure size 432x288 with 1 Axes>"
      ]
     },
     "metadata": {
      "needs_background": "light"
     },
     "output_type": "display_data"
    }
   ],
   "source": [
    "#africa_aez_no_null.loc[4166,(first_na_4166-100):(first_na_4166+100)]\n",
    "africa_aez_no_null.loc[4166,].plot()\n"
   ]
  },
  {
   "cell_type": "code",
   "execution_count": 143,
   "metadata": {},
   "outputs": [
    {
     "data": {
      "text/plain": [
       "<matplotlib.axes._subplots.AxesSubplot at 0x2754356ee48>"
      ]
     },
     "execution_count": 143,
     "metadata": {},
     "output_type": "execute_result"
    },
    {
     "data": {
      "image/png": "[encoded data removed]",
      "text/plain": [
       "<Figure size 432x288 with 1 Axes>"
      ]
     },
     "metadata": {
      "needs_background": "light"
     },
     "output_type": "display_data"
    }
   ],
   "source": [
    "#africa_aez_no_null.loc[4324,(first_na_4324-100):(first_na_4324+100)]\n",
    "\n",
    "africa_aez_no_null.loc[4324,].plot()\n",
    "\n",
    "\n"
   ]
  },
  {
   "cell_type": "code",
   "execution_count": 145,
   "metadata": {},
   "outputs": [
    {
     "data": {
      "text/plain": [
       "<matplotlib.axes._subplots.AxesSubplot at 0x274d29cc8c8>"
      ]
     },
     "execution_count": 145,
     "metadata": {},
     "output_type": "execute_result"
    },
    {
     "data": {
      "image/png": "[encoded data removed]",
      "text/plain": [
       "<Figure size 432x288 with 1 Axes>"
      ]
     },
     "metadata": {
      "needs_background": "light"
     },
     "output_type": "display_data"
    }
   ],
   "source": [
    "#africa_aez_no_null.loc[4361,(first_na_4361-100):(first_na_4361+100)]\n",
    "africa_aez_no_null.loc[4361,].plot()\n",
    "#324 has almost all NA values accross the land, so it will be dropped.\n"
   ]
  },
  {
   "cell_type": "code",
   "execution_count": 146,
   "metadata": {},
   "outputs": [
    {
     "data": {
      "text/plain": [
       "<matplotlib.axes._subplots.AxesSubplot at 0x274d32096c8>"
      ]
     },
     "execution_count": 146,
     "metadata": {},
     "output_type": "execute_result"
    },
    {
     "data": {
      "image/png": "[encoded data removed]",
      "text/plain": [
       "<Figure size 432x288 with 1 Axes>"
      ]
     },
     "metadata": {
      "needs_background": "light"
     },
     "output_type": "display_data"
    }
   ],
   "source": [
    "#africa_aez_no_null.loc[4369,(first_na_4369-100):(first_na_4369+100)]\n",
    "africa_aez_no_null.loc[4369,].plot()\n"
   ]
  },
  {
   "cell_type": "code",
   "execution_count": 150,
   "metadata": {},
   "outputs": [
    {
     "ename": "TypeError",
     "evalue": "data type not understood",
     "output_type": "error",
     "traceback": [
      "\u001b[1;31m---------------------------------------------------------------------------\u001b[0m",
      "\u001b[1;31mTypeError\u001b[0m                                 Traceback (most recent call last)",
      "\u001b[1;32m<ipython-input-150-a876b196a434>\u001b[0m in \u001b[0;36m<module>\u001b[1;34m\u001b[0m\n\u001b[0;32m      1\u001b[0m \u001b[0mAEZ_raster_cleaned\u001b[0m\u001b[1;33m=\u001b[0m\u001b[0mos\u001b[0m\u001b[1;33m.\u001b[0m\u001b[0mpath\u001b[0m\u001b[1;33m.\u001b[0m\u001b[0mjoin\u001b[0m\u001b[1;33m(\u001b[0m\u001b[1;34m\"data\"\u001b[0m\u001b[1;33m,\u001b[0m \u001b[1;34m\"raster\"\u001b[0m\u001b[1;33m,\u001b[0m\u001b[1;34m\"AEZ_2009\"\u001b[0m\u001b[1;33m,\u001b[0m\u001b[1;34m\"afr_aez_cleaned.asc\"\u001b[0m\u001b[1;33m)\u001b[0m\u001b[1;33m\u001b[0m\u001b[1;33m\u001b[0m\u001b[0m\n\u001b[1;32m----> 2\u001b[1;33m \u001b[0mAEZ_array\u001b[0m\u001b[1;33m=\u001b[0m\u001b[0mnp\u001b[0m\u001b[1;33m.\u001b[0m\u001b[0mloadtxt\u001b[0m\u001b[1;33m(\u001b[0m\u001b[0mAEZ_raster_cleaned\u001b[0m\u001b[1;33m,\u001b[0m\u001b[0mAEZ_array\u001b[0m\u001b[1;33m,\u001b[0m  \u001b[0mencoding\u001b[0m\u001b[1;33m=\u001b[0m\u001b[1;34m\"ANSI\"\u001b[0m\u001b[1;33m)\u001b[0m\u001b[1;33m\u001b[0m\u001b[1;33m\u001b[0m\u001b[0m\n\u001b[0m\u001b[0;32m      3\u001b[0m \u001b[0mAEZ_array\u001b[0m\u001b[1;33m.\u001b[0m\u001b[0mshape\u001b[0m\u001b[1;33m\u001b[0m\u001b[1;33m\u001b[0m\u001b[0m\n\u001b[0;32m      4\u001b[0m \u001b[1;31m#np.savetxt(AEZ_raster_cleaned,AEZ_array, delimiter=\" \", newline='\\n', encoding=\"ANSI\")\u001b[0m\u001b[1;33m\u001b[0m\u001b[1;33m\u001b[0m\u001b[1;33m\u001b[0m\u001b[0m\n",
      "\u001b[1;32m~\\Anaconda3\\lib\\site-packages\\numpy\\lib\\npyio.py\u001b[0m in \u001b[0;36mloadtxt\u001b[1;34m(fname, dtype, comments, delimiter, converters, skiprows, usecols, unpack, ndmin, encoding, max_rows)\u001b[0m\n\u001b[0;32m   1079\u001b[0m     \u001b[1;32mtry\u001b[0m\u001b[1;33m:\u001b[0m\u001b[1;33m\u001b[0m\u001b[1;33m\u001b[0m\u001b[0m\n\u001b[0;32m   1080\u001b[0m         \u001b[1;31m# Make sure we're dealing with a proper dtype\u001b[0m\u001b[1;33m\u001b[0m\u001b[1;33m\u001b[0m\u001b[1;33m\u001b[0m\u001b[0m\n\u001b[1;32m-> 1081\u001b[1;33m         \u001b[0mdtype\u001b[0m \u001b[1;33m=\u001b[0m \u001b[0mnp\u001b[0m\u001b[1;33m.\u001b[0m\u001b[0mdtype\u001b[0m\u001b[1;33m(\u001b[0m\u001b[0mdtype\u001b[0m\u001b[1;33m)\u001b[0m\u001b[1;33m\u001b[0m\u001b[1;33m\u001b[0m\u001b[0m\n\u001b[0m\u001b[0;32m   1082\u001b[0m         \u001b[0mdefconv\u001b[0m \u001b[1;33m=\u001b[0m \u001b[0m_getconv\u001b[0m\u001b[1;33m(\u001b[0m\u001b[0mdtype\u001b[0m\u001b[1;33m)\u001b[0m\u001b[1;33m\u001b[0m\u001b[1;33m\u001b[0m\u001b[0m\n\u001b[0;32m   1083\u001b[0m \u001b[1;33m\u001b[0m\u001b[0m\n",
      "\u001b[1;31mTypeError\u001b[0m: data type not understood"
     ]
    }
   ],
   "source": [
    "AEZ_raster_cleaned=os.path.join(\"data\", \"raster\",\"AEZ_2009\",\"afr_aez_cleaned.asc\")\n",
    "AEZ_array.shape\n",
    "#np.savetxt(AEZ_raster_cleaned,AEZ_array, delimiter=\" \", newline='\\n', encoding=\"ANSI\")"
   ]
  },
  {
   "cell_type": "code",
   "execution_count": null,
   "metadata": {},
   "outputs": [],
   "source": []
  }
 ],
 "metadata": {
  "kernelspec": {
   "display_name": "Python 3",
   "language": "python",
   "name": "python3"
  },
  "language_info": {
   "codemirror_mode": {
    "name": "ipython",
    "version": 3
   },
   "file_extension": ".py",
   "mimetype": "text/x-python",
   "name": "python",
   "nbconvert_exporter": "python",
   "pygments_lexer": "ipython3",
   "version": "3.7.4"
  }
 },
 "nbformat": 4,
 "nbformat_minor": 4
}
