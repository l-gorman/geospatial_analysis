{
 "cells": [
  {
   "cell_type": "code",
   "execution_count": 1,
   "metadata": {},
   "outputs": [
    {
     "data": {
      "text/plain": [
       "'C:\\\\Users\\\\leogo\\\\OneDrive\\\\Desktop\\\\PhD\\\\Analysis\\\\scripts'"
      ]
     },
     "execution_count": 1,
     "metadata": {},
     "output_type": "execute_result"
    }
   ],
   "source": [
    "import os\n",
    "import pandas as pd\n",
    "import math\n",
    "import numpy as np\n",
    "import matplotlib.pyplot as plt\n",
    "import geopandas as gpd\n",
    "#import gdal\n",
    "import geopandas as gpd\n",
    "from shapely.geometry import Point, Polygon, mapping\n",
    "import rasterio\n",
    "import rasterio.plot\n",
    "import rasterio.mask # an important package which allows you to only extract points within your shapefile\n",
    "import rasterstats # gives us raster summaries within a shapefile\n",
    "from rasterstats import zonal_stats # gives us raster summaries within a shapefile\n",
    "os.getcwd()"
   ]
  },
  {
   "cell_type": "code",
   "execution_count": 2,
   "metadata": {},
   "outputs": [
    {
     "data": {
      "text/plain": [
       "'C:\\\\Users\\\\leogo\\\\OneDrive\\\\Desktop\\\\PhD\\\\Analysis'"
      ]
     },
     "execution_count": 2,
     "metadata": {},
     "output_type": "execute_result"
    }
   ],
   "source": [
    "#os.chdir('../../')\n",
    "os.chdir('../')\n",
    "#os.chdir(\"Analysis\")\n",
    "os.getcwd()"
   ]
  },
  {
   "cell_type": "code",
   "execution_count": 3,
   "metadata": {},
   "outputs": [],
   "source": [
    "#world_grid=gpd.read_file(os.path.join('data', 'shapefiles', 'world_grid_100.0km'))\n",
    "#geometry=world_grid.values"
   ]
  },
  {
   "cell_type": "code",
   "execution_count": 4,
   "metadata": {},
   "outputs": [],
   "source": [
    "# subsetting shapefile by continent\n",
    "\n",
    "resolution=\"100\"\n",
    "file_name=\"world_grid_\"+resolution+\".0km\"\n",
    "continent=\"Africa\"\n",
    "continent_file=\"africa_grid_\"+resolution+\".0km\"\n",
    "\n",
    "world_grid=gpd.read_file(os.path.join('data', 'shapefiles', file_name))\n",
    "world_shapefile=gpd.read_file(os.path.join('data', 'shapefiles', 'World'))\n",
    "world_geopanda = gpd.read_file(gpd.datasets.get_path('naturalearth_lowres')) #continents dataframe\n",
    "continent_shapefile=world_geopanda.loc[world_geopanda[\"continent\"]==continent,[\"continent\",\"geometry\"]]\n",
    "continent_shapefile[\"geometry\"]=continent_shapefile.envelope\n",
    "continent_shapefile.columns=[\"geometry_continent\" if col_name==\"geometry\" else col_name for col_name in continent_shapefile.columns]\n",
    "#subset_world_shapefile=gpd.overlay(world_shapefile.set_geometry(\"geometry\"), continent_shapefile.set_geometry(\"geometry_continent\"), how='intersection')\n",
    "subset_world_shapefile=gpd.sjoin(world_shapefile.set_geometry(\"geometry\"), continent_shapefile.set_geometry(\"geometry_continent\"), how='inner')\n",
    "world_shapefile=None\n",
    "continent_shapefile=None\n",
    "countries=subset_world_shapefile[\"CNTRY_NAME\"].unique()\n",
    "\n",
    "\n",
    "# Getting rid of some european countries\n",
    "countries_to_exclude=[\"Portugal\", \"Spain\", \"Gibraltar\", \"Gaza Strip\", \"Israel\", \"Jordan\", \"West Bank\", \"Saudi Arabia\", \"Yemen\"]\n",
    "final_countries=pd.Series(countries).isin(countries_to_exclude)==False\n",
    "final_countries=countries[final_countries]\n",
    "\n",
    "\n",
    "#subsetting final dataframe\n",
    "subset_world_shapefile=subset_world_shapefile.loc[subset_world_shapefile[\"CNTRY_NAME\"].isin(final_countries),:]\n",
    "grid_overlay=gpd.overlay(subset_world_shapefile,world_grid, how=\"identity\")\n",
    "subset_world_shapefile=None\n",
    "world_grid=grid_overlay\n",
    "grid_overlay=None\n",
    "world_grid.to_file(os.path.join('data', 'shapefiles', continent_file))\n",
    "\n",
    "\n",
    "world_grid=None"
   ]
  },
  {
   "cell_type": "code",
   "execution_count": 5,
   "metadata": {},
   "outputs": [],
   "source": [
    "rasters_to_attach={\"education\":os.path.join(\"data\", \"raster\",\"ClimAfr21_education_index\",\"ClimAfr21_education index.tif\"),\n",
    "                  \"technological_capital\":os.path.join(\"data\", \"raster\",\"ClimAfr08_technological_capital_index\",\"ClimAfr08_technological capital index.tif\"),\n",
    "                  \"infrastructure\":os.path.join(\"data\", \"raster\",\"ClimAfr23_infrastructure_index\",\"ClimAfr23_infrastructure index.tif\"),\n",
    "                  \"conflictuality\":os.path.join(\"data\", \"raster\",\"ClimAfr27_conflictuality_index\",\"ClimAfr27_conflictuality index.tif\"),\n",
    "                  #\"soil\":os.path.join(\"data\", \"raster\",\"HWSD_RASTER\",\"hwsd.bil\"),\n",
    "                  \"cattle_density\":os.path.join(\"data\", \"raster\",\"cattle_density_map\",\"Cattle10km_AD_2010_v2_1.tif\"),\n",
    "                  #\"AEZ\":os.path.join(\"data\", \"raster\",\"ClimAfr_AEZ\",\"ClimAf_1_1981_2050_lpjm_mir5_B1_AEZAI_ann_avgCUR05_10km.tif\"),\n",
    "                  \"financial_capital\":os.path.join(\"data\", \"raster\",\"ClimAfr09_financial_capital_index\",\"ClimAfr09_financial capital index.tif\"),\n",
    "                  \"rurality\":os.path.join(\"data\", \"raster\",\"ClimAfr13_rurality_index\",\"ClimAfr13_rurality index.tif\"),\n",
    "                  \"gender_gap\":os.path.join(\"data\", \"raster\",\"ClimAfr15_gender_gap_index\",\"ClimAfr15_gender gap index.tif\"),\n",
    "                  \"household_technological_capital\":os.path.join(\"data\", \"raster\",\"ClimAfr22_household_technology_index\",\"ClimAfr22_household technology index.tif\"),\n",
    "                  \"financial_development\":os.path.join(\"data\", \"raster\",\"ClimAfr24_financial_development_index\",\"ClimAfr24_financial development index.tif\"),\n",
    "                  \"richness\":os.path.join(\"data\", \"raster\",\"ClimAfr25_richness_index\",\"ClimAfr25_richness index.tif\"),\n",
    "                  \"governance\":os.path.join(\"data\", \"raster\",\"ClimAfr26_governance_index\",\"ClimAfr26_governance index.tif\"),\n",
    "                  #\"slope\":os.path.join(\"data\", \"raster\",\"global_slope_median\",\"plate09.bil\"),\n",
    "                  \"population_density\":os.path.join(\"data\", \"raster\",\"gridded_pop_world_population_density_2015\",\"gpw_v4_population_density_adjusted_to_2015_unwpp_country_totals_rev11_2015_2pt5_min.tif\"),\n",
    "                  \"institutional_capital\":os.path.join(\"data\", \"raster\",\"ClimAfr10_institutional_capital_index\",\"ClimAfr10_institutional capital index.tif\"),\n",
    "                  \"AEZ\":os.path.join(\"data\", \"raster\",\"AEZ_2009\",\"AEZ_FINAL.asc\"),\n",
    "                  \"time_to_market_20_k\":os.path.join(\"data\", \"raster\",\"Harvest_Choice_Market_Travel\",\"TravelTimeToMarket_SSA_GeoTiff\",\"traveltimetomarket_ssa_020k.tif\"),\n",
    "                  \"time_to_market_50_k\":os.path.join(\"data\", \"raster\",\"Harvest_Choice_Market_Travel\",\"TravelTimeToMarket_SSA_GeoTiff\",\"traveltimetomarket_ssa_050k.tif\"),\n",
    "                  \"time_to_market_100_k\":os.path.join(\"data\", \"raster\",\"Harvest_Choice_Market_Travel\",\"TravelTimeToMarket_SSA_GeoTiff\",\"traveltimetomarket_ssa_100k.tif\"),\n",
    "                  \"time_to_market_250_k\":os.path.join(\"data\", \"raster\",\"Harvest_Choice_Market_Travel\",\"TravelTimeToMarket_SSA_GeoTiff\",\"traveltimetomarket_ssa_250k.tif\"),\n",
    "                  \"time_to_market_500_k\":os.path.join(\"data\", \"raster\",\"Harvest_Choice_Market_Travel\",\"TravelTimeToMarket_SSA_GeoTiff\",\"traveltimetomarket_ssa_500k.tif\")}\n",
    "                  #\"pests_and_disease\":os.path.join(\"data\", \"raster\",\"Harvest_Choice_Pests_and_Disease\",\"Pests_and_Disease.tiff\")}\n",
    "\n",
    "raster_keys=[value for value, key in  rasters_to_attach.items()]\n",
    "raster_labels=[key for value, key in  rasters_to_attach.items()]\n"
   ]
  },
  {
   "cell_type": "code",
   "execution_count": 6,
   "metadata": {},
   "outputs": [],
   "source": [
    "\n",
    "AEZ_mapping_categories={101:\"Temperate / arid\",\n",
    "                    102:\"Temperate / Semi-arid\",\n",
    "                    103:\"Temperate / sub-humid\",\n",
    "                    104:\"Temperate / humid\",\n",
    "                    211:\"Subtropic - warm / arid\",\n",
    "                    212:\"Subtropic - warm / semiarid\",\n",
    "                    213:\"Subtropic - warm / subhumid\",\n",
    "                    214:\"Subtropic - warm / humid\",\n",
    "                    221:\"Subtropic - cool / arid\",\n",
    "                    222:\"Subtropic - cool / semiarid\",\n",
    "                    223:\"Subtropic - cool / subhumid\",\n",
    "                    224:\"Subtropic - cool / humid\",\n",
    "                    311:\"Tropic - warm / arid\",\n",
    "                    312:\"Tropic - warm / semiarid\",\n",
    "                    313:\"Tropic - warm / subhumid\",\n",
    "                    314:\"Tropic - warm / humid\",\n",
    "                    321:\"Tropic - cool / arid\",\n",
    "                    322:\"Tropic - cool / semiarid\",\n",
    "                    323:\"Tropic - cool / subhumid\",\n",
    "                    324:\"Tropic - cool / humid\",\n",
    "                    400:\"Boreal\"}\n",
    "\n",
    "\n",
    "#filepath=AEZ_raster\n",
    "#shapefile=world_grid\n",
    "#data_type=\"AEZ\"\n",
    "#with rasterio.open(filepath) as src:\n",
    "    # can check the profile and type of src, but effectively is an open file command\n",
    "#    affine = src.transform # transforms the raster dataset into the coordinate reference system\n",
    "#    print(\"broke before read\")\n",
    "#    #raster_array=rasterio.open(filepath,driver=\"AAIGrid\").read(1)\n",
    "#    raster_array=src.read()\n",
    "#    print(\"broke after open\")\n",
    "#    #raster_array_AEZ=zonal_stats(world_grid, AEZ_raster,categorical=True,category_map=mapping_categories, stats=[\"majority\"])\n",
    "#    raster_array_AEZ = pd.DataFrame(zonal_stats(shapefile,raster_array, categorical=True,category_map=mapping_categories,affine=affine,stats=[\"majority\"]))\n",
    "#    print(\"broke when converting to df\")\n",
    "#raster_statistics_for_grid=pd.concat([shapefile,raster_statistics_for_grid],axis=1)\n",
    "#grid_raster_merge=raster_statistics_for_grid\n"
   ]
  },
  {
   "cell_type": "code",
   "execution_count": 7,
   "metadata": {},
   "outputs": [],
   "source": [
    "#https://gis.stackexchange.com/questions/297076/how-to-calculate-mean-value-of-a-raster-for-each-polygon-in-a-shapefile\n",
    "def merge_shape_file_with_raster(filepath,datatype, shapefile,raster_keys):\n",
    "    with rasterio.open(filepath) as src:\n",
    "        # can check the profile and type of src, but effectively is an open file command\n",
    "        affine = src.transform # transforms the raster dataset into the coordinate reference system\n",
    "        \n",
    "        raster_array=rasterio.open(filepath).read(1) # why is this \"1\" here?\n",
    "        if raster_keys!=\"AEZ\":\n",
    "            raster_array=raster_array.astype(float)\n",
    "        #raster_array[raster_array<-3.4e+38]=np.nan\n",
    "            raster_array[raster_array<-2e+9]=np.nan\n",
    "        if raster_keys==\"AEZ\":\n",
    "            raster_array=raster_array.astype(int)\n",
    "        raster_statistics_for_grid = pd.DataFrame(zonal_stats(shapefile,raster_array ,affine=affine,stats=[ 'mean', 'median', 'std', \"majority\"])) # calculates raster statistics within boundary of shapefile\n",
    "        raster_array=None\n",
    "    raster_statistics_for_grid=pd.concat([shapefile,raster_statistics_for_grid],axis=1)\n",
    "    grid_raster_merge=raster_statistics_for_grid\n",
    "    raster_statistics_for_grid=None\n",
    "\n",
    "\n",
    "    grid_raster_merge.columns=[column_name.replace(\"mean\",\"mean_\"+datatype) if column_name==\"mean\" else column_name  for column_name in grid_raster_merge.columns]\n",
    "    grid_raster_merge.columns=[column_name.replace(\"median\",\"median_\"+datatype) if column_name==\"median\" else column_name for column_name in grid_raster_merge.columns]\n",
    "    grid_raster_merge.columns=[column_name.replace(\"std\",\"std_\"+datatype) if column_name==\"std\" else column_name for column_name in grid_raster_merge.columns]\n",
    "    grid_raster_merge.columns=[column_name.replace(\"majority\",\"majority_\"+datatype) if column_name==\"majority\" else column_name for column_name in grid_raster_merge.columns]\n",
    "\n",
    "    return grid_raster_merge;"
   ]
  },
  {
   "cell_type": "code",
   "execution_count": null,
   "metadata": {},
   "outputs": [
    {
     "name": "stdout",
     "output_type": "stream",
     "text": [
      "education\n"
     ]
    },
    {
     "name": "stderr",
     "output_type": "stream",
     "text": [
      "C:\\Users\\leogo\\Anaconda3\\lib\\site-packages\\rasterstats\\io.py:301: UserWarning: Setting nodata to -999; specify nodata explicitly\n",
      "  warnings.warn(\"Setting nodata to -999; specify nodata explicitly\")\n"
     ]
    },
    {
     "name": "stdout",
     "output_type": "stream",
     "text": [
      "technological_capital\n"
     ]
    }
   ],
   "source": [
    "\n",
    "world_grid_old=gpd.read_file(os.path.join('data', 'shapefiles', continent_file))\n",
    "world_grid=None\n",
    "for loop_index in range(len(rasters_to_attach)):\n",
    "    print(raster_keys[loop_index])\n",
    "    world_grid_new=merge_shape_file_with_raster(filepath=raster_labels[loop_index], datatype=raster_keys[loop_index], shapefile=world_grid_old, raster_keys=raster_keys[loop_index])\n",
    "    columns_to_add=[\"FID\"]\n",
    "    columns_to_add.extend(list(world_grid_new.columns.difference(world_grid_old.columns)))\n",
    "    world_grid_old=pd.merge(world_grid_old,world_grid_new[world_grid_new.columns.intersection(columns_to_add)])  \n",
    "    world_grid_new=None\n",
    "processed_file_name=\"africa_grid_\"+resolution+\"processed.csv\"\n",
    "world_grid_old.to_csv(os.path.join(\"data\",\"processed\",processed_file_name))"
   ]
  },
  {
   "cell_type": "code",
   "execution_count": null,
   "metadata": {},
   "outputs": [],
   "source": []
  },
  {
   "cell_type": "code",
   "execution_count": 61,
   "metadata": {},
   "outputs": [],
   "source": [
    "subsetting_non_na_values=world_grid_old.loc[:,\"majority\"+\"_AEZ\"].notna()\n",
    "grid_raster_merge_non_na=world_grid_old.loc[subsetting_non_na_values,:]"
   ]
  },
  {
   "cell_type": "code",
   "execution_count": 62,
   "metadata": {},
   "outputs": [
    {
     "data": {
      "text/plain": [
       "<matplotlib.axes._subplots.AxesSubplot at 0x2050ed530c8>"
      ]
     },
     "execution_count": 62,
     "metadata": {},
     "output_type": "execute_result"
    },
    {
     "data": {
      "image/png": "[encoded data removed]",
      "text/plain": [
       "<Figure size 432x288 with 1 Axes>"
      ]
     },
     "metadata": {
      "needs_background": "light"
     },
     "output_type": "display_data"
    }
   ],
   "source": [
    "grid_raster_merge_non_na.plot()"
   ]
  },
  {
   "cell_type": "markdown",
   "metadata": {},
   "source": [
    "# Cells to test specific loop iterations #"
   ]
  },
  {
   "cell_type": "code",
   "execution_count": 64,
   "metadata": {},
   "outputs": [
    {
     "data": {
      "text/plain": [
       "array([-9999.,   314.,   313.,   324.,   323.,   312.,   311.,   322.,\n",
       "         321.,   211.,   221.,   222.,   223.,   213.,   214.,   212.])"
      ]
     },
     "execution_count": 64,
     "metadata": {},
     "output_type": "execute_result"
    }
   ],
   "source": [
    "grid_raster_merge_non_na[\"majority_AEZ\"].unique()"
   ]
  },
  {
   "cell_type": "code",
   "execution_count": 11,
   "metadata": {},
   "outputs": [
    {
     "data": {
      "text/plain": [
       "0"
      ]
     },
     "execution_count": 11,
     "metadata": {},
     "output_type": "execute_result"
    }
   ],
   "source": [
    "loop_index"
   ]
  },
  {
   "cell_type": "code",
   "execution_count": null,
   "metadata": {},
   "outputs": [],
   "source": []
  }
 ],
 "metadata": {
  "kernelspec": {
   "display_name": "Python 3",
   "language": "python",
   "name": "python3"
  },
  "language_info": {
   "codemirror_mode": {
    "name": "ipython",
    "version": 3
   },
   "file_extension": ".py",
   "mimetype": "text/x-python",
   "name": "python",
   "nbconvert_exporter": "python",
   "pygments_lexer": "ipython3",
   "version": "3.7.4"
  }
 },
 "nbformat": 4,
 "nbformat_minor": 4
}
