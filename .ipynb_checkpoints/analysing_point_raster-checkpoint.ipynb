{
 "cells": [
  {
   "cell_type": "code",
   "execution_count": 118,
   "metadata": {},
   "outputs": [
    {
     "data": {
      "text/plain": [
       "'C:\\\\Users\\\\lgorman\\\\OneDrive\\\\Desktop\\\\PhD\\\\Analysis'"
      ]
     },
     "execution_count": 118,
     "metadata": {},
     "output_type": "execute_result"
    }
   ],
   "source": [
    "import os\n",
    "import pandas as pd\n",
    "import math\n",
    "import numpy as np\n",
    "%matplotlib inline\n",
    "import matplotlib.pyplot as plt\n",
    "import geopandas as gpd\n",
    "import gdal\n",
    "import geopandas as gpd\n",
    "import descartes \n",
    "from shapely.geometry import Point, Polygon\n",
    "from shapely import wkt\n",
    "\n",
    "\n",
    "import seaborn as sns\n",
    "from scipy.stats import norm\n",
    "from sklearn.preprocessing import StandardScaler\n",
    "from scipy import stats\n",
    "import warnings\n",
    "warnings.filterwarnings('ignore')\n",
    "import fiona\n",
    "import re\n",
    "#os.chdir('../../')\n",
    "#os.chdir('../')\n",
    "from sklearn.decomposition import PCA\n",
    "os.getcwd()\n",
    "\n"
   ]
  },
  {
   "cell_type": "code",
   "execution_count": 2,
   "metadata": {},
   "outputs": [
    {
     "data": {
      "text/plain": [
       "'C:\\\\Users\\\\lgorman\\\\OneDrive\\\\Desktop\\\\PhD\\\\Analysis'"
      ]
     },
     "execution_count": 2,
     "metadata": {},
     "output_type": "execute_result"
    }
   ],
   "source": [
    "os.chdir('../')\n",
    "os.getcwd()"
   ]
  },
  {
   "cell_type": "code",
   "execution_count": 119,
   "metadata": {},
   "outputs": [],
   "source": [
    "def remove_outliers_with_interquartile_range(column):\n",
    "    quartile_1=column.quantile(0.25)\n",
    "    quartile_3=column.quantile(0.75)\n",
    "    interquartile_range=quartile_3-quartile_1\n",
    "    \n",
    "    lower_limit=quartile_1-1.5*interquartile_range\n",
    "    upper_limit=quartile_3+1.5*interquartile_range\n",
    "    \n",
    "    column=column[(column>lower_limit) & (column<upper_limit)]\n",
    "    return column;"
   ]
  },
  {
   "cell_type": "code",
   "execution_count": 120,
   "metadata": {},
   "outputs": [],
   "source": [
    "data=pd.read_csv(os.path.join('data',\"processed\",\"point_data_processed.csv\")) # at this point we only preserve the grid geometry. Will need to add point geometry when reading the file back in again (same with country boundaries)  \n",
    "\n",
    "\n",
    "raster_level_columns=[\"raster_level_\"]\n",
    "country_level_columns=[\"COUNTRY_LEVEL_\"]\n",
    "all_columns=data.columns\n",
    "def find_and_return_existing_patterns(pattern,item_to_check):\n",
    "    test=re.search(pattern,item_to_check)\n",
    "    if test is not None:\n",
    "        return item_to_check;\n",
    "    if test is None:\n",
    "        return None;\n",
    "\n",
    "def grouping_pattern_in_list(pattern, list_to_check):\n",
    "    list_of_matches=[]\n",
    "    [list_of_matches.append(find_and_return_existing_patterns(pattern=pattern,item_to_check=item_to_check))  for item_to_check in list_to_check  if find_and_return_existing_patterns(pattern=pattern,item_to_check=item_to_check) is not None]\n",
    "    return list_of_matches;\n",
    "\n",
    "def grouping_multiple_patterns_in_list(list_of_patterns, list_to_check):\n",
    "    list_of_matches=[]\n",
    "    [list_of_matches.append(grouping_pattern_in_list(pattern=pattern, list_to_check=list_to_check))  for pattern in list_of_patterns]\n",
    "    unnested_list=[]\n",
    "    \n",
    "    for sublist in range(len(list_of_matches)):\n",
    "        temp_list=list_of_matches[sublist]\n",
    "        for item_in_sublist in temp_list:\n",
    "            unnested_list.append(item_in_sublist)        \n",
    "    return unnested_list;\n",
    "\n",
    "raster_columns=grouping_multiple_patterns_in_list(list_of_patterns=raster_level_columns, list_to_check=all_columns)\n",
    "columns_in_raster=list(map(lambda x: x in raster_columns, list(data.columns)))\n",
    "\n",
    "country_columns=grouping_multiple_patterns_in_list(list_of_patterns=country_level_columns, list_to_check=all_columns)\n",
    "columns_in_country=list(map(lambda x: x in country_columns, list(data.columns)))\n",
    "\n",
    "#raster_level=data.loc[:,columns_in_raster]\n",
    "\n",
    "#columns_in_other_data=[item==False for item in columns_in_raster]\n",
    "#original_rhomis_data=data.loc[:,columns_in_other_data]\n",
    "\n"
   ]
  },
  {
   "cell_type": "code",
   "execution_count": 273,
   "metadata": {},
   "outputs": [],
   "source": [
    "all_features=[]\n",
    "for index in range(0,data.shape[1]):\n",
    "    if columns_in_raster[index]==True:\n",
    "        all_features.append(True)\n",
    "    elif columns_in_country[index]==True:\n",
    "        all_features.append(True)\n",
    "    else:\n",
    "        all_features.append(False)\n"
   ]
  },
  {
   "cell_type": "code",
   "execution_count": 275,
   "metadata": {},
   "outputs": [
    {
     "data": {
      "text/html": [
       "<div>\n",
       "<style scoped>\n",
       "    .dataframe tbody tr th:only-of-type {\n",
       "        vertical-align: middle;\n",
       "    }\n",
       "\n",
       "    .dataframe tbody tr th {\n",
       "        vertical-align: top;\n",
       "    }\n",
       "\n",
       "    .dataframe thead th {\n",
       "        text-align: right;\n",
       "    }\n",
       "</style>\n",
       "<table border=\"1\" class=\"dataframe\">\n",
       "  <thead>\n",
       "    <tr style=\"text-align: right;\">\n",
       "      <th></th>\n",
       "      <th>Food_Availability_kCal_MAE_day</th>\n",
       "    </tr>\n",
       "  </thead>\n",
       "  <tbody>\n",
       "    <tr>\n",
       "      <td>0</td>\n",
       "      <td>1076.483516</td>\n",
       "    </tr>\n",
       "    <tr>\n",
       "      <td>1</td>\n",
       "      <td>1343.821765</td>\n",
       "    </tr>\n",
       "    <tr>\n",
       "      <td>2</td>\n",
       "      <td>138188.511698</td>\n",
       "    </tr>\n",
       "    <tr>\n",
       "      <td>3</td>\n",
       "      <td>892.529465</td>\n",
       "    </tr>\n",
       "    <tr>\n",
       "      <td>4</td>\n",
       "      <td>77852.167737</td>\n",
       "    </tr>\n",
       "    <tr>\n",
       "      <td>...</td>\n",
       "      <td>...</td>\n",
       "    </tr>\n",
       "    <tr>\n",
       "      <td>13802</td>\n",
       "      <td>347.204903</td>\n",
       "    </tr>\n",
       "    <tr>\n",
       "      <td>13803</td>\n",
       "      <td>1077.332406</td>\n",
       "    </tr>\n",
       "    <tr>\n",
       "      <td>13804</td>\n",
       "      <td>408.948255</td>\n",
       "    </tr>\n",
       "    <tr>\n",
       "      <td>13805</td>\n",
       "      <td>788.349151</td>\n",
       "    </tr>\n",
       "    <tr>\n",
       "      <td>13806</td>\n",
       "      <td>563.035844</td>\n",
       "    </tr>\n",
       "  </tbody>\n",
       "</table>\n",
       "<p>13807 rows × 1 columns</p>\n",
       "</div>"
      ],
      "text/plain": [
       "       Food_Availability_kCal_MAE_day\n",
       "0                         1076.483516\n",
       "1                         1343.821765\n",
       "2                       138188.511698\n",
       "3                          892.529465\n",
       "4                        77852.167737\n",
       "...                               ...\n",
       "13802                      347.204903\n",
       "13803                     1077.332406\n",
       "13804                      408.948255\n",
       "13805                      788.349151\n",
       "13806                      563.035844\n",
       "\n",
       "[13807 rows x 1 columns]"
      ]
     },
     "execution_count": 275,
     "metadata": {},
     "output_type": "execute_result"
    }
   ],
   "source": []
  },
  {
   "cell_type": "code",
   "execution_count": 277,
   "metadata": {},
   "outputs": [
    {
     "ename": "ValueError",
     "evalue": "Found input variables with inconsistent numbers of samples: [13186, 13770]",
     "output_type": "error",
     "traceback": [
      "\u001b[1;31m---------------------------------------------------------------------------\u001b[0m",
      "\u001b[1;31mValueError\u001b[0m                                Traceback (most recent call last)",
      "\u001b[1;32m<ipython-input-277-4756c804b541>\u001b[0m in \u001b[0;36m<module>\u001b[1;34m\u001b[0m\n\u001b[0;32m      6\u001b[0m \u001b[0mX\u001b[0m\u001b[1;33m=\u001b[0m\u001b[0mX\u001b[0m\u001b[1;33m[\u001b[0m\u001b[0mY_all\u001b[0m\u001b[1;33m[\u001b[0m\u001b[1;34m\"Food_Availability_kCal_MAE_day\"\u001b[0m\u001b[1;33m]\u001b[0m\u001b[1;33m.\u001b[0m\u001b[0mnotna\u001b[0m\u001b[1;33m(\u001b[0m\u001b[1;33m)\u001b[0m\u001b[1;33m]\u001b[0m\u001b[1;33m\u001b[0m\u001b[1;33m\u001b[0m\u001b[0m\n\u001b[0;32m      7\u001b[0m \u001b[1;33m\u001b[0m\u001b[0m\n\u001b[1;32m----> 8\u001b[1;33m \u001b[0mX_train\u001b[0m\u001b[1;33m,\u001b[0m \u001b[0mX_test\u001b[0m\u001b[1;33m,\u001b[0m \u001b[0mY_train\u001b[0m\u001b[1;33m,\u001b[0m \u001b[0mY_test\u001b[0m\u001b[1;33m=\u001b[0m\u001b[0mtrain_test_split\u001b[0m\u001b[1;33m(\u001b[0m\u001b[0mX\u001b[0m\u001b[1;33m,\u001b[0m\u001b[0mY\u001b[0m\u001b[1;33m,\u001b[0m \u001b[0mtest_size\u001b[0m\u001b[1;33m=\u001b[0m\u001b[1;36m0.2\u001b[0m\u001b[1;33m)\u001b[0m\u001b[1;33m\u001b[0m\u001b[1;33m\u001b[0m\u001b[0m\n\u001b[0m\u001b[0;32m      9\u001b[0m \u001b[1;33m\u001b[0m\u001b[0m\n\u001b[0;32m     10\u001b[0m \u001b[1;33m\u001b[0m\u001b[0m\n",
      "\u001b[1;32m~\\AppData\\Local\\Continuum\\anaconda3\\lib\\site-packages\\sklearn\\model_selection\\_split.py\u001b[0m in \u001b[0;36mtrain_test_split\u001b[1;34m(*arrays, **options)\u001b[0m\n\u001b[0;32m   2094\u001b[0m         \u001b[1;32mraise\u001b[0m \u001b[0mTypeError\u001b[0m\u001b[1;33m(\u001b[0m\u001b[1;34m\"Invalid parameters passed: %s\"\u001b[0m \u001b[1;33m%\u001b[0m \u001b[0mstr\u001b[0m\u001b[1;33m(\u001b[0m\u001b[0moptions\u001b[0m\u001b[1;33m)\u001b[0m\u001b[1;33m)\u001b[0m\u001b[1;33m\u001b[0m\u001b[1;33m\u001b[0m\u001b[0m\n\u001b[0;32m   2095\u001b[0m \u001b[1;33m\u001b[0m\u001b[0m\n\u001b[1;32m-> 2096\u001b[1;33m     \u001b[0marrays\u001b[0m \u001b[1;33m=\u001b[0m \u001b[0mindexable\u001b[0m\u001b[1;33m(\u001b[0m\u001b[1;33m*\u001b[0m\u001b[0marrays\u001b[0m\u001b[1;33m)\u001b[0m\u001b[1;33m\u001b[0m\u001b[1;33m\u001b[0m\u001b[0m\n\u001b[0m\u001b[0;32m   2097\u001b[0m \u001b[1;33m\u001b[0m\u001b[0m\n\u001b[0;32m   2098\u001b[0m     \u001b[0mn_samples\u001b[0m \u001b[1;33m=\u001b[0m \u001b[0m_num_samples\u001b[0m\u001b[1;33m(\u001b[0m\u001b[0marrays\u001b[0m\u001b[1;33m[\u001b[0m\u001b[1;36m0\u001b[0m\u001b[1;33m]\u001b[0m\u001b[1;33m)\u001b[0m\u001b[1;33m\u001b[0m\u001b[1;33m\u001b[0m\u001b[0m\n",
      "\u001b[1;32m~\\AppData\\Local\\Continuum\\anaconda3\\lib\\site-packages\\sklearn\\utils\\validation.py\u001b[0m in \u001b[0;36mindexable\u001b[1;34m(*iterables)\u001b[0m\n\u001b[0;32m    228\u001b[0m         \u001b[1;32melse\u001b[0m\u001b[1;33m:\u001b[0m\u001b[1;33m\u001b[0m\u001b[1;33m\u001b[0m\u001b[0m\n\u001b[0;32m    229\u001b[0m             \u001b[0mresult\u001b[0m\u001b[1;33m.\u001b[0m\u001b[0mappend\u001b[0m\u001b[1;33m(\u001b[0m\u001b[0mnp\u001b[0m\u001b[1;33m.\u001b[0m\u001b[0marray\u001b[0m\u001b[1;33m(\u001b[0m\u001b[0mX\u001b[0m\u001b[1;33m)\u001b[0m\u001b[1;33m)\u001b[0m\u001b[1;33m\u001b[0m\u001b[1;33m\u001b[0m\u001b[0m\n\u001b[1;32m--> 230\u001b[1;33m     \u001b[0mcheck_consistent_length\u001b[0m\u001b[1;33m(\u001b[0m\u001b[1;33m*\u001b[0m\u001b[0mresult\u001b[0m\u001b[1;33m)\u001b[0m\u001b[1;33m\u001b[0m\u001b[1;33m\u001b[0m\u001b[0m\n\u001b[0m\u001b[0;32m    231\u001b[0m     \u001b[1;32mreturn\u001b[0m \u001b[0mresult\u001b[0m\u001b[1;33m\u001b[0m\u001b[1;33m\u001b[0m\u001b[0m\n\u001b[0;32m    232\u001b[0m \u001b[1;33m\u001b[0m\u001b[0m\n",
      "\u001b[1;32m~\\AppData\\Local\\Continuum\\anaconda3\\lib\\site-packages\\sklearn\\utils\\validation.py\u001b[0m in \u001b[0;36mcheck_consistent_length\u001b[1;34m(*arrays)\u001b[0m\n\u001b[0;32m    203\u001b[0m     \u001b[1;32mif\u001b[0m \u001b[0mlen\u001b[0m\u001b[1;33m(\u001b[0m\u001b[0muniques\u001b[0m\u001b[1;33m)\u001b[0m \u001b[1;33m>\u001b[0m \u001b[1;36m1\u001b[0m\u001b[1;33m:\u001b[0m\u001b[1;33m\u001b[0m\u001b[1;33m\u001b[0m\u001b[0m\n\u001b[0;32m    204\u001b[0m         raise ValueError(\"Found input variables with inconsistent numbers of\"\n\u001b[1;32m--> 205\u001b[1;33m                          \" samples: %r\" % [int(l) for l in lengths])\n\u001b[0m\u001b[0;32m    206\u001b[0m \u001b[1;33m\u001b[0m\u001b[0m\n\u001b[0;32m    207\u001b[0m \u001b[1;33m\u001b[0m\u001b[0m\n",
      "\u001b[1;31mValueError\u001b[0m: Found input variables with inconsistent numbers of samples: [13186, 13770]"
     ]
    }
   ],
   "source": [
    "X_all=data.loc[:,all_features] # features\n",
    "Y_all=data.loc[:,data.columns==\"Food_Availability_kCal_MAE_day\"] # targets\n",
    "#Y_all=data.loc[:,data.columns==\"LandCultivated\"] # targets\n",
    "\n",
    "Y=Y_all[Y_all[\"Food_Availability_kCal_MAE_day\"].notna()]\n",
    "X=X[Y_all[\"Food_Availability_kCal_MAE_day\"].notna()]\n",
    "\n",
    "X_train, X_test, Y_train, Y_test=train_test_split(X,Y, test_size=0.2)\n",
    "\n",
    "\n"
   ]
  },
  {
   "cell_type": "code",
   "execution_count": 243,
   "metadata": {},
   "outputs": [
    {
     "data": {
      "text/plain": [
       "False    13221\n",
       "Name: LandCultivated, dtype: int64"
      ]
     },
     "execution_count": 243,
     "metadata": {},
     "output_type": "execute_result"
    }
   ],
   "source": [
    "Y[\"LandCultivated\"].isna().value_counts()"
   ]
  },
  {
   "cell_type": "code",
   "execution_count": 244,
   "metadata": {},
   "outputs": [],
   "source": [
    "#------------------- Preprocessing Data --------------------######\n",
    "from sklearn import preprocessing #useful for replacing NaNs\n",
    "\n",
    "\n",
    "X_train.replace([np.inf, -np.inf], np.nan, inplace=True)\n",
    "#X.dropna(axis=1, thresh=int(X.shape[0]/4), inplace=True) # dropping columns with all NAs\n",
    "X_train.dropna(axis=1, how=\"all\", inplace=True)\n",
    "X_train.dropna(axis=0, how=\"all\", inplace=True) # dropping rows with all NAs\n",
    "\n",
    "\n",
    "X_train.fillna(X_train.median(), inplace=True) #replacing NAs with the mean value as \n",
    "\n",
    "#---------- Normalising all variables\n",
    "temp = X_train.values #returns a numpy array\n",
    "\n",
    "#min_max_scaler = preprocessing.MinMaxScaler(feature_range = (0, 1)) #min max scaler\n",
    "#temp_scaled = min_max_scaler.fit_transform(temp)\n",
    "\n",
    "robust_scaler=preprocessing.RobustScaler() #min max scaler\n",
    "temp_scaled = robust_scaler.fit_transform(temp)\n",
    "\n",
    "#standard_scaler = preprocessing.StandardScaler() #min max scaler\n",
    "#temp_scaled = standard_scaler.fit_transform(temp)\n",
    "\n",
    "X_scaled = pd.DataFrame(temp_scaled)\n",
    "X_scaled.columns=[column for column in X_train.columns]"
   ]
  },
  {
   "cell_type": "code",
   "execution_count": 245,
   "metadata": {},
   "outputs": [
    {
     "data": {
      "text/plain": [
       "array([False])"
      ]
     },
     "execution_count": 245,
     "metadata": {},
     "output_type": "execute_result"
    }
   ],
   "source": [
    "np.isinf(X_train).all().unique() # checking for any infinite values\n",
    "\n",
    "np.isnan(X_train).all().unique()"
   ]
  },
  {
   "cell_type": "code",
   "execution_count": null,
   "metadata": {},
   "outputs": [],
   "source": []
  },
  {
   "cell_type": "code",
   "execution_count": 246,
   "metadata": {},
   "outputs": [
    {
     "data": {
      "text/plain": [
       "(10576, 829)"
      ]
     },
     "execution_count": 246,
     "metadata": {},
     "output_type": "execute_result"
    }
   ],
   "source": [
    "#------------------ Variance threshold feature selection ---------------#\n",
    "# https://chrisalbon.com/machine_learning/feature_selection/variance_thresholding_for_feature_selection/\n",
    "from sklearn.feature_selection import VarianceThreshold\n",
    "\n",
    "def variance_threshold_selector(test_data, threshold):\n",
    "    selector = VarianceThreshold(threshold)\n",
    "    selector.fit(test_data)\n",
    "    return test_data[test_data.columns[selector.get_support(indices=True)]]\n",
    "\n",
    "variance_over_threshold=variance_threshold_selector(test_data=X_scaled,threshold=0.5)\n",
    "variance_over_threshold.shape\n",
    "# Conduct variance thresholding\n",
    "# X_high_variance = thresholder.fit_transform(X)\n",
    "\n",
    "# Using the variance threshold we only get raster and raster travel time to 20k, even with variance just at 0.2\n",
    "#The technique accepts NA values\n",
    "#variance_over_threshold.columns"
   ]
  },
  {
   "cell_type": "code",
   "execution_count": 247,
   "metadata": {},
   "outputs": [],
   "source": [
    "#------------ Recursive feature elimination RFE ----------#\n",
    "\n",
    "from sklearn.feature_selection import RFE\n",
    "from sklearn.linear_model import LinearRegression\n",
    " \n",
    "\n",
    "names = X_train.columns\n",
    " \n",
    "#use linear regression as the model\n",
    "lm = LinearRegression()\n",
    "#rank all features, i.e continue the elimination until the last one\n",
    "rfe = RFE(lm, n_features_to_select=1)\n",
    "rfe.fit(X_train,Y_train)\n",
    "\n",
    "\n",
    "ranked_importance=pd.DataFrame(zip(rfe.ranking_,X_train.columns), )\n",
    "ranked_importance.columns=[\"ranking\", \"variable\"]\n",
    "ranked_importance.loc[ranked_importance[\"ranking\"]==1,]\n",
    "ranked_importance=ranked_importance.sort_values(\"ranking\")\n",
    "\n",
    "# Attributes of RFE: n_features, support (the mask of selected features), ranking_estimator_\n"
   ]
  },
  {
   "cell_type": "code",
   "execution_count": 248,
   "metadata": {},
   "outputs": [
    {
     "data": {
      "text/html": [
       "<div>\n",
       "<style scoped>\n",
       "    .dataframe tbody tr th:only-of-type {\n",
       "        vertical-align: middle;\n",
       "    }\n",
       "\n",
       "    .dataframe tbody tr th {\n",
       "        vertical-align: top;\n",
       "    }\n",
       "\n",
       "    .dataframe thead th {\n",
       "        text-align: right;\n",
       "    }\n",
       "</style>\n",
       "<table border=\"1\" class=\"dataframe\">\n",
       "  <thead>\n",
       "    <tr style=\"text-align: right;\">\n",
       "      <th></th>\n",
       "      <th>ranking</th>\n",
       "      <th>variable</th>\n",
       "    </tr>\n",
       "  </thead>\n",
       "  <tbody>\n",
       "    <tr>\n",
       "      <td>14</td>\n",
       "      <td>1</td>\n",
       "      <td>raster_level_institutional_capital</td>\n",
       "    </tr>\n",
       "    <tr>\n",
       "      <td>12</td>\n",
       "      <td>2</td>\n",
       "      <td>raster_level_governance</td>\n",
       "    </tr>\n",
       "    <tr>\n",
       "      <td>3</td>\n",
       "      <td>3</td>\n",
       "      <td>raster_level_conflictuality</td>\n",
       "    </tr>\n",
       "    <tr>\n",
       "      <td>7</td>\n",
       "      <td>4</td>\n",
       "      <td>raster_level_rurality</td>\n",
       "    </tr>\n",
       "    <tr>\n",
       "      <td>10</td>\n",
       "      <td>5</td>\n",
       "      <td>raster_level_financial_development</td>\n",
       "    </tr>\n",
       "    <tr>\n",
       "      <td>...</td>\n",
       "      <td>...</td>\n",
       "      <td>...</td>\n",
       "    </tr>\n",
       "    <tr>\n",
       "      <td>881</td>\n",
       "      <td>1185</td>\n",
       "      <td>COUNTRY_LEVEL_DT.DOD.MIBR.CD</td>\n",
       "    </tr>\n",
       "    <tr>\n",
       "      <td>254</td>\n",
       "      <td>1186</td>\n",
       "      <td>COUNTRY_LEVEL_SE.TER.CUAT.MS.FE.ZS</td>\n",
       "    </tr>\n",
       "    <tr>\n",
       "      <td>696</td>\n",
       "      <td>1187</td>\n",
       "      <td>COUNTRY_LEVEL_DT.NFL.MIBR.CD</td>\n",
       "    </tr>\n",
       "    <tr>\n",
       "      <td>519</td>\n",
       "      <td>1188</td>\n",
       "      <td>COUNTRY_LEVEL_IE.PPI.ICTI.CD</td>\n",
       "    </tr>\n",
       "    <tr>\n",
       "      <td>552</td>\n",
       "      <td>1189</td>\n",
       "      <td>COUNTRY_LEVEL_SG.LAW.LEVE.PU</td>\n",
       "    </tr>\n",
       "  </tbody>\n",
       "</table>\n",
       "<p>1189 rows × 2 columns</p>\n",
       "</div>"
      ],
      "text/plain": [
       "     ranking                            variable\n",
       "14         1  raster_level_institutional_capital\n",
       "12         2             raster_level_governance\n",
       "3          3         raster_level_conflictuality\n",
       "7          4               raster_level_rurality\n",
       "10         5  raster_level_financial_development\n",
       "..       ...                                 ...\n",
       "881     1185        COUNTRY_LEVEL_DT.DOD.MIBR.CD\n",
       "254     1186  COUNTRY_LEVEL_SE.TER.CUAT.MS.FE.ZS\n",
       "696     1187        COUNTRY_LEVEL_DT.NFL.MIBR.CD\n",
       "519     1188        COUNTRY_LEVEL_IE.PPI.ICTI.CD\n",
       "552     1189        COUNTRY_LEVEL_SG.LAW.LEVE.PU\n",
       "\n",
       "[1189 rows x 2 columns]"
      ]
     },
     "execution_count": 248,
     "metadata": {},
     "output_type": "execute_result"
    }
   ],
   "source": [
    "ranked_importance\n",
    "\n",
    "\n",
    "#rfe.ranking_"
   ]
  },
  {
   "cell_type": "code",
   "execution_count": 266,
   "metadata": {},
   "outputs": [],
   "source": [
    "from sklearn import linear_model\n",
    "from sklearn.metrics import mean_squared_error, r2_score\n",
    "\n",
    "columns_to_include=[]\n",
    "r2_score_list=[]\n",
    "for number_of_variables in ranked_importance[\"ranking\"]:\n",
    "    if number_of_variables<100:\n",
    "        columns_to_include.append(ranked_importance.loc[number_of_variables,\"variable\"])\n",
    "        X_temp=X_train.loc[:,columns_to_include]\n",
    "\n",
    "        lm = linear_model.LinearRegression()\n",
    "        lm.fit(X_temp, Y_train)\n",
    "        Y_pred=lm.predict(X_test.loc[:,columns_to_include])\n",
    "        mean_squared_error(Y_test,Y_pred)\n",
    "        r2_score_list.append(r2_score(Y_test,Y_pred))\n",
    "    else:\n",
    "        break\n",
    "#------------- Measuring quality of fit -------------------#\n",
    "\n",
    "\n"
   ]
  },
  {
   "cell_type": "code",
   "execution_count": 269,
   "metadata": {},
   "outputs": [
    {
     "data": {
      "text/plain": [
       "[-0.011815661915536735,\n",
       " -0.01141283516549696,\n",
       " -0.020384811690174587,\n",
       " -0.019721224506723756,\n",
       " -0.021193128209350043,\n",
       " -0.02312556493029705,\n",
       " -0.022011449224970336,\n",
       " -0.02268075586832663,\n",
       " -0.022719633852295473,\n",
       " -0.023006575781344463,\n",
       " -0.028139438489210633,\n",
       " -0.027919103902316778,\n",
       " -0.028121280349791222,\n",
       " -0.026140660324463383,\n",
       " -0.026192438223031633,\n",
       " -0.02608589155171326,\n",
       " -0.026064480556824643,\n",
       " -0.02707153453533473,\n",
       " -0.026559066971251655,\n",
       " -0.028777180261132296,\n",
       " -0.028863846937267068,\n",
       " -0.028435631197255562,\n",
       " -0.02736927125729749,\n",
       " -0.027350410443168993,\n",
       " -0.02759424127805743,\n",
       " -0.03003923387042895,\n",
       " -0.029102783395363208,\n",
       " -0.01966389610293051,\n",
       " -0.02087585960024385,\n",
       " -0.0208730170703344,\n",
       " -0.020873009637108364,\n",
       " -0.020872980788784856,\n",
       " -0.02087297305674385,\n",
       " -0.02244684548397924,\n",
       " -0.022188261242425567,\n",
       " -0.033880825196160425,\n",
       " -0.03388079237652675,\n",
       " -0.0283885364565708,\n",
       " -0.02810459175351121,\n",
       " -0.028397805248317365,\n",
       " -0.02865121172514362,\n",
       " -0.028380649246612544,\n",
       " -0.028765602882655283,\n",
       " -0.028452158430497754,\n",
       " -0.02829068501204679,\n",
       " -0.028385290270487307,\n",
       " -0.028509046331250065,\n",
       " -0.028265787474056392,\n",
       " -0.02822791500391264,\n",
       " -0.02851726658795073,\n",
       " -0.02840175160125491,\n",
       " -0.028626830882363175,\n",
       " -0.02849723899229728,\n",
       " -0.028315102014518923,\n",
       " -0.02828286985594608,\n",
       " -0.028269699624876354,\n",
       " -0.028169531962612515,\n",
       " -0.028449448565605495,\n",
       " -0.028542804563752577,\n",
       " -0.028553139277398776,\n",
       " -0.02841083579032988,\n",
       " -0.028359815393999233,\n",
       " -0.02841559955975037,\n",
       " -0.02826823711229709,\n",
       " -0.02839494653409358,\n",
       " -0.02539742215952412,\n",
       " -0.026073829000481386,\n",
       " -0.038757738670749387,\n",
       " -0.03892633210433494,\n",
       " -0.03880291167079575,\n",
       " -0.03904823381995204,\n",
       " -0.03892264662288203,\n",
       " -0.038876826721000235,\n",
       " -0.03906805162882465,\n",
       " -0.0391507336209449,\n",
       " -0.03907935570983545,\n",
       " -0.03907342065999986,\n",
       " -0.03894245292234788,\n",
       " -0.03893705120952662,\n",
       " -0.038832685885983764,\n",
       " -0.031217405905844986,\n",
       " -0.0332947573934983,\n",
       " -0.032380853335556736,\n",
       " -0.03245601498038675,\n",
       " -0.03281705324168893,\n",
       " -0.031406900059597787,\n",
       " -0.031084796680997062,\n",
       " -0.03125132362653682,\n",
       " -0.031500949278244095,\n",
       " -0.03190708947986387,\n",
       " -0.03150252335898873,\n",
       " -0.031360574439051714,\n",
       " -0.0314221065170488,\n",
       " -0.031644491544572384,\n",
       " -0.03140488210677317,\n",
       " -0.03138140528276656,\n",
       " -0.03122477830264203,\n",
       " -0.031049009419032547,\n",
       " -0.03123665299409195]"
      ]
     },
     "execution_count": 269,
     "metadata": {},
     "output_type": "execute_result"
    }
   ],
   "source": [
    "r2_score_list\n"
   ]
  },
  {
   "cell_type": "code",
   "execution_count": 170,
   "metadata": {},
   "outputs": [
    {
     "name": "stdout",
     "output_type": "stream",
     "text": [
      "KFold(n_splits=10, random_state=None, shuffle=False)\n"
     ]
    },
    {
     "data": {
      "text/plain": [
       "KFold(n_splits=10, random_state=None, shuffle=False)"
      ]
     },
     "execution_count": 170,
     "metadata": {},
     "output_type": "execute_result"
    }
   ],
   "source": [
    "#------------ Train Test Split ----------------# \n",
    "\n",
    "from sklearn.model_selection import train_test_split\n",
    "\n",
    "X=data.loc[:,columns_in_raster] # features\n",
    "Y=data.loc[:,data.columns==\"LandCultivated\"] # targets\n",
    "\n",
    "\n",
    "X_train, X_test, Y_train, Y_test=train_test_split(X,Y, test_size=0.2)\n",
    "\n",
    "#------------ K-fold cross validation ----------------# \n",
    "from sklearn.model_selection import KFold # import KFold\n",
    "\n",
    "kf = KFold(n_splits=10) # Define the split - into 2 folds \n",
    "kf.get_n_splits(X) # returns the number of splitting iterations in the cross-validator\n",
    "\n",
    "print(kf) \n",
    "KFold(n_splits=10, random_state=None, shuffle=False)"
   ]
  },
  {
   "cell_type": "code",
   "execution_count": null,
   "metadata": {},
   "outputs": [],
   "source": [
    "from sklearn.metrics import f1_score, make_scorer\n",
    "from sklearn.feature_selection import RFECV\n",
    "from sklearn.ensemble import RandomForestClassifier\n",
    "\n",
    "# Custom scorer for cross validation\n",
    "scorer = make_scorer(f1_score, greater_is_better=True, average = 'macro')\n",
    "\n",
    "# Create a model for feature selection\n",
    "estimator = RandomForestClassifier(n_estimators = 100,  n_jobs = -1)\n",
    "\n",
    "# Create the object\n",
    "selector = RFECV(estimator, step = 1, cv = 3, \n",
    "                 scoring= scorer, n_jobs = -1)\n",
    "\n",
    "# Fit on training data\n",
    "selector.fit(train, train_labels)\n",
    "\n",
    "# Transform data\n",
    "train_selected = selector.transform(train)\n",
    "test_selected = selector.transform(test)\n"
   ]
  },
  {
   "cell_type": "code",
   "execution_count": 86,
   "metadata": {},
   "outputs": [
    {
     "data": {
      "image/png": "[encoded data removed]",
      "text/plain": [
       "<Figure size 432x288 with 1 Axes>"
      ]
     },
     "metadata": {
      "needs_background": "light"
     },
     "output_type": "display_data"
    }
   ],
   "source": [
    "from sklearn import linear_model\n",
    "from sklearn.model_selection import train_test_split\n",
    "from sklearn.metrics import mean_squared_error, r2_score\n",
    "\n",
    "#---------- Prepare data ------------------#\n",
    "X_Y_data=data[[\"raster_level_AEZ\",\"raster_level_infrastructure\", \"raster_level_technological_capital\", \"raster_level_time_to_market_20_k\",\"LandCultivated\"]]\n",
    "X_Y_data=X_Y_data.dropna(axis=0)\n",
    "#----------- Remove Outliers -----------#\n",
    "outliers_index=remove_outliers_with_interquartile_range(X_Y_data[\"LandCultivated\"]).index\n",
    "X_Y_data=X_Y_data.loc[list(outliers_index),:]\n",
    "\n",
    "#----------- Seperating features and target ---------#\n",
    "X=X_Y_data.loc[:,[\"raster_level_AEZ\",\"raster_level_infrastructure\", \"raster_level_technological_capital\", \"raster_level_time_to_market_20_k\"]] # features\n",
    "Y=X_Y_data.loc[:,X_Y_data.columns==\"LandCultivated\"] # targets\n",
    "\n",
    "\n",
    "#------------ Train test split -------------------#\n",
    "X_train, X_test, Y_train, Y_test=train_test_split(X,Y, test_size=0.2)\n",
    "\n",
    "#-------------- Fit model -------------------#\n",
    "lm = linear_model.LinearRegression()\n",
    "lm.fit(X_train, Y_train)\n",
    "Y_pred=lm.predict(X_test)\n",
    "\n",
    "\n",
    "#------------- Measuring quality of fit -------------------#\n",
    "mean_squared_error(Y_test,Y_pred)\n",
    "r2_score(Y_test,Y_pred)\n",
    "#--------------- Plot #----------------\n",
    "fig, ax=plt.subplots()\n",
    "sns.distplot(Y_test, color=\"green\",ax=ax)\n",
    "sns.distplot(Y_pred, color=\"blue\",ax=ax)\n",
    "plt.show()\n",
    "\n",
    "\n"
   ]
  },
  {
   "cell_type": "code",
   "execution_count": null,
   "metadata": {},
   "outputs": [],
   "source": [
    "\n",
    "from sklearn import linear_model\n",
    "from sklearn.model_selection import train_test_split\n",
    "from sklearn.metrics import mean_squared_error, r2_score\n",
    "\n",
    "#---------- Prepare data ------------------#\n",
    "X_Y_data=data[[\"raster_level_AEZ\",\"raster_level_infrastructure\", \"raster_level_technological_capital\", \"raster_level_time_to_market_20_k\",\"LandCultivated\"]]\n",
    "X_Y_data=X_Y_data.dropna(axis=0)\n",
    "#----------- Remove Outliers -----------#\n",
    "outliers_index=remove_outliers_with_interquartile_range(X_Y_data[\"LandCultivated\"]).index\n",
    "X_Y_data=X_Y_data.loc[list(outliers_index),:]\n",
    "\n",
    "#----------- Seperating features and target ---------#\n",
    "X=X_Y_data.loc[:,[\"raster_level_AEZ\",\"raster_level_infrastructure\", \"raster_level_technological_capital\", \"raster_level_time_to_market_20_k\"]] # features\n",
    "Y=X_Y_data.loc[:,X_Y_data.columns==\"LandCultivated\"] # targets\n",
    "\n",
    "\n",
    "#------------ Train test split -------------------#\n",
    "X_train, X_test, Y_train, Y_test=train_test_split(X,Y, test_size=0.2)\n",
    "\n",
    "#-------------- Fit model -------------------#\n",
    "lm = linear_model.LinearRegression()\n",
    "lm.fit(X_train, Y_train)\n",
    "Y_pred=lm.predict(X_test)\n",
    "\n",
    "\n",
    "#------------- Measuring quality of fit -------------------#\n",
    "mean_squared_error(Y_test,Y_pred)\n",
    "r2_score(Y_test,Y_pred)\n",
    "#--------------- Plot #----------------\n",
    "fig, ax=plt.subplots()\n",
    "sns.distplot(Y_test, color=\"green\",ax=ax)\n",
    "sns.distplot(Y_pred, color=\"blue\",ax=ax)\n",
    "plt.show()\n",
    "\n",
    "\n"
   ]
  },
  {
   "cell_type": "code",
   "execution_count": 107,
   "metadata": {},
   "outputs": [
    {
     "data": {
      "text/html": [
       "<div>\n",
       "<style scoped>\n",
       "    .dataframe tbody tr th:only-of-type {\n",
       "        vertical-align: middle;\n",
       "    }\n",
       "\n",
       "    .dataframe tbody tr th {\n",
       "        vertical-align: top;\n",
       "    }\n",
       "\n",
       "    .dataframe thead th {\n",
       "        text-align: right;\n",
       "    }\n",
       "</style>\n",
       "<table border=\"1\" class=\"dataframe\">\n",
       "  <thead>\n",
       "    <tr style=\"text-align: right;\">\n",
       "      <th></th>\n",
       "      <th>covariate</th>\n",
       "      <th>coefficient</th>\n",
       "    </tr>\n",
       "  </thead>\n",
       "  <tbody>\n",
       "    <tr>\n",
       "      <td>0</td>\n",
       "      <td>raster_level_AEZ</td>\n",
       "      <td>-0.072858</td>\n",
       "    </tr>\n",
       "    <tr>\n",
       "      <td>1</td>\n",
       "      <td>raster_level_infrastructure</td>\n",
       "      <td>-0.624199</td>\n",
       "    </tr>\n",
       "    <tr>\n",
       "      <td>2</td>\n",
       "      <td>raster_level_technological_capital</td>\n",
       "      <td>-0.459384</td>\n",
       "    </tr>\n",
       "    <tr>\n",
       "      <td>3</td>\n",
       "      <td>raster_level_time_to_market_20_k</td>\n",
       "      <td>-0.113675</td>\n",
       "    </tr>\n",
       "  </tbody>\n",
       "</table>\n",
       "</div>"
      ],
      "text/plain": [
       "                            covariate  coefficient\n",
       "0                    raster_level_AEZ    -0.072858\n",
       "1         raster_level_infrastructure    -0.624199\n",
       "2  raster_level_technological_capital    -0.459384\n",
       "3    raster_level_time_to_market_20_k    -0.113675"
      ]
     },
     "execution_count": 107,
     "metadata": {},
     "output_type": "execute_result"
    }
   ],
   "source": [
    "covariate=pd.Series(list(X.columns))\n",
    "coefficient=pd.Series(lm.coef_[0])\n",
    "pd.DataFrame({\"covariate\":covariate,\"coefficient\":coefficient})\n",
    "\n"
   ]
  },
  {
   "cell_type": "code",
   "execution_count": 103,
   "metadata": {},
   "outputs": [
    {
     "data": {
      "text/plain": [
       "0   -0.072858\n",
       "1   -0.624199\n",
       "2   -0.459384\n",
       "3   -0.113675\n",
       "dtype: float64"
      ]
     },
     "execution_count": 103,
     "metadata": {},
     "output_type": "execute_result"
    }
   ],
   "source": [
    "coefficient"
   ]
  },
  {
   "cell_type": "code",
   "execution_count": null,
   "metadata": {},
   "outputs": [],
   "source": [
    "import matplotlib.pyplot as plt\n",
    "from sklearn.svm import SVC\n",
    "from sklearn.model_selection import StratifiedKFold\n",
    "from sklearn.feature_selection import RFECV\n",
    "from sklearn.datasets import make_classification\n",
    "\n",
    "# Build a classification task using 3 informative features\n",
    "X, y = make_classification(n_samples=1000, n_features=25, n_informative=3,\n",
    "                           n_redundant=2, n_repeated=0, n_classes=8,\n",
    "                           n_clusters_per_class=1, random_state=0)\n",
    "\n",
    "# Create the RFE object and compute a cross-validated score.\n",
    "svc = SVC(kernel=\"linear\")\n",
    "# The \"accuracy\" scoring is proportional to the number of correct\n",
    "# classifications\n",
    "rfecv = RFECV(estimator=svc, step=1, cv=StratifiedKFold(2),\n",
    "              scoring='accuracy')\n",
    "rfecv.fit(X, y)\n",
    "\n",
    "print(\"Optimal number of features : %d\" % rfecv.n_features_)\n",
    "\n",
    "# Plot number of features VS. cross-validation scores\n",
    "plt.figure()\n",
    "plt.xlabel(\"Number of features selected\")\n",
    "plt.ylabel(\"Cross validation score (nb of correct classifications)\")\n",
    "plt.plot(range(1, len(rfecv.grid_scores_) + 1), rfecv.grid_scores_)\n",
    "plt.show()"
   ]
  }
 ],
 "metadata": {
  "kernelspec": {
   "display_name": "Python 3",
   "language": "python",
   "name": "python3"
  },
  "language_info": {
   "codemirror_mode": {
    "name": "ipython",
    "version": 3
   },
   "file_extension": ".py",
   "mimetype": "text/x-python",
   "name": "python",
   "nbconvert_exporter": "python",
   "pygments_lexer": "ipython3",
   "version": "3.7.4"
  }
 },
 "nbformat": 4,
 "nbformat_minor": 4
}
