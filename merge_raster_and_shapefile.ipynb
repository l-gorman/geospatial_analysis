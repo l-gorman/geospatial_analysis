{
 "cells": [
  {
   "cell_type": "code",
   "execution_count": 1,
   "metadata": {},
   "outputs": [
    {
     "data": {
      "text/plain": [
       "'C:\\\\Users\\\\leogo\\\\OneDrive\\\\Desktop\\\\PhD\\\\Analysis\\\\data\\\\rhomis_data'"
      ]
     },
     "execution_count": 1,
     "metadata": {},
     "output_type": "execute_result"
    }
   ],
   "source": [
    "import os\n",
    "import pandas as pd\n",
    "import math\n",
    "import numpy as np\n",
    "import matplotlib.pyplot as plt\n",
    "import geopandas as gpd\n",
    "#import gdal\n",
    "import geopandas as gpd\n",
    "from shapely.geometry import Point, Polygon, mapping\n",
    "import rasterio\n",
    "import rasterio.plot\n",
    "import rasterio.mask # an important package which allows you to only extract points within your shapefile\n",
    "import rasterstats # gives us raster summaries within a shapefile\n",
    "from rasterstats import zonal_stats # gives us raster summaries within a shapefile\n",
    "\n",
    "#import osmnx as ox # open streetmap package\n",
    "os.getcwd()"
   ]
  },
  {
   "cell_type": "code",
   "execution_count": 3,
   "metadata": {},
   "outputs": [
    {
     "data": {
      "text/plain": [
       "'C:\\\\Users\\\\leogo\\\\OneDrive\\\\Desktop\\\\PhD\\\\Analysis'"
      ]
     },
     "execution_count": 3,
     "metadata": {},
     "output_type": "execute_result"
    }
   ],
   "source": [
    "#os.chdir('../../')\n",
    "os.getcwd()"
   ]
  },
  {
   "cell_type": "code",
   "execution_count": 4,
   "metadata": {},
   "outputs": [],
   "source": [
    "world_grid=gpd.read_file(os.path.join('data', 'shapefiles', 'world_grid_100.0km'))\n",
    "geometry=world_grid.values #contains country name, metadata and"
   ]
  },
  {
   "cell_type": "code",
   "execution_count": 151,
   "metadata": {},
   "outputs": [],
   "source": [
    "#https://gis.stackexchange.com/questions/297076/how-to-calculate-mean-value-of-a-raster-for-each-polygon-in-a-shapefile\n",
    "\n",
    "filepath=os.path.join(\"data\", \"raster\", \"ClimAfr21_education_index\", \"ClimAfr21_education index.tif\")\n",
    "#print the metadata of the tif (rastwer) file\n",
    "with rasterio.open(filepath) as src:\n",
    "    # can check the profile and type of src, but effectively is an open file command\n",
    "    affine = src.transform # transforms the raster dataset into the coordinate reference syste\n",
    "    raster_array=rasterio.open(filepath).read(1) # why is this \"1\" here?\n",
    "    raster_statistics_for_grid = pd.DataFrame(zonal_stats(world_grid, raster_array, affine=affine,nodata=None)) # calculates raster statistics within boundary of shapefile\n",
    "\n",
    "    \n",
    "    \n"
   ]
  },
  {
   "cell_type": "code",
   "execution_count": 152,
   "metadata": {},
   "outputs": [],
   "source": [
    "#no_Na=raster_statistics_for_grid.loc[raster_statistics_for_grid.iloc[:,0]>(0),:]\n",
    "#no_Na.iloc[:,0].plot.hist(bins=20)\n",
    "\n",
    "\n",
    "grid_raster_merge=raster_statistics_for_grid"
   ]
  },
  {
   "cell_type": "code",
   "execution_count": 153,
   "metadata": {},
   "outputs": [
    {
     "data": {
      "text/html": [
       "<div>\n",
       "<style scoped>\n",
       "    .dataframe tbody tr th:only-of-type {\n",
       "        vertical-align: middle;\n",
       "    }\n",
       "\n",
       "    .dataframe tbody tr th {\n",
       "        vertical-align: top;\n",
       "    }\n",
       "\n",
       "    .dataframe thead th {\n",
       "        text-align: right;\n",
       "    }\n",
       "</style>\n",
       "<table border=\"1\" class=\"dataframe\">\n",
       "  <thead>\n",
       "    <tr style=\"text-align: right;\">\n",
       "      <th></th>\n",
       "      <th>min</th>\n",
       "      <th>max</th>\n",
       "      <th>mean</th>\n",
       "      <th>count</th>\n",
       "    </tr>\n",
       "  </thead>\n",
       "  <tbody>\n",
       "    <tr>\n",
       "      <td>0</td>\n",
       "      <td>-3.402823e+38</td>\n",
       "      <td>-3.402823e+38</td>\n",
       "      <td>-3.402823e+38</td>\n",
       "      <td>11664</td>\n",
       "    </tr>\n",
       "    <tr>\n",
       "      <td>1</td>\n",
       "      <td>-3.402823e+38</td>\n",
       "      <td>-3.402823e+38</td>\n",
       "      <td>-3.402823e+38</td>\n",
       "      <td>11664</td>\n",
       "    </tr>\n",
       "    <tr>\n",
       "      <td>2</td>\n",
       "      <td>-3.402823e+38</td>\n",
       "      <td>-3.402823e+38</td>\n",
       "      <td>-3.402823e+38</td>\n",
       "      <td>11664</td>\n",
       "    </tr>\n",
       "    <tr>\n",
       "      <td>3</td>\n",
       "      <td>-3.402823e+38</td>\n",
       "      <td>-3.402823e+38</td>\n",
       "      <td>-3.402823e+38</td>\n",
       "      <td>11664</td>\n",
       "    </tr>\n",
       "    <tr>\n",
       "      <td>4</td>\n",
       "      <td>-3.402823e+38</td>\n",
       "      <td>-3.402823e+38</td>\n",
       "      <td>-3.402823e+38</td>\n",
       "      <td>11664</td>\n",
       "    </tr>\n",
       "    <tr>\n",
       "      <td>...</td>\n",
       "      <td>...</td>\n",
       "      <td>...</td>\n",
       "      <td>...</td>\n",
       "      <td>...</td>\n",
       "    </tr>\n",
       "    <tr>\n",
       "      <td>51239</td>\n",
       "      <td>NaN</td>\n",
       "      <td>NaN</td>\n",
       "      <td>NaN</td>\n",
       "      <td>0</td>\n",
       "    </tr>\n",
       "    <tr>\n",
       "      <td>51240</td>\n",
       "      <td>NaN</td>\n",
       "      <td>NaN</td>\n",
       "      <td>NaN</td>\n",
       "      <td>0</td>\n",
       "    </tr>\n",
       "    <tr>\n",
       "      <td>51241</td>\n",
       "      <td>NaN</td>\n",
       "      <td>NaN</td>\n",
       "      <td>NaN</td>\n",
       "      <td>0</td>\n",
       "    </tr>\n",
       "    <tr>\n",
       "      <td>51242</td>\n",
       "      <td>NaN</td>\n",
       "      <td>NaN</td>\n",
       "      <td>NaN</td>\n",
       "      <td>0</td>\n",
       "    </tr>\n",
       "    <tr>\n",
       "      <td>51243</td>\n",
       "      <td>NaN</td>\n",
       "      <td>NaN</td>\n",
       "      <td>NaN</td>\n",
       "      <td>0</td>\n",
       "    </tr>\n",
       "  </tbody>\n",
       "</table>\n",
       "<p>51244 rows × 4 columns</p>\n",
       "</div>"
      ],
      "text/plain": [
       "                min           max          mean  count\n",
       "0     -3.402823e+38 -3.402823e+38 -3.402823e+38  11664\n",
       "1     -3.402823e+38 -3.402823e+38 -3.402823e+38  11664\n",
       "2     -3.402823e+38 -3.402823e+38 -3.402823e+38  11664\n",
       "3     -3.402823e+38 -3.402823e+38 -3.402823e+38  11664\n",
       "4     -3.402823e+38 -3.402823e+38 -3.402823e+38  11664\n",
       "...             ...           ...           ...    ...\n",
       "51239           NaN           NaN           NaN      0\n",
       "51240           NaN           NaN           NaN      0\n",
       "51241           NaN           NaN           NaN      0\n",
       "51242           NaN           NaN           NaN      0\n",
       "51243           NaN           NaN           NaN      0\n",
       "\n",
       "[51244 rows x 4 columns]"
      ]
     },
     "execution_count": 153,
     "metadata": {},
     "output_type": "execute_result"
    }
   ],
   "source": [
    "#grid_raster_merge.columns=\n",
    "#mapped_value=\"education\"\n",
    "#grid_raster_merge=grid_raster_merge.replace({-9999.0:\"NaN\"})\n",
    "#grid_raster_merge=grid_raster_merge.rename({\"min\":\"min_\"+mapped_value})\n",
    "#grid_raster_merge=grid_raster_merge.rename({\"max\":\"max_\"+mapped_value})\n",
    "#grid_raster_merge=grid_raster_merge.rename({\"mean\":\"mean_\"+mapped_value})\n",
    "#grid_raster_merge=grid_raster_merge.rename({\"count\":\"count_\"+mapped_value})\n",
    "\n",
    "#grid_raster_merge.head()\n",
    "grid_raster_merge"
   ]
  },
  {
   "cell_type": "code",
   "execution_count": 133,
   "metadata": {},
   "outputs": [],
   "source": [
    "def is_float(x):\n",
    "    try: \n",
    "        return(float(x))\n",
    "    except:\n",
    "        return np.nan\n",
    "def replace_negatives_with_na(x): \n",
    "    if x<0:\n",
    "        x=np.nan\n",
    "    return x;\n",
    "def find_all_na_in_raster(dataframe, columns):\n",
    "    dataframe.loc[:,columns]=dataframe.loc[:,columns].applymap(is_float)\n",
    "    dataframe.loc[:,columns]=dataframe.loc[:,columns].applymap(replace_negatives_with_na)\n",
    "    return dataframe;\n",
    "\n",
    "grid_raster_merge=find_all_na_in_raster(dataframe=grid_raster_merge, columns=[\"min\", \"max\", \"mean\"])"
   ]
  },
  {
   "cell_type": "code",
   "execution_count": 135,
   "metadata": {},
   "outputs": [
    {
     "data": {
      "text/plain": [
       "nan"
      ]
     },
     "execution_count": 135,
     "metadata": {},
     "output_type": "execute_result"
    }
   ],
   "source": []
  },
  {
   "cell_type": "code",
   "execution_count": 147,
   "metadata": {},
   "outputs": [],
   "source": [
    "\n",
    "#subsetting_non_na_values=grid_raster_merge.loc[:,\"mean\"]!=\"NaN\"\n",
    "\n",
    "subsetting_non_na_values=grid_raster_merge.loc[:,\"mean\"].notna()\n",
    "subsetting_non_na_values\n",
    "\n",
    "grid_raster_merge=grid_raster_merge.loc[subsetting_non_na_values,:]\n"
   ]
  },
  {
   "cell_type": "code",
   "execution_count": 150,
   "metadata": {},
   "outputs": [
    {
     "data": {
      "text/html": [
       "<div>\n",
       "<style scoped>\n",
       "    .dataframe tbody tr th:only-of-type {\n",
       "        vertical-align: middle;\n",
       "    }\n",
       "\n",
       "    .dataframe tbody tr th {\n",
       "        vertical-align: top;\n",
       "    }\n",
       "\n",
       "    .dataframe thead th {\n",
       "        text-align: right;\n",
       "    }\n",
       "</style>\n",
       "<table border=\"1\" class=\"dataframe\">\n",
       "  <thead>\n",
       "    <tr style=\"text-align: right;\">\n",
       "      <th></th>\n",
       "      <th>min</th>\n",
       "      <th>max</th>\n",
       "      <th>mean</th>\n",
       "      <th>count</th>\n",
       "    </tr>\n",
       "  </thead>\n",
       "  <tbody>\n",
       "    <tr>\n",
       "      <td>85</td>\n",
       "      <td>0.509599</td>\n",
       "      <td>0.509599</td>\n",
       "      <td>0.509599</td>\n",
       "      <td>11664</td>\n",
       "    </tr>\n",
       "    <tr>\n",
       "      <td>89</td>\n",
       "      <td>0.509599</td>\n",
       "      <td>0.509599</td>\n",
       "      <td>0.509599</td>\n",
       "      <td>11664</td>\n",
       "    </tr>\n",
       "    <tr>\n",
       "      <td>91</td>\n",
       "      <td>0.509599</td>\n",
       "      <td>0.509599</td>\n",
       "      <td>0.509599</td>\n",
       "      <td>11664</td>\n",
       "    </tr>\n",
       "    <tr>\n",
       "      <td>93</td>\n",
       "      <td>0.509599</td>\n",
       "      <td>0.509599</td>\n",
       "      <td>0.509599</td>\n",
       "      <td>11664</td>\n",
       "    </tr>\n",
       "    <tr>\n",
       "      <td>95</td>\n",
       "      <td>0.509599</td>\n",
       "      <td>0.509599</td>\n",
       "      <td>0.509599</td>\n",
       "      <td>11664</td>\n",
       "    </tr>\n",
       "    <tr>\n",
       "      <td>...</td>\n",
       "      <td>...</td>\n",
       "      <td>...</td>\n",
       "      <td>...</td>\n",
       "      <td>...</td>\n",
       "    </tr>\n",
       "    <tr>\n",
       "      <td>29481</td>\n",
       "      <td>1.186330</td>\n",
       "      <td>1.272005</td>\n",
       "      <td>1.218896</td>\n",
       "      <td>14256</td>\n",
       "    </tr>\n",
       "    <tr>\n",
       "      <td>29485</td>\n",
       "      <td>1.048108</td>\n",
       "      <td>1.272005</td>\n",
       "      <td>1.236952</td>\n",
       "      <td>14256</td>\n",
       "    </tr>\n",
       "    <tr>\n",
       "      <td>29489</td>\n",
       "      <td>1.048108</td>\n",
       "      <td>1.244029</td>\n",
       "      <td>1.151459</td>\n",
       "      <td>14256</td>\n",
       "    </tr>\n",
       "    <tr>\n",
       "      <td>29497</td>\n",
       "      <td>1.295270</td>\n",
       "      <td>1.295270</td>\n",
       "      <td>1.295270</td>\n",
       "      <td>14256</td>\n",
       "    </tr>\n",
       "    <tr>\n",
       "      <td>30153</td>\n",
       "      <td>1.295270</td>\n",
       "      <td>1.295270</td>\n",
       "      <td>1.295270</td>\n",
       "      <td>14364</td>\n",
       "    </tr>\n",
       "  </tbody>\n",
       "</table>\n",
       "<p>375 rows × 4 columns</p>\n",
       "</div>"
      ],
      "text/plain": [
       "            min       max      mean  count\n",
       "85     0.509599  0.509599  0.509599  11664\n",
       "89     0.509599  0.509599  0.509599  11664\n",
       "91     0.509599  0.509599  0.509599  11664\n",
       "93     0.509599  0.509599  0.509599  11664\n",
       "95     0.509599  0.509599  0.509599  11664\n",
       "...         ...       ...       ...    ...\n",
       "29481  1.186330  1.272005  1.218896  14256\n",
       "29485  1.048108  1.272005  1.236952  14256\n",
       "29489  1.048108  1.244029  1.151459  14256\n",
       "29497  1.295270  1.295270  1.295270  14256\n",
       "30153  1.295270  1.295270  1.295270  14364\n",
       "\n",
       "[375 rows x 4 columns]"
      ]
     },
     "execution_count": 150,
     "metadata": {},
     "output_type": "execute_result"
    }
   ],
   "source": [
    "grid_raster_merge"
   ]
  },
  {
   "cell_type": "code",
   "execution_count": null,
   "metadata": {},
   "outputs": [],
   "source": []
  }
 ],
 "metadata": {
  "kernelspec": {
   "display_name": "Python 3",
   "language": "python",
   "name": "python3"
  },
  "language_info": {
   "codemirror_mode": {
    "name": "ipython",
    "version": 3
   },
   "file_extension": ".py",
   "mimetype": "text/x-python",
   "name": "python",
   "nbconvert_exporter": "python",
   "pygments_lexer": "ipython3",
   "version": "3.7.4"
  }
 },
 "nbformat": 4,
 "nbformat_minor": 4
}
