{
 "cells": [
  {
   "cell_type": "code",
   "execution_count": 1,
   "metadata": {},
   "outputs": [
    {
     "data": {
      "text/plain": [
       "'C:\\\\Users\\\\leogo\\\\OneDrive\\\\Desktop\\\\PhD\\\\Analysis\\\\data\\\\rhomis_data'"
      ]
     },
     "execution_count": 1,
     "metadata": {},
     "output_type": "execute_result"
    }
   ],
   "source": [
    "import os\n",
    "import pandas as pd\n",
    "import math\n",
    "import numpy as np\n",
    "import matplotlib.pyplot as plt\n",
    "import geopandas as gpd\n",
    "#import gdal\n",
    "import geopandas as gpd\n",
    "from shapely.geometry import Point, Polygon, mapping\n",
    "import rasterio\n",
    "import rasterio.plot\n",
    "import rasterio.mask # an important package which allows you to only extract points within your shapefile\n",
    "import rasterstats # gives us raster summaries within a shapefile\n",
    "from rasterstats import zonal_stats # gives us raster summaries within a shapefile\n",
    "\n",
    "\n",
    "\n",
    "#import osmnx as ox # open streetmap package\n",
    "os.getcwd()"
   ]
  },
  {
   "cell_type": "code",
   "execution_count": 2,
   "metadata": {},
   "outputs": [
    {
     "data": {
      "text/plain": [
       "'C:\\\\Users\\\\leogo\\\\OneDrive\\\\Desktop\\\\PhD\\\\Analysis'"
      ]
     },
     "execution_count": 2,
     "metadata": {},
     "output_type": "execute_result"
    }
   ],
   "source": [
    "#os.chdir('../../')\n",
    "os.getcwd()"
   ]
  },
  {
   "cell_type": "code",
   "execution_count": 8,
   "metadata": {},
   "outputs": [],
   "source": [
    "world_grid=gpd.read_file(os.path.join('data', 'shapefiles', 'world_grid_100.0km'))\n",
    "geometry=world_grid.values #contains country name, metadata and"
   ]
  },
  {
   "cell_type": "code",
   "execution_count": 43,
   "metadata": {},
   "outputs": [
    {
     "data": {
      "text/plain": [
       "{'education': 'ClimAfr21_education index\\\\ClimAfr21_education_index.tif',\n",
       " 'technological_capital': 'ClimAfr08_technological capital index\\\\ClimAfr08_technological capital index.tif'}"
      ]
     },
     "execution_count": 43,
     "metadata": {},
     "output_type": "execute_result"
    }
   ],
   "source": [
    "variables_to_look_attach={\"education\":os.path.join(\"ClimAfr21_education index\",\"ClimAfr21_education_index.tif\"),\n",
    "                         \"technological_capital\":os.path.join(\"ClimAfr08_technological capital index\",\"ClimAfr08_technological capital index.tif\")}\n",
    "variables_to_look_attach"
   ]
  },
  {
   "cell_type": "code",
   "execution_count": 11,
   "metadata": {},
   "outputs": [],
   "source": [
    "#https://gis.stackexchange.com/questions/297076/how-to-calculate-mean-value-of-a-raster-for-each-polygon-in-a-shapefile\n",
    "\n",
    "filepath=os.path.join(\"data\", \"raster\", \"ClimAfr21_education_index\", \"ClimAfr21_education index.tif\")\n",
    "#print the metadata of the tif (rastwer) file\n",
    "with rasterio.open(filepath) as src:\n",
    "    # can check the profile and type of src, but effectively is an open file command\n",
    "    affine = src.transform # transforms the raster dataset into the coordinate reference syste\n",
    "    raster_array=rasterio.open(filepath).read(1) # why is this \"1\" here?\n",
    "    raster_statistics_for_grid = pd.DataFrame(zonal_stats(world_grid, raster_array, affine=affine,nodata=None)) # calculates raster statistics within boundary of shapefile\n",
    "    \n",
    "raster_statistics_for_grid=pd.concat([world_grid,raster_statistics_for_grid],axis=1)"
   ]
  },
  {
   "cell_type": "code",
   "execution_count": 38,
   "metadata": {},
   "outputs": [],
   "source": [
    "grid_raster_merge=raster_statistics_for_grid"
   ]
  },
  {
   "cell_type": "code",
   "execution_count": 39,
   "metadata": {},
   "outputs": [
    {
     "data": {
      "text/html": [
       "<div>\n",
       "<style scoped>\n",
       "    .dataframe tbody tr th:only-of-type {\n",
       "        vertical-align: middle;\n",
       "    }\n",
       "\n",
       "    .dataframe tbody tr th {\n",
       "        vertical-align: top;\n",
       "    }\n",
       "\n",
       "    .dataframe thead th {\n",
       "        text-align: right;\n",
       "    }\n",
       "</style>\n",
       "<table border=\"1\" class=\"dataframe\">\n",
       "  <thead>\n",
       "    <tr style=\"text-align: right;\">\n",
       "      <th></th>\n",
       "      <th>FID</th>\n",
       "      <th>geometry</th>\n",
       "      <th>min</th>\n",
       "      <th>max</th>\n",
       "      <th>mean</th>\n",
       "      <th>count</th>\n",
       "    </tr>\n",
       "  </thead>\n",
       "  <tbody>\n",
       "    <tr>\n",
       "      <td>0</td>\n",
       "      <td>0</td>\n",
       "      <td>POLYGON ((0.00000 0.00000, -0.89932 0.00000, -...</td>\n",
       "      <td>NaN</td>\n",
       "      <td>NaN</td>\n",
       "      <td>NaN</td>\n",
       "      <td>11664</td>\n",
       "    </tr>\n",
       "    <tr>\n",
       "      <td>1</td>\n",
       "      <td>1</td>\n",
       "      <td>POLYGON ((0.00000 0.00000, 0.00000 0.89932, 0....</td>\n",
       "      <td>NaN</td>\n",
       "      <td>NaN</td>\n",
       "      <td>NaN</td>\n",
       "      <td>11664</td>\n",
       "    </tr>\n",
       "    <tr>\n",
       "      <td>2</td>\n",
       "      <td>2</td>\n",
       "      <td>POLYGON ((0.00000 0.00000, 0.00000 -0.89932, -...</td>\n",
       "      <td>NaN</td>\n",
       "      <td>NaN</td>\n",
       "      <td>NaN</td>\n",
       "      <td>11664</td>\n",
       "    </tr>\n",
       "    <tr>\n",
       "      <td>3</td>\n",
       "      <td>3</td>\n",
       "      <td>POLYGON ((0.00000 0.00000, 0.89932 0.00000, 0....</td>\n",
       "      <td>NaN</td>\n",
       "      <td>NaN</td>\n",
       "      <td>NaN</td>\n",
       "      <td>11664</td>\n",
       "    </tr>\n",
       "    <tr>\n",
       "      <td>4</td>\n",
       "      <td>4</td>\n",
       "      <td>POLYGON ((-0.89932 0.00000, -1.79864 0.00000, ...</td>\n",
       "      <td>NaN</td>\n",
       "      <td>NaN</td>\n",
       "      <td>NaN</td>\n",
       "      <td>11664</td>\n",
       "    </tr>\n",
       "    <tr>\n",
       "      <td>...</td>\n",
       "      <td>...</td>\n",
       "      <td>...</td>\n",
       "      <td>...</td>\n",
       "      <td>...</td>\n",
       "      <td>...</td>\n",
       "      <td>...</td>\n",
       "    </tr>\n",
       "    <tr>\n",
       "      <td>51239</td>\n",
       "      <td>51239</td>\n",
       "      <td>POLYGON ((170.73853 -82.73759, 177.85264 -82.7...</td>\n",
       "      <td>NaN</td>\n",
       "      <td>NaN</td>\n",
       "      <td>NaN</td>\n",
       "      <td>0</td>\n",
       "    </tr>\n",
       "    <tr>\n",
       "      <td>51240</td>\n",
       "      <td>51240</td>\n",
       "      <td>POLYGON ((-177.85264 82.73759, -180.00000 82.7...</td>\n",
       "      <td>NaN</td>\n",
       "      <td>NaN</td>\n",
       "      <td>NaN</td>\n",
       "      <td>0</td>\n",
       "    </tr>\n",
       "    <tr>\n",
       "      <td>51241</td>\n",
       "      <td>51241</td>\n",
       "      <td>POLYGON ((177.85264 82.73759, 177.85264 83.623...</td>\n",
       "      <td>NaN</td>\n",
       "      <td>NaN</td>\n",
       "      <td>NaN</td>\n",
       "      <td>0</td>\n",
       "    </tr>\n",
       "    <tr>\n",
       "      <td>51242</td>\n",
       "      <td>51242</td>\n",
       "      <td>POLYGON ((-177.85264 -82.73759, -177.85264 -83...</td>\n",
       "      <td>NaN</td>\n",
       "      <td>NaN</td>\n",
       "      <td>NaN</td>\n",
       "      <td>0</td>\n",
       "    </tr>\n",
       "    <tr>\n",
       "      <td>51243</td>\n",
       "      <td>51243</td>\n",
       "      <td>POLYGON ((177.85264 -82.73759, 180.00000 -82.7...</td>\n",
       "      <td>NaN</td>\n",
       "      <td>NaN</td>\n",
       "      <td>NaN</td>\n",
       "      <td>0</td>\n",
       "    </tr>\n",
       "  </tbody>\n",
       "</table>\n",
       "<p>51244 rows × 6 columns</p>\n",
       "</div>"
      ],
      "text/plain": [
       "         FID                                           geometry  min  max  \\\n",
       "0          0  POLYGON ((0.00000 0.00000, -0.89932 0.00000, -...  NaN  NaN   \n",
       "1          1  POLYGON ((0.00000 0.00000, 0.00000 0.89932, 0....  NaN  NaN   \n",
       "2          2  POLYGON ((0.00000 0.00000, 0.00000 -0.89932, -...  NaN  NaN   \n",
       "3          3  POLYGON ((0.00000 0.00000, 0.89932 0.00000, 0....  NaN  NaN   \n",
       "4          4  POLYGON ((-0.89932 0.00000, -1.79864 0.00000, ...  NaN  NaN   \n",
       "...      ...                                                ...  ...  ...   \n",
       "51239  51239  POLYGON ((170.73853 -82.73759, 177.85264 -82.7...  NaN  NaN   \n",
       "51240  51240  POLYGON ((-177.85264 82.73759, -180.00000 82.7...  NaN  NaN   \n",
       "51241  51241  POLYGON ((177.85264 82.73759, 177.85264 83.623...  NaN  NaN   \n",
       "51242  51242  POLYGON ((-177.85264 -82.73759, -177.85264 -83...  NaN  NaN   \n",
       "51243  51243  POLYGON ((177.85264 -82.73759, 180.00000 -82.7...  NaN  NaN   \n",
       "\n",
       "       mean  count  \n",
       "0       NaN  11664  \n",
       "1       NaN  11664  \n",
       "2       NaN  11664  \n",
       "3       NaN  11664  \n",
       "4       NaN  11664  \n",
       "...     ...    ...  \n",
       "51239   NaN      0  \n",
       "51240   NaN      0  \n",
       "51241   NaN      0  \n",
       "51242   NaN      0  \n",
       "51243   NaN      0  \n",
       "\n",
       "[51244 rows x 6 columns]"
      ]
     },
     "execution_count": 39,
     "metadata": {},
     "output_type": "execute_result"
    }
   ],
   "source": [
    "#grid_raster_merge.columns=\n",
    "#mapped_value=\"education\"\n",
    "#grid_raster_merge=grid_raster_merge.replace({-9999.0:\"NaN\"})\n",
    "#grid_raster_merge=grid_raster_merge.rename({\"min\":\"min_\"+mapped_value})\n",
    "#grid_raster_merge=grid_raster_merge.rename({\"max\":\"max_\"+mapped_value})\n",
    "#grid_raster_merge=grid_raster_merge.rename({\"mean\":\"mean_\"+mapped_value})\n",
    "#grid_raster_merge=grid_raster_merge.rename({\"count\":\"count_\"+mapped_value})\n",
    "\n",
    "#grid_raster_merge.head()\n",
    "grid_raster_merge"
   ]
  },
  {
   "cell_type": "code",
   "execution_count": 40,
   "metadata": {},
   "outputs": [],
   "source": [
    "def is_float(x):\n",
    "    try: \n",
    "        return(float(x))\n",
    "    except:\n",
    "        return np.nan\n",
    "def replace_negatives_with_na(x): \n",
    "    if x<0:\n",
    "        x=np.nan\n",
    "    return x;\n",
    "def find_all_na_in_raster(dataframe, columns):\n",
    "    dataframe.loc[:,columns]=dataframe.loc[:,columns].applymap(is_float)\n",
    "    #dataframe.loc[:,columns]=dataframe.loc[:,columns].applymap(replace_negatives_with_na)\n",
    "    return dataframe;\n",
    "\n",
    "grid_raster_merge=find_all_na_in_raster(dataframe=grid_raster_merge, columns=[\"min\", \"max\", \"mean\"])"
   ]
  },
  {
   "cell_type": "code",
   "execution_count": 41,
   "metadata": {},
   "outputs": [
    {
     "data": {
      "text/html": [
       "<div>\n",
       "<style scoped>\n",
       "    .dataframe tbody tr th:only-of-type {\n",
       "        vertical-align: middle;\n",
       "    }\n",
       "\n",
       "    .dataframe tbody tr th {\n",
       "        vertical-align: top;\n",
       "    }\n",
       "\n",
       "    .dataframe thead th {\n",
       "        text-align: right;\n",
       "    }\n",
       "</style>\n",
       "<table border=\"1\" class=\"dataframe\">\n",
       "  <thead>\n",
       "    <tr style=\"text-align: right;\">\n",
       "      <th></th>\n",
       "      <th>FID</th>\n",
       "      <th>geometry</th>\n",
       "      <th>min</th>\n",
       "      <th>max</th>\n",
       "      <th>mean_education</th>\n",
       "      <th>count</th>\n",
       "    </tr>\n",
       "  </thead>\n",
       "  <tbody>\n",
       "    <tr>\n",
       "      <td>0</td>\n",
       "      <td>0</td>\n",
       "      <td>POLYGON ((0.00000 0.00000, -0.89932 0.00000, -...</td>\n",
       "      <td>NaN</td>\n",
       "      <td>NaN</td>\n",
       "      <td>NaN</td>\n",
       "      <td>11664</td>\n",
       "    </tr>\n",
       "    <tr>\n",
       "      <td>1</td>\n",
       "      <td>1</td>\n",
       "      <td>POLYGON ((0.00000 0.00000, 0.00000 0.89932, 0....</td>\n",
       "      <td>NaN</td>\n",
       "      <td>NaN</td>\n",
       "      <td>NaN</td>\n",
       "      <td>11664</td>\n",
       "    </tr>\n",
       "    <tr>\n",
       "      <td>2</td>\n",
       "      <td>2</td>\n",
       "      <td>POLYGON ((0.00000 0.00000, 0.00000 -0.89932, -...</td>\n",
       "      <td>NaN</td>\n",
       "      <td>NaN</td>\n",
       "      <td>NaN</td>\n",
       "      <td>11664</td>\n",
       "    </tr>\n",
       "    <tr>\n",
       "      <td>3</td>\n",
       "      <td>3</td>\n",
       "      <td>POLYGON ((0.00000 0.00000, 0.89932 0.00000, 0....</td>\n",
       "      <td>NaN</td>\n",
       "      <td>NaN</td>\n",
       "      <td>NaN</td>\n",
       "      <td>11664</td>\n",
       "    </tr>\n",
       "    <tr>\n",
       "      <td>4</td>\n",
       "      <td>4</td>\n",
       "      <td>POLYGON ((-0.89932 0.00000, -1.79864 0.00000, ...</td>\n",
       "      <td>NaN</td>\n",
       "      <td>NaN</td>\n",
       "      <td>NaN</td>\n",
       "      <td>11664</td>\n",
       "    </tr>\n",
       "    <tr>\n",
       "      <td>...</td>\n",
       "      <td>...</td>\n",
       "      <td>...</td>\n",
       "      <td>...</td>\n",
       "      <td>...</td>\n",
       "      <td>...</td>\n",
       "      <td>...</td>\n",
       "    </tr>\n",
       "    <tr>\n",
       "      <td>51239</td>\n",
       "      <td>51239</td>\n",
       "      <td>POLYGON ((170.73853 -82.73759, 177.85264 -82.7...</td>\n",
       "      <td>NaN</td>\n",
       "      <td>NaN</td>\n",
       "      <td>NaN</td>\n",
       "      <td>0</td>\n",
       "    </tr>\n",
       "    <tr>\n",
       "      <td>51240</td>\n",
       "      <td>51240</td>\n",
       "      <td>POLYGON ((-177.85264 82.73759, -180.00000 82.7...</td>\n",
       "      <td>NaN</td>\n",
       "      <td>NaN</td>\n",
       "      <td>NaN</td>\n",
       "      <td>0</td>\n",
       "    </tr>\n",
       "    <tr>\n",
       "      <td>51241</td>\n",
       "      <td>51241</td>\n",
       "      <td>POLYGON ((177.85264 82.73759, 177.85264 83.623...</td>\n",
       "      <td>NaN</td>\n",
       "      <td>NaN</td>\n",
       "      <td>NaN</td>\n",
       "      <td>0</td>\n",
       "    </tr>\n",
       "    <tr>\n",
       "      <td>51242</td>\n",
       "      <td>51242</td>\n",
       "      <td>POLYGON ((-177.85264 -82.73759, -177.85264 -83...</td>\n",
       "      <td>NaN</td>\n",
       "      <td>NaN</td>\n",
       "      <td>NaN</td>\n",
       "      <td>0</td>\n",
       "    </tr>\n",
       "    <tr>\n",
       "      <td>51243</td>\n",
       "      <td>51243</td>\n",
       "      <td>POLYGON ((177.85264 -82.73759, 180.00000 -82.7...</td>\n",
       "      <td>NaN</td>\n",
       "      <td>NaN</td>\n",
       "      <td>NaN</td>\n",
       "      <td>0</td>\n",
       "    </tr>\n",
       "  </tbody>\n",
       "</table>\n",
       "<p>51244 rows × 6 columns</p>\n",
       "</div>"
      ],
      "text/plain": [
       "         FID                                           geometry  min  max  \\\n",
       "0          0  POLYGON ((0.00000 0.00000, -0.89932 0.00000, -...  NaN  NaN   \n",
       "1          1  POLYGON ((0.00000 0.00000, 0.00000 0.89932, 0....  NaN  NaN   \n",
       "2          2  POLYGON ((0.00000 0.00000, 0.00000 -0.89932, -...  NaN  NaN   \n",
       "3          3  POLYGON ((0.00000 0.00000, 0.89932 0.00000, 0....  NaN  NaN   \n",
       "4          4  POLYGON ((-0.89932 0.00000, -1.79864 0.00000, ...  NaN  NaN   \n",
       "...      ...                                                ...  ...  ...   \n",
       "51239  51239  POLYGON ((170.73853 -82.73759, 177.85264 -82.7...  NaN  NaN   \n",
       "51240  51240  POLYGON ((-177.85264 82.73759, -180.00000 82.7...  NaN  NaN   \n",
       "51241  51241  POLYGON ((177.85264 82.73759, 177.85264 83.623...  NaN  NaN   \n",
       "51242  51242  POLYGON ((-177.85264 -82.73759, -177.85264 -83...  NaN  NaN   \n",
       "51243  51243  POLYGON ((177.85264 -82.73759, 180.00000 -82.7...  NaN  NaN   \n",
       "\n",
       "       mean_education  count  \n",
       "0                 NaN  11664  \n",
       "1                 NaN  11664  \n",
       "2                 NaN  11664  \n",
       "3                 NaN  11664  \n",
       "4                 NaN  11664  \n",
       "...               ...    ...  \n",
       "51239             NaN      0  \n",
       "51240             NaN      0  \n",
       "51241             NaN      0  \n",
       "51242             NaN      0  \n",
       "51243             NaN      0  \n",
       "\n",
       "[51244 rows x 6 columns]"
      ]
     },
     "execution_count": 41,
     "metadata": {},
     "output_type": "execute_result"
    }
   ],
   "source": [
    "grid_raster_merge=grid_raster_merge.drop([\"min\",\"max\",\"count\"],axis=1)\n",
    "data_type=\"education\"\n",
    "grid_raster_merge.columns=[column_name.replace(\"mean\",\"mean_\"+data_type) for column_name in grid_raster_merge.columns]"
   ]
  },
  {
   "cell_type": "code",
   "execution_count": 21,
   "metadata": {},
   "outputs": [],
   "source": [
    "\n",
    "#subsetting_non_na_values=grid_raster_merge.loc[:,\"mean\"]!=\"NaN\"\n",
    "\n",
    "subsetting_non_na_values=grid_raster_merge.loc[:,\"mean\"].notna()\n",
    "subsetting_non_na_values\n",
    "\n",
    "grid_raster_merge=grid_raster_merge.loc[subsetting_non_na_values,:]\n"
   ]
  },
  {
   "cell_type": "code",
   "execution_count": 22,
   "metadata": {},
   "outputs": [
    {
     "data": {
      "text/plain": [
       "<matplotlib.axes._subplots.AxesSubplot at 0x2c73e448788>"
      ]
     },
     "execution_count": 22,
     "metadata": {},
     "output_type": "execute_result"
    },
    {
     "data": {
      "image/png": "[encoded data removed]",
      "text/plain": [
       "<Figure size 432x288 with 1 Axes>"
      ]
     },
     "metadata": {
      "needs_background": "light"
     },
     "output_type": "display_data"
    }
   ],
   "source": [
    "grid_raster_merge.plot()"
   ]
  },
  {
   "cell_type": "code",
   "execution_count": null,
   "metadata": {},
   "outputs": [],
   "source": []
  }
 ],
 "metadata": {
  "kernelspec": {
   "display_name": "Python 3",
   "language": "python",
   "name": "python3"
  },
  "language_info": {
   "codemirror_mode": {
    "name": "ipython",
    "version": 3
   },
   "file_extension": ".py",
   "mimetype": "text/x-python",
   "name": "python",
   "nbconvert_exporter": "python",
   "pygments_lexer": "ipython3",
   "version": "3.7.4"
  }
 },
 "nbformat": 4,
 "nbformat_minor": 4
}
