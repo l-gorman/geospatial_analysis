{
 "cells": [
  {
   "cell_type": "code",
   "execution_count": 25,
   "metadata": {},
   "outputs": [
    {
     "data": {
      "text/plain": [
       "'C:\\\\Users\\\\leogo\\\\OneDrive\\\\Desktop\\\\PhD\\\\Analysis'"
      ]
     },
     "execution_count": 25,
     "metadata": {},
     "output_type": "execute_result"
    }
   ],
   "source": [
    "import os\n",
    "import pandas as pd\n",
    "import math\n",
    "import numpy as np\n",
    "import matplotlib.pyplot as plt\n",
    "import geopandas as gpd\n",
    "#import gdal\n",
    "import geopandas as gpd\n",
    "from shapely.geometry import Point, Polygon, mapping\n",
    "import rasterio\n",
    "import rasterio.plot\n",
    "import rasterio.mask # an important package which allows you to only extract points within your shapefile\n",
    "import rasterstats # gives us raster summaries within a shapefile\n",
    "from rasterstats import zonal_stats # gives us raster summaries within a shapefile\n",
    "\n",
    "\n",
    "\n",
    "#import osmnx as ox # open streetmap package\n",
    "os.getcwd()"
   ]
  },
  {
   "cell_type": "code",
   "execution_count": 26,
   "metadata": {},
   "outputs": [
    {
     "data": {
      "text/plain": [
       "'C:\\\\Users\\\\leogo\\\\OneDrive\\\\Desktop\\\\PhD\\\\Analysis'"
      ]
     },
     "execution_count": 26,
     "metadata": {},
     "output_type": "execute_result"
    }
   ],
   "source": [
    "#os.chdir('../../')\n",
    "#os.chdir('../')\n",
    "\n",
    "os.getcwd()"
   ]
  },
  {
   "cell_type": "code",
   "execution_count": 27,
   "metadata": {},
   "outputs": [],
   "source": [
    "world_grid=gpd.read_file(os.path.join('data', 'shapefiles', 'world_grid_100.0km'))\n",
    "geometry=world_grid.values #contains country name, metadata and"
   ]
  },
  {
   "cell_type": "code",
   "execution_count": 28,
   "metadata": {},
   "outputs": [
    {
     "data": {
      "text/plain": [
       "{'education': 'ClimAfr21_education index\\\\ClimAfr21_education_index.tif',\n",
       " 'technological_capital': 'ClimAfr08_technological capital index\\\\ClimAfr08_technological capital index.tif'}"
      ]
     },
     "execution_count": 28,
     "metadata": {},
     "output_type": "execute_result"
    }
   ],
   "source": [
    "variables_to_look_attach={\"education\":os.path.join(\"ClimAfr21_education index\",\"ClimAfr21_education_index.tif\"),\n",
    "                         \"technological_capital\":os.path.join(\"ClimAfr08_technological capital index\",\"ClimAfr08_technological capital index.tif\")}\n",
    "variables_to_look_attach"
   ]
  },
  {
   "cell_type": "code",
   "execution_count": 29,
   "metadata": {},
   "outputs": [
    {
     "name": "stderr",
     "output_type": "stream",
     "text": [
      "C:\\Users\\leogo\\Anaconda3\\lib\\site-packages\\rasterstats\\io.py:301: UserWarning: Setting nodata to -999; specify nodata explicitly\n",
      "  warnings.warn(\"Setting nodata to -999; specify nodata explicitly\")\n"
     ]
    }
   ],
   "source": [
    "#https://gis.stackexchange.com/questions/297076/how-to-calculate-mean-value-of-a-raster-for-each-polygon-in-a-shapefile\n",
    "\n",
    "filepath=os.path.join(\"data\", \"raster\", \"ClimAfr21_education_index\", \"ClimAfr21_education index.tif\")\n",
    "#print the metadata of the tif (raster) file\n",
    "\n",
    "\n",
    "with rasterio.open(filepath) as src:\n",
    "    # can check the profile and type of src, but effectively is an open file command\n",
    "    affine = src.transform # transforms the raster dataset into the coordinate reference system\n",
    "    raster_array=rasterio.open(filepath).read(1) # why is this \"1\" here?\n",
    "    #raster_array=find_and_replace_all_na_pixels(raster_array)\n",
    "    \n",
    "    raster_array[raster_array<-3.4e+38]=np.nan\n",
    "    raster_statistics_for_grid = pd.DataFrame(zonal_stats(world_grid,raster_array ,affine=affine,stats=[ 'mean', 'median', 'std'])) # calculates raster statistics within boundary of shapefile\n",
    "    \n",
    "raster_statistics_for_grid=pd.concat([world_grid,raster_statistics_for_grid],axis=1)\n",
    "\n",
    "#plt.imshow(raster_array) #view the raster image"
   ]
  },
  {
   "cell_type": "code",
   "execution_count": 30,
   "metadata": {},
   "outputs": [],
   "source": [
    "grid_raster_merge=raster_statistics_for_grid"
   ]
  },
  {
   "cell_type": "code",
   "execution_count": 31,
   "metadata": {},
   "outputs": [],
   "source": [
    "#grid_raster_merge=grid_raster_merge.drop([\"min\",\"max\",\"count\"],axis=1)\n",
    "data_type=\"education\"\n",
    "grid_raster_merge.columns=[column_name.replace(\"mean\",\"mean_\"+data_type) for column_name in grid_raster_merge.columns]\n",
    "grid_raster_merge.columns=[column_name.replace(\"median\",\"median_\"+data_type) for column_name in grid_raster_merge.columns]\n",
    "grid_raster_merge.columns=[column_name.replace(\"std\",\"std_\"+data_type) for column_name in grid_raster_merge.columns]"
   ]
  },
  {
   "cell_type": "code",
   "execution_count": 32,
   "metadata": {},
   "outputs": [],
   "source": [
    "subsetting_non_na_values=grid_raster_merge.loc[:,\"mean_\"+data_type].notna()\n",
    "subsetting_non_na_values\n",
    "grid_raster_merge=grid_raster_merge.loc[subsetting_non_na_values,:]"
   ]
  },
  {
   "cell_type": "code",
   "execution_count": 33,
   "metadata": {},
   "outputs": [
    {
     "data": {
      "text/plain": [
       "<matplotlib.axes._subplots.AxesSubplot at 0x210e22b0a48>"
      ]
     },
     "execution_count": 33,
     "metadata": {},
     "output_type": "execute_result"
    },
    {
     "data": {
      "image/png": "[encoded data removed]",
      "text/plain": [
       "<Figure size 432x288 with 1 Axes>"
      ]
     },
     "metadata": {
      "needs_background": "light"
     },
     "output_type": "display_data"
    }
   ],
   "source": [
    "grid_raster_merge.plot()"
   ]
  },
  {
   "cell_type": "code",
   "execution_count": null,
   "metadata": {},
   "outputs": [],
   "source": []
  }
 ],
 "metadata": {
  "kernelspec": {
   "display_name": "Python 3",
   "language": "python",
   "name": "python3"
  },
  "language_info": {
   "codemirror_mode": {
    "name": "ipython",
    "version": 3
   },
   "file_extension": ".py",
   "mimetype": "text/x-python",
   "name": "python",
   "nbconvert_exporter": "python",
   "pygments_lexer": "ipython3",
   "version": "3.7.4"
  }
 },
 "nbformat": 4,
 "nbformat_minor": 4
}
