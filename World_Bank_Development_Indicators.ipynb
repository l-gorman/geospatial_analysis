{
 "cells": [
  {
   "cell_type": "code",
   "execution_count": 3,
   "metadata": {},
   "outputs": [],
   "source": [
    "import pandas as pd \n",
    "import numpy as np\n",
    "import matplotlib.pyplot as plt\n",
    "%matplotlib inline\n",
    "import sklearn\n",
    "import seaborn as sns\n",
    "import os\n",
    "import re"
   ]
  },
  {
   "cell_type": "code",
   "execution_count": 5,
   "metadata": {},
   "outputs": [
    {
     "data": {
      "text/plain": [
       "'C:\\\\Users\\\\lgorman\\\\OneDrive\\\\Desktop\\\\PhD\\\\Analysis'"
      ]
     },
     "execution_count": 5,
     "metadata": {},
     "output_type": "execute_result"
    }
   ],
   "source": [
    "#os.chdir('../')\n",
    "#os.chdir('Analysis')\n",
    "\n",
    "os.getcwd()"
   ]
  },
  {
   "cell_type": "code",
   "execution_count": 11,
   "metadata": {},
   "outputs": [],
   "source": [
    "data=pd.read_csv(os.path.join('data',\"processed\",\"point_data_with_raster_values.csv\")) # at this point we only preserve the grid geometry. Will need to add point geometry when reading the file back in again (same with country boundaries)  \n"
   ]
  },
  {
   "cell_type": "code",
   "execution_count": 12,
   "metadata": {},
   "outputs": [],
   "source": [
    "world_bank_development_indicators=pd.read_csv(os.path.join(\"data\",\"world_development_indicators\",\"WDIData.csv\"), low_memory=False)\n",
    "world_bank_development_indicators_metadata=pd.read_csv(os.path.join(\"data\",\"world_development_indicators\",\"WDICountry.csv\"), low_memory=False)"
   ]
  },
  {
   "cell_type": "code",
   "execution_count": 13,
   "metadata": {},
   "outputs": [],
   "source": [
    "all_world_bank_countrys=world_bank_development_indicators_metadata[\"Country Code\"]"
   ]
  },
  {
   "cell_type": "code",
   "execution_count": null,
   "metadata": {},
   "outputs": [],
   "source": []
  },
  {
   "cell_type": "code",
   "execution_count": 14,
   "metadata": {},
   "outputs": [],
   "source": [
    "# Three letter country code from RHoMIS\n",
    "data[\"Three_Letter_Country_Code\"]=\"NaN\"\n",
    "for row in data.index:\n",
    "    world_bank_row_with_rhomis_two_letter_code=world_bank_development_indicators_metadata[\"2-alpha code\"]==data.loc[row,\"ID_COUNTRY\"]\n",
    "    data.loc[row,\"Three_Letter_Country_Code\"]=world_bank_development_indicators_metadata.loc[world_bank_row_with_rhomis_two_letter_code,\"Country Code\"].to_list()[0] #need the to list object to extract the object"
   ]
  },
  {
   "cell_type": "code",
   "execution_count": 15,
   "metadata": {},
   "outputs": [],
   "source": [
    "# subsetting world bank indicators only for rhomis data countries\n",
    "world_bank_development_indicators=world_bank_development_indicators.loc[world_bank_development_indicators[\"Country Code\"].isin(data[\"Three_Letter_Country_Code\"].unique()),:]"
   ]
  },
  {
   "cell_type": "code",
   "execution_count": 16,
   "metadata": {},
   "outputs": [],
   "source": [
    "all_indicators=world_bank_development_indicators[\"Indicator Code\"].unique()\n",
    "all_indicators=[\"COUNTRY_LEVEL_\"+indicator for indicator in all_indicators]\n",
    "empty_matrix=np.zeros((data.shape[0],len(all_indicators)))\n",
    "country_level_indicators=pd.DataFrame(empty_matrix, columns=all_indicators)\n",
    "data_with_country_level_indicators=pd.concat([data,country_level_indicators],axis=1)"
   ]
  },
  {
   "cell_type": "code",
   "execution_count": 17,
   "metadata": {},
   "outputs": [
    {
     "data": {
      "text/plain": [
       "Index(['ID_PROJ', 'ID_COUNTRY', 'YEAR', 'ITERATION', 'SURVEY_ID', 'ID_HH',\n",
       "       'GPS_LAT', 'GPS_LON', 'GPS_ALT', 'Country',\n",
       "       ...\n",
       "       'COUNTRY_LEVEL_SG.DMK.ALLD.FN.ZS', 'COUNTRY_LEVEL_SG.VAW.REAS.ZS',\n",
       "       'COUNTRY_LEVEL_SG.VAW.ARGU.ZS', 'COUNTRY_LEVEL_SG.VAW.BURN.ZS',\n",
       "       'COUNTRY_LEVEL_SG.VAW.GOES.ZS', 'COUNTRY_LEVEL_SG.VAW.NEGL.ZS',\n",
       "       'COUNTRY_LEVEL_SG.VAW.REFU.ZS', 'COUNTRY_LEVEL_SP.M15.2024.FE.ZS',\n",
       "       'COUNTRY_LEVEL_SP.M18.2024.FE.ZS', 'COUNTRY_LEVEL_SH.DYN.AIDS.FE.ZS'],\n",
       "      dtype='object', length=1505)"
      ]
     },
     "execution_count": 17,
     "metadata": {},
     "output_type": "execute_result"
    }
   ],
   "source": [
    "data_with_country_level_indicators=data_with_country_level_indicators.drop(columns=\"Unnamed: 0\")\n",
    "data_with_country_level_indicators.columns\n"
   ]
  },
  {
   "cell_type": "code",
   "execution_count": null,
   "metadata": {},
   "outputs": [],
   "source": [
    "\n",
    "    "
   ]
  },
  {
   "cell_type": "code",
   "execution_count": 48,
   "metadata": {},
   "outputs": [
    {
     "name": "stdout",
     "output_type": "stream",
     "text": [
      "KEN2016\n",
      "KEN2017\n",
      "KEN2018\n",
      "KEN2019\n",
      "TZA2016\n",
      "TZA2017\n",
      "TZA2018\n",
      "TZA2019\n",
      "COD2016\n",
      "COD2017\n",
      "COD2018\n",
      "COD2019\n",
      "ZMB2016\n",
      "ZMB2017\n",
      "ZMB2018\n",
      "ZMB2019\n",
      "ETH2016\n",
      "ETH2017\n",
      "ETH2018\n",
      "ETH2019\n",
      "GHA2016\n",
      "GHA2017\n",
      "GHA2018\n",
      "GHA2019\n",
      "MLI2016\n",
      "MLI2017\n",
      "MLI2018\n",
      "MLI2019\n",
      "UGA2016\n",
      "UGA2017\n",
      "UGA2018\n",
      "UGA2019\n",
      "BDI2016\n",
      "BDI2017\n",
      "BDI2018\n",
      "BDI2019\n",
      "BFA2016\n",
      "BFA2017\n",
      "BFA2018\n",
      "BFA2019\n",
      "RWA2016\n",
      "RWA2017\n",
      "RWA2018\n",
      "RWA2019\n"
     ]
    }
   ],
   "source": [
    "def isNaN(num):\n",
    "    return num != num\n",
    "\n",
    "#---------------------Creating empty data frame of world bank indicators ------------------------#\n",
    "test_string=\"COUNTRY_LEVEL_SG.DMK.ALLD.FN.ZS\"\n",
    "test_pattern='COUNTRY_LEVEL_'\n",
    "\n",
    "\n",
    "pattern_for_country_level_variables='COUNTRY_LEVEL_'\n",
    "all_indicators=world_bank_development_indicators[\"Indicator Code\"].unique()\n",
    "all_indicators=[\"COUNTRY_LEVEL_\"+indicator for indicator in all_indicators]\n",
    "empty_matrix=np.empty((len(data[\"YEAR\"].unique())*len(data[\"Three_Letter_Country_Code\"].unique()),(2+len(all_indicators))))\n",
    "empty_matrix[:]=np.nan #filling the array with nan values to populate\n",
    "column_names=[\"Three_Letter_Country_Code\", \"YEAR\"]\n",
    "[column_names.append(indicator) for indicator in all_indicators]\n",
    "country_level_indicators=pd.DataFrame(empty_matrix, columns=column_names)\n",
    "unique_countries=pd.Series(data[\"Three_Letter_Country_Code\"].unique())\n",
    "unique_year=pd.Series(data[\"YEAR\"].unique())\n",
    "\n",
    "#-------------------Filling data frame with potential year and country values -------------------#\n",
    "for country_index in unique_countries.index:\n",
    "    for year_index in unique_year.index:\n",
    "        row_number_in_new= year_index+country_index*len(unique_year)\n",
    "        country_level_indicators.loc[row_number_in_new,\"Three_Letter_Country_Code\"]=unique_countries[country_index]\n",
    "        country_level_indicators.loc[row_number_in_new,\"YEAR\"]=int(unique_year[year_index])\n",
    "\n",
    "#-------------------Filling data frame with potential year and country values -------------------#\n",
    "\n",
    "for country in country_level_indicators[\"Three_Letter_Country_Code\"].unique():\n",
    "    #indicator_temp=world_bank_development_indicators.loc[world_bank_development_indicators[\"Country Code\"]==country_temp,:]\n",
    "    for year in country_level_indicators[\"YEAR\"].unique():\n",
    "        print (str(country)+str(int(year)))\n",
    "        for column in all_indicators:\n",
    "            if re.search(pattern_for_country_level_variables,column) is not None:\n",
    "                temp_indicator=column.replace(test_pattern,'')\n",
    "                subset1=country_level_indicators[\"Three_Letter_Country_Code\"]==country \n",
    "                subset2=country_level_indicators[\"YEAR\"]==year\n",
    "                subset_world_bank_by_indicator=world_bank_development_indicators[\"Indicator Code\"]==temp_indicator\n",
    "                subset_world_bank_by_country=world_bank_development_indicators[\"Country Code\"]==country\n",
    "                \n",
    "                year_temp=int(year)\n",
    "                indicator_value_temp=float(world_bank_development_indicators.loc[subset_world_bank_by_indicator & subset_world_bank_by_country==True, str(int(year_temp))])\n",
    "                if isNaN(indicator_value_temp)==False:\n",
    "                    country_level_indicators.loc[subset1 & subset2==True,country_level_indicators.columns==column]=indicator_value_temp\n",
    "                else:\n",
    "                    while (isNaN(indicator_value_temp)==True):\n",
    "                        year_temp=year_temp-1\n",
    "                        if year_temp>2010: \n",
    "                            indicator_value_temp=float(world_bank_development_indicators.loc[subset_world_bank_by_indicator & subset_world_bank_by_country==True, str(int(year_temp))])\n",
    "                            country_level_indicators.loc[subset1 & subset2==True,country_level_indicators.columns==column]=indicator_value_temp\n",
    "                        else:\n",
    "                            break"
   ]
  },
  {
   "cell_type": "raw",
   "metadata": {},
   "source": [
    "#--------------------------------Testing ------------------------------------------\n",
    "\n",
    "test_pattern=\"COUNTRY_LEVEL_\"\n",
    "column=\"COUNTRY_LEVEL_EG.ELC.ACCS.ZS\"\n",
    "country=\"KEN\"\n",
    "year=2018.0\n",
    "\n",
    "\n",
    "temp_indicator=column.replace(test_pattern,'')\n",
    "subset1=country_level_indicators[\"Three_Letter_Country_Code\"]==country \n",
    "subset2=country_level_indicators[\"YEAR\"]==year\n",
    "subset_world_bank_by_indicator=world_bank_development_indicators[\"Indicator Code\"]==temp_indicator\n",
    "subset_world_bank_by_country=world_bank_development_indicators[\"Country Code\"]==country\n",
    "\n",
    "year_temp=int(year)\n",
    "indicator_value_temp=float(world_bank_development_indicators.loc[subset_world_bank_by_indicator & subset_world_bank_by_country==True, str(int(year_temp))])\n",
    "indicator_value_temp\n",
    "\n",
    "if isNaN(indicator_value_temp)==False:\n",
    "    country_level_indicators.loc[subset1 & subset2==True,country_level_indicators.columns==column]=indicator_value_temp\n",
    "else:\n",
    "    while (isNaN(indicator_value_temp)==True & year_temp>2014):\n",
    "        year_temp=year_temp-1\n",
    "        indicator_value_temp=float(world_bank_development_indicators.loc[subset_world_bank_by_indicator & subset_world_bank_by_country==True, str(int(year_temp))])\n",
    "        country_level_indicators.loc[subset1 & subset2==True,country_level_indicators.columns==column]=indicator_value_temp\n",
    "        print(indicator_value_temp)\n",
    "\n",
    "indicator_value_temp\n",
    "country_level_indicators.loc[subset1 & subset2==True,country_level_indicators.columns==column]=indicator_value_temp\n",
    "country_level_indicators.loc[subset1 & subset2==True,country_level_indicators.columns==column]"
   ]
  },
  {
   "cell_type": "code",
   "execution_count": 49,
   "metadata": {},
   "outputs": [
    {
     "data": {
      "text/plain": [
       "(44, 1431)"
      ]
     },
     "execution_count": 49,
     "metadata": {},
     "output_type": "execute_result"
    }
   ],
   "source": []
  },
  {
   "cell_type": "code",
   "execution_count": 67,
   "metadata": {},
   "outputs": [],
   "source": [
    "NA_indicators=pd.DataFrame(country_level_indicators.isna().any(axis=0)==False)\n",
    "NA_indicators.columns=[\"No_Nas_in_Column\"]\n",
    "NA_indicators=list(NA_indicators[NA_indicators[\"No_Nas_in_Column\"]==True].index)\n",
    "\n",
    "\n",
    "country_level_indicators=country_level_indicators.loc[:,NA_indicators]\n",
    "#country_level_indicators.loc[:,country_level_indicators.notna().any(axis=1)]\n",
    "#[column for column in NA_indicators.columns]\n",
    "#country_level_indicators.notna().any(axis=1)\n"
   ]
  },
  {
   "cell_type": "code",
   "execution_count": 68,
   "metadata": {},
   "outputs": [],
   "source": [
    "data[\"country_year\"]=data[\"Three_Letter_Country_Code\"]+\"_\"+data[\"YEAR\"].astype(str)\n",
    "\n",
    "country_level_indicators[\"country_year\"]=country_level_indicators[\"Three_Letter_Country_Code\"]+\"_\"+country_level_indicators[\"YEAR\"].astype(int).astype(str)"
   ]
  },
  {
   "cell_type": "code",
   "execution_count": 69,
   "metadata": {},
   "outputs": [],
   "source": [
    "merge_wb_and_rhomis=pd.merge(data,country_level_indicators, on=\"country_year\")\n",
    "merge_wb_and_rhomis.to_csv(os.path.join(\"data\", \"processed\", \"point_data_processed.csv\"))"
   ]
  },
  {
   "cell_type": "code",
   "execution_count": null,
   "metadata": {},
   "outputs": [],
   "source": [
    " "
   ]
  },
  {
   "cell_type": "code",
   "execution_count": null,
   "metadata": {},
   "outputs": [],
   "source": []
  }
 ],
 "metadata": {
  "kernelspec": {
   "display_name": "Python 3",
   "language": "python",
   "name": "python3"
  },
  "language_info": {
   "codemirror_mode": {
    "name": "ipython",
    "version": 3
   },
   "file_extension": ".py",
   "mimetype": "text/x-python",
   "name": "python",
   "nbconvert_exporter": "python",
   "pygments_lexer": "ipython3",
   "version": "3.7.4"
  }
 },
 "nbformat": 4,
 "nbformat_minor": 4
}
