{
 "cells": [
  {
   "cell_type": "markdown",
   "metadata": {},
   "source": [
    "# Point Query and Zonal Statistics for Data #"
   ]
  },
  {
   "cell_type": "code",
   "execution_count": 56,
   "metadata": {},
   "outputs": [],
   "source": [
    "import pandas as pd\n",
    "import re\n",
    "import seaborn as sns\n",
    "import geopandas as gpd\n",
    "import matplotlib.pyplot as plt\n",
    "import rasterstats\n",
    "import os\n",
    "import numpy as np\n",
    "from rasterstats import zonal_stats # gives us raster summaries within a shapefile\n",
    "from rasterstats import point_query # gives us raster summaries within a shapefile\n",
    "from shapely.geometry import Polygon, Point\n",
    "import rasterio\n",
    "import shapely.speedups\n",
    "shapely.speedups.enable()"
   ]
  },
  {
   "cell_type": "code",
   "execution_count": 57,
   "metadata": {},
   "outputs": [
    {
     "data": {
      "text/plain": [
       "'C:\\\\Users\\\\lgorman\\\\OneDrive\\\\Desktop\\\\PhD\\\\Analysis'"
      ]
     },
     "execution_count": 57,
     "metadata": {},
     "output_type": "execute_result"
    }
   ],
   "source": [
    "#os.chdir('../../')\n",
    "#os.chdir('../')\n",
    "#os.chdir(\"Analysis\")\n",
    "os.getcwd()"
   ]
  },
  {
   "cell_type": "code",
   "execution_count": null,
   "metadata": {},
   "outputs": [],
   "source": []
  },
  {
   "cell_type": "code",
   "execution_count": null,
   "metadata": {},
   "outputs": [],
   "source": []
  },
  {
   "cell_type": "code",
   "execution_count": 58,
   "metadata": {},
   "outputs": [],
   "source": [
    "rasters_to_attach={\"education\":os.path.join(\"data\", \"raster\",\"ClimAfr21_education_index\",\"ClimAfr21_education index.tif\"),\n",
    "                  \"technological_capital\":os.path.join(\"data\", \"raster\",\"ClimAfr08_technological_capital_index\",\"ClimAfr08_technological capital index.tif\"),\n",
    "                  \"infrastructure\":os.path.join(\"data\", \"raster\",\"ClimAfr23_infrastructure_index\",\"ClimAfr23_infrastructure index.tif\"),\n",
    "                  \"conflictuality\":os.path.join(\"data\", \"raster\",\"ClimAfr27_conflictuality_index\",\"ClimAfr27_conflictuality index.tif\"),\n",
    "                  #\"soil\":os.path.join(\"data\", \"raster\",\"HWSD_RASTER\",\"hwsd.bil\"),\n",
    "                  \"cattle_density\":os.path.join(\"data\", \"raster\",\"cattle_density_map\",\"Cattle10km_AD_2010_v2_1.tif\"),\n",
    "                  \"Clim_Afr_AEZ\":os.path.join(\"data\", \"raster\",\"ClimAfr_AEZ\",\"ClimAf_1_1981_2050_lpjm_mir5_B1_AEZAI_ann_avgCUR05_10km.tif\"),\n",
    "                  \"financial_capital\":os.path.join(\"data\", \"raster\",\"ClimAfr09_financial_capital_index\",\"ClimAfr09_financial capital index.tif\"),\n",
    "                  \"rurality\":os.path.join(\"data\", \"raster\",\"ClimAfr13_rurality_index\",\"ClimAfr13_rurality index.tif\"),\n",
    "                  \"gender_gap\":os.path.join(\"data\", \"raster\",\"ClimAfr15_gender_gap_index\",\"ClimAfr15_gender gap index.tif\"),\n",
    "                  \"household_technological_capital\":os.path.join(\"data\", \"raster\",\"ClimAfr22_household_technology_index\",\"ClimAfr22_household technology index.tif\"),\n",
    "                  \"financial_development\":os.path.join(\"data\", \"raster\",\"ClimAfr24_financial_development_index\",\"ClimAfr24_financial development index.tif\"),\n",
    "                  \"richness\":os.path.join(\"data\", \"raster\",\"ClimAfr25_richness_index\",\"ClimAfr25_richness index.tif\"),\n",
    "                  \"governance\":os.path.join(\"data\", \"raster\",\"ClimAfr26_governance_index\",\"ClimAfr26_governance index.tif\"),\n",
    "                  #\"slope\":os.path.join(\"data\", \"raster\",\"global_slope_median\",\"plate09.bil\"),\n",
    "                  \"population_density\":os.path.join(\"data\", \"raster\",\"gridded_pop_world_population_density_2015\",\"gpw_v4_population_density_adjusted_to_2015_unwpp_country_totals_rev11_2015_2pt5_min.tif\"),\n",
    "                  \"institutional_capital\":os.path.join(\"data\", \"raster\",\"ClimAfr10_institutional_capital_index\",\"ClimAfr10_institutional capital index.tif\"),\n",
    "                  \"AEZ\":os.path.join(\"data\", \"raster\",\"AEZ_2009\",\"AEZ_FINAL.asc\"),\n",
    "                  \"time_to_market_20_k\":os.path.join(\"data\", \"raster\",\"Harvest_Choice_Market_Travel\",\"TravelTimeToMarket_SSA_GeoTiff\",\"traveltimetomarket_ssa_020k.tif\"),\n",
    "                  \"time_to_market_50_k\":os.path.join(\"data\", \"raster\",\"Harvest_Choice_Market_Travel\",\"TravelTimeToMarket_SSA_GeoTiff\",\"traveltimetomarket_ssa_050k.tif\"),\n",
    "                  \"time_to_market_100_k\":os.path.join(\"data\", \"raster\",\"Harvest_Choice_Market_Travel\",\"TravelTimeToMarket_SSA_GeoTiff\",\"traveltimetomarket_ssa_100k.tif\"),\n",
    "                  \"time_to_market_250_k\":os.path.join(\"data\", \"raster\",\"Harvest_Choice_Market_Travel\",\"TravelTimeToMarket_SSA_GeoTiff\",\"traveltimetomarket_ssa_250k.tif\"),\n",
    "                  \"time_to_market_500_k\":os.path.join(\"data\", \"raster\",\"Harvest_Choice_Market_Travel\",\"TravelTimeToMarket_SSA_GeoTiff\",\"traveltimetomarket_ssa_500k.tif\")}\n",
    "                  #\"pests_and_disease\":os.path.join(\"data\", \"raster\",\"Harvest_Choice_Pests_and_Disease\",\"Pests_and_Disease.tiff\")}\n",
    "\n",
    "raster_keys=[value for value, key in  rasters_to_attach.items()]\n",
    "raster_labels=[key for value, key in  rasters_to_attach.items()]\n"
   ]
  },
  {
   "cell_type": "code",
   "execution_count": 76,
   "metadata": {},
   "outputs": [],
   "source": [
    "AEZ_mapping_categories={101:\"Temperate / arid\",\n",
    "                    102:\"Temperate / Semi-arid\",\n",
    "                    103:\"Temperate / sub-humid\",\n",
    "                    104:\"Temperate / humid\",\n",
    "                    211:\"Subtropic - warm / arid\",\n",
    "                    212:\"Subtropic - warm / semiarid\",\n",
    "                    213:\"Subtropic - warm / subhumid\",\n",
    "                    214:\"Subtropic - warm / humid\",\n",
    "                    221:\"Subtropic - cool / arid\",\n",
    "                    222:\"Subtropic - cool / semiarid\",\n",
    "                    223:\"Subtropic - cool / subhumid\",\n",
    "                    224:\"Subtropic - cool / humid\",\n",
    "                    311:\"Tropic - warm / arid\",\n",
    "                    312:\"Tropic - warm / semiarid\",\n",
    "                    313:\"Tropic - warm / subhumid\",\n",
    "                    314:\"Tropic - warm / humid\",\n",
    "                    321:\"Tropic - cool / arid\",\n",
    "                    322:\"Tropic - cool / semiarid\",\n",
    "                    323:\"Tropic - cool / subhumid\",\n",
    "                    324:\"Tropic - cool / humid\",\n",
    "                    400:\"Boreal\"}\n"
   ]
  },
  {
   "cell_type": "code",
   "execution_count": 86,
   "metadata": {},
   "outputs": [],
   "source": [
    "AEZ_values=[index for index in AEZ_mapping_categories.values()]\n",
    "AEZ_keys=[index for index in AEZ_mapping_categories.keys()]\n",
    "\n",
    "pd.DataFrame({\"AEZ_Names\":AEZ_values,\"AEZ_Numbers\":AEZ_keys}).to_csv(os.path.join(\"data\",\"AEZ_Categories\",\"AEZ_categories.csv\" ))"
   ]
  },
  {
   "cell_type": "code",
   "execution_count": 60,
   "metadata": {},
   "outputs": [],
   "source": [
    "def extract_point_values(filepath,datatype, point_data):\n",
    "    with rasterio.open(filepath) as src:\n",
    "        # can check the profile and type of src, but effectively is an open file command\n",
    "        affine = src.transform # transforms the raster dataset into the coordinate reference system\n",
    "        \n",
    "        raster_array=rasterio.open(filepath).read(1) # why is this \"1\" here?\n",
    "        \n",
    "        if datatype!=\"AEZ\":\n",
    "            variable_AEZ=0\n",
    "        elif datatype!=\"Clim_Afr_AEZ\":\n",
    "            variable_AEZ=0\n",
    "        elif datatype==\"AEZ\":\n",
    "            variable_AEZ=1\n",
    "        elif datatype==\"Clim_Afr_AEZ\":\n",
    "            variable_AEZ=1\n",
    "        if variable_AEZ==0:\n",
    "            raster_array=raster_array.astype(float)\n",
    "        #raster_array[raster_array<-3.4e+38]=np.nan\n",
    "            raster_array[raster_array<-2e+9]=np.nan\n",
    "            nodata=np.nan\n",
    "        if variable_AEZ==1:\n",
    "            raster_array=raster_array.astype(int)\n",
    "            nodata=int(-9999)\n",
    "\n",
    "        point_query_data = pd.DataFrame(point_query(point_data,raster_array ,affine=affine, nodata=nodata, interpolate='nearest')) # calculates raster statistics within boundary of shapefile\n",
    "        raster_array=None\n",
    "    point_query_data=pd.concat([point_data,point_query_data],axis=1)\n",
    "    point_query_data.columns= [\"raster_level_\" + datatype if column==0 else column for column in point_query_data.columns]    \n",
    "    return point_query_data;"
   ]
  },
  {
   "cell_type": "code",
   "execution_count": 61,
   "metadata": {},
   "outputs": [],
   "source": [
    "def create_geo_data_frame_from_point_dataset (dataframe, crs, name_of_lat_column, name_of_lon_column):\n",
    "    latitude_not_null=dataframe.loc[:,name_of_lat_column].notnull()\n",
    "    longitude_not_null=dataframe.loc[:,name_of_lon_column].notnull()\n",
    "    dataframe=dataframe.loc[latitude_not_null&longitude_not_null,:]\n",
    "    \n",
    "    geometry=[Point(xy) for xy in zip(dataframe[name_of_lon_column], dataframe[name_of_lat_column])]\n",
    "    dataframe = gpd.GeoDataFrame(dataframe, geometry=geometry,crs=crs)\n",
    "    return dataframe;\n",
    "\n",
    "# defining a coordinate reference system \n",
    "crs={'init' :'epsg:4326'}\n",
    "\n",
    "\n",
    "points_rhomis_geodataframe=pd.read_csv(os.path.join(\"data\",\"rhomis_data\",\"RHoMIS_Indicators.csv\"), encoding=\"latin1\", low_memory=False)\n",
    "#points_rhomis_geodataframe=pd.read_csv(os.path.join(\"data\",\"processed\",\"rhomis_points_with_country_level.csv\"), encoding=\"latin1\", low_memory=False)\n",
    "name_of_lat_column=\"GPS_LAT\"\n",
    "name_of_lon_column=\"GPS_LON\"\n",
    "\n",
    "latitude_not_null=points_rhomis_geodataframe.loc[:,\"GPS_LAT\"].notnull()\n",
    "longitude_not_null=points_rhomis_geodataframe.loc[:,\"GPS_LON\"].notnull()\n",
    "points_rhomis_geodataframe=points_rhomis_geodataframe.loc[latitude_not_null&longitude_not_null,:]\n",
    "\n",
    "points_rhomis_geodataframe=create_geo_data_frame_from_point_dataset(dataframe=points_rhomis_geodataframe,\n",
    "                                                                   crs=crs,\n",
    "                                                                   name_of_lat_column=name_of_lat_column,\n",
    "                                                                   name_of_lon_column=name_of_lon_column)\n",
    "\n",
    "world_geopanda = gpd.read_file(gpd.datasets.get_path('naturalearth_lowres')) #continents dataframe\n",
    "africa_shapefile=world_geopanda.loc[world_geopanda[\"continent\"]==\"Africa\", :].envelope\n",
    "#africa_shapefile_index= [index for index in range(africa_shapefile.shape[0])]\n",
    "#africa_shapefile=gpd.GeoSeries(africa_shapefile, index=africa_shapefile_index)\n",
    "\n",
    "\n",
    "#points_rhomis_geodataframe.within(world_geopanda.loc[world_geopanda[\"continent\"]==\"Africa\",\"geometry\"]).\n",
    "world_geopanda.columns\n",
    "#points_rhomis_geodataframe.within(africa_shapefile)\n",
    "point_in_envelope=np.zeros(points_rhomis_geodataframe.shape[0], dtype=bool)\n",
    "#list(africa_shapefile.index)\n",
    "#gpd.GeoSeries(africa_shapefile.iloc[:,\"0\"])\n",
    "points_rhomis_geodataframe.reset_index(drop=True, inplace=True)\n",
    "africa_shapefile.reset_index(drop=True, inplace=True)\n",
    "africa_shapefile=gpd.GeoDataFrame(africa_shapefile, columns=[\"geometry\"])\n",
    "for points in points_rhomis_geodataframe.index:\n",
    "    temp_point=points_rhomis_geodataframe.loc[points,\"geometry\"]\n",
    "    for polygon in africa_shapefile.index:\n",
    "        if temp_point.within(africa_shapefile.loc[polygon,\"geometry\"])==True:\n",
    "            point_in_envelope[points]=True\n",
    "rhomis_in_africa=points_rhomis_geodataframe.loc[point_in_envelope,:]\n",
    "rhomis_in_africa.reset_index(drop=True, inplace=True)"
   ]
  },
  {
   "cell_type": "code",
   "execution_count": null,
   "metadata": {},
   "outputs": [],
   "source": []
  },
  {
   "cell_type": "code",
   "execution_count": null,
   "metadata": {},
   "outputs": [],
   "source": []
  },
  {
   "cell_type": "code",
   "execution_count": 13,
   "metadata": {},
   "outputs": [],
   "source": [
    "#polygon=1\n",
    "#point\n",
    "\n"
   ]
  },
  {
   "cell_type": "code",
   "execution_count": null,
   "metadata": {},
   "outputs": [],
   "source": []
  },
  {
   "cell_type": "code",
   "execution_count": 62,
   "metadata": {},
   "outputs": [
    {
     "name": "stdout",
     "output_type": "stream",
     "text": [
      "education\n",
      "technological_capital\n",
      "infrastructure\n",
      "conflictuality\n",
      "cattle_density\n",
      "Clim_Afr_AEZ\n",
      "financial_capital\n",
      "rurality\n",
      "gender_gap\n",
      "household_technological_capital\n",
      "financial_development\n",
      "richness\n",
      "governance\n",
      "population_density\n",
      "institutional_capital\n",
      "AEZ\n",
      "time_to_market_20_k\n",
      "time_to_market_50_k\n",
      "time_to_market_100_k\n",
      "time_to_market_250_k\n",
      "time_to_market_500_k\n"
     ]
    }
   ],
   "source": [
    "point_data_old=rhomis_in_africa\n",
    "#points_rhomis_geodataframe=None\n",
    "for loop_index in range(len(rasters_to_attach)):\n",
    "    print(raster_keys[loop_index])\n",
    "    point_data_new=extract_point_values(filepath=raster_labels[loop_index], datatype=raster_keys[loop_index], point_data=point_data_old)\n",
    "    point_data_old=point_data_new\n",
    "processed_file_name=\"point_data_\"+\"with_raster_values.csv\"\n",
    "point_data_old.to_csv(os.path.join(\"data\",\"processed\",processed_file_name))"
   ]
  },
  {
   "cell_type": "code",
   "execution_count": 63,
   "metadata": {},
   "outputs": [],
   "source": [
    "raster_level_columns=[\"raster_level_\"]\n",
    "\n",
    "all_columns=point_data_old.columns\n",
    "def find_and_return_existing_patterns(pattern,item_to_check):\n",
    "    test=re.search(pattern,item_to_check)\n",
    "    if test is not None:\n",
    "        return item_to_check;\n",
    "    if test is None:\n",
    "        return None;\n",
    "\n",
    "def grouping_pattern_in_list(pattern, list_to_check):\n",
    "    list_of_matches=[]\n",
    "    [list_of_matches.append(find_and_return_existing_patterns(pattern=pattern,item_to_check=item_to_check))  for item_to_check in list_to_check  if find_and_return_existing_patterns(pattern=pattern,item_to_check=item_to_check) is not None]\n",
    "    return list_of_matches;\n",
    "\n",
    "def grouping_multiple_patterns_in_list(list_of_patterns, list_to_check):\n",
    "    list_of_matches=[]\n",
    "    [list_of_matches.append(grouping_pattern_in_list(pattern=pattern, list_to_check=list_to_check))  for pattern in list_of_patterns]\n",
    "    unnested_list=[]\n",
    "    \n",
    "    for sublist in range(len(list_of_matches)):\n",
    "        temp_list=list_of_matches[sublist]\n",
    "        for item_in_sublist in temp_list:\n",
    "            unnested_list.append(item_in_sublist)        \n",
    "    return unnested_list;\n",
    "\n",
    "\n",
    "raster_columns=grouping_multiple_patterns_in_list(list_of_patterns=raster_level_columns, list_to_check=all_columns)\n",
    "columns_in_raster=list(map(lambda x: x in raster_columns, list(point_data_old.columns)))\n"
   ]
  },
  {
   "cell_type": "code",
   "execution_count": 64,
   "metadata": {},
   "outputs": [],
   "source": [
    "raster_data_temp=point_data_old.loc[:,columns_in_raster]"
   ]
  },
  {
   "cell_type": "code",
   "execution_count": 73,
   "metadata": {},
   "outputs": [],
   "source": [
    "raster_data_temp.isna().any(axis=1).value_counts() #checking how many rows have na values\n",
    "\n",
    "rows_to_keep=raster_data_temp.isna().any(axis=1)==False"
   ]
  },
  {
   "cell_type": "code",
   "execution_count": 74,
   "metadata": {},
   "outputs": [
    {
     "data": {
      "text/plain": [
       "(13742, 75)"
      ]
     },
     "execution_count": 74,
     "metadata": {},
     "output_type": "execute_result"
    }
   ],
   "source": [
    "no_raster_nas=point_data_old.loc[rows_to_keep,:]\n",
    "no_raster_nas.shape"
   ]
  },
  {
   "cell_type": "code",
   "execution_count": 75,
   "metadata": {},
   "outputs": [],
   "source": [
    "processed_file_name=\"point_data_\"+\"with_raster_values.csv\"\n",
    "no_raster_nas.to_csv(os.path.join(\"data\",\"processed\",processed_file_name))"
   ]
  },
  {
   "cell_type": "code",
   "execution_count": null,
   "metadata": {},
   "outputs": [],
   "source": []
  }
 ],
 "metadata": {
  "kernelspec": {
   "display_name": "Python 3",
   "language": "python",
   "name": "python3"
  },
  "language_info": {
   "codemirror_mode": {
    "name": "ipython",
    "version": 3
   },
   "file_extension": ".py",
   "mimetype": "text/x-python",
   "name": "python",
   "nbconvert_exporter": "python",
   "pygments_lexer": "ipython3",
   "version": "3.7.4"
  }
 },
 "nbformat": 4,
 "nbformat_minor": 4
}
